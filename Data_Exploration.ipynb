{
 "cells": [
  {
   "cell_type": "markdown",
   "id": "613ad79d",
   "metadata": {},
   "source": [
    "# Importazione librerie e setup"
   ]
  },
  {
   "cell_type": "markdown",
   "id": "cd97d744",
   "metadata": {},
   "source": [
    "**Setup**"
   ]
  },
  {
   "cell_type": "code",
   "execution_count": 3,
   "id": "28fb5b73",
   "metadata": {
    "ExecuteTime": {
     "end_time": "2022-01-18T17:38:32.100269Z",
     "start_time": "2022-01-18T17:38:32.090175Z"
    }
   },
   "outputs": [
    {
     "data": {
      "text/html": [
       "<style>.container { width:90% !important; }</style>"
      ],
      "text/plain": [
       "<IPython.core.display.HTML object>"
      ]
     },
     "metadata": {},
     "output_type": "display_data"
    }
   ],
   "source": [
    "from IPython.core.display import display, HTML\n",
    "\n",
    "display(HTML(\"<style>.container { width:90% !important; }</style>\"))\n",
    "\n",
    "path = './data/data_viz/'"
   ]
  },
  {
   "cell_type": "markdown",
   "id": "c24a7b64",
   "metadata": {},
   "source": [
    "**Importazione librerie**"
   ]
  },
  {
   "cell_type": "code",
   "execution_count": 4,
   "id": "4552d11f",
   "metadata": {
    "ExecuteTime": {
     "end_time": "2022-01-18T17:38:33.925993Z",
     "start_time": "2022-01-18T17:38:33.916868Z"
    }
   },
   "outputs": [],
   "source": [
    "# Manipolazione\n",
    "import pandas as pd\n",
    "from pandas.api.types import CategoricalDtype\n",
    "import datetime\n",
    "import numpy as np\n",
    "# Visualizzazione\n",
    "import plotly.graph_objects as go\n",
    "import seaborn as sns\n"
   ]
  },
  {
   "cell_type": "markdown",
   "id": "d0c2321a",
   "metadata": {
    "heading_collapsed": true
   },
   "source": [
    "# Datasets"
   ]
  },
  {
   "cell_type": "markdown",
   "id": "b7eb9db1",
   "metadata": {
    "heading_collapsed": true,
    "hidden": true
   },
   "source": [
    "## IQA vs time"
   ]
  },
  {
   "cell_type": "markdown",
   "id": "0b3db446",
   "metadata": {
    "heading_collapsed": true,
    "hidden": true
   },
   "source": [
    "### Importazione"
   ]
  },
  {
   "cell_type": "code",
   "execution_count": 5,
   "id": "4f0c8580",
   "metadata": {
    "ExecuteTime": {
     "end_time": "2022-01-18T17:41:21.078222Z",
     "start_time": "2022-01-18T17:41:21.028303Z"
    },
    "hidden": true
   },
   "outputs": [],
   "source": [
    "aria_milano_96_21 = pd.read_csv(f'{path}aria_milano_96_21_normalizzato.csv',\n",
    "                      parse_dates=['Data'],\n",
    "                      dayfirst=True,\n",
    "                      index_col = 0\n",
    "                     )"
   ]
  },
  {
   "cell_type": "markdown",
   "id": "e27c92ae",
   "metadata": {
    "heading_collapsed": true,
    "hidden": true
   },
   "source": [
    "### Correzione dei *datatypes*"
   ]
  },
  {
   "cell_type": "code",
   "execution_count": 8,
   "id": "e865f3a8",
   "metadata": {
    "ExecuteTime": {
     "end_time": "2022-01-18T17:43:34.275421Z",
     "start_time": "2022-01-18T17:43:34.255811Z"
    },
    "hidden": true
   },
   "outputs": [],
   "source": [
    "# Interi\n",
    "for col in [\n",
    "        'Biossido di Azoto_Count_sensori', 'Biossido di Azoto_Indice numerico',\n",
    "        'Biossido di Zolfo_Count_sensori', 'Biossido di Zolfo_Indice numerico',\n",
    "        'Ozono_Count_sensori', 'Ozono_Indice numerico',\n",
    "        'PM10 (SM2005)_Count_sensori', 'PM10 (SM2005)_Indice numerico',\n",
    "        'Particelle sospese PM2.5_Count_sensori',\n",
    "        'Particelle sospese PM2.5_Indice numerico', 'IQA_numerico',\n",
    "]:\n",
    "    aria_milano_96_21[col] = aria_milano_96_21[col].astype('Int64')\n",
    "\n",
    "# Float\n",
    "for col in [\n",
    "        'Biossido di Azoto_Valore_interesse',\n",
    "        'Biossido di Azoto_Valore_interesse_std',\n",
    "        'Biossido di Zolfo_Valore_interesse',\n",
    "        'Biossido di Zolfo_Valore_interesse_std', 'Ozono_Valore_interesse',\n",
    "        'Ozono_Valore_interesse_std', 'PM10 (SM2005)_Valore_interesse',\n",
    "        'PM10 (SM2005)_Valore_interesse_std',\n",
    "        'Particelle sospese PM2.5_Valore_interesse',\n",
    "        'Particelle sospese PM2.5_Valore_interesse_std'\n",
    "]:\n",
    "    aria_milano_96_21[col] = aria_milano_96_21[col].astype('float64')\n",
    "\n",
    "# Categoriche ordinali\n",
    "# Definisco le categorie e le ordino\n",
    "IQA_type = CategoricalDtype(categories=[\n",
    "    'Molto Buona', 'Buona', 'Accettabile', 'Scarsa', 'Molto Scarsa', 'ND'\n",
    "],\n",
    "                            ordered=True)\n",
    "# Assegno\n",
    "for col in [\n",
    "        'Biossido di Azoto_Indice testuale',\n",
    "        'Biossido di Zolfo_Indice testualee', 'Ozono_Indice testuale',\n",
    "        'PM10 (SM2005)_Indice testuale',\n",
    "        'Particelle sospese PM2.5_Indice testuale', 'IQA'\n",
    "]:\n",
    "    aria_milano_96_21[col] = aria_milano_96_21['IQA'].astype(IQA_type)"
   ]
  },
  {
   "cell_type": "code",
   "execution_count": 9,
   "id": "4da8da6c",
   "metadata": {
    "ExecuteTime": {
     "end_time": "2022-01-18T17:43:38.130403Z",
     "start_time": "2022-01-18T17:43:38.122307Z"
    },
    "hidden": true
   },
   "outputs": [
    {
     "data": {
      "text/plain": [
       "Data                                             datetime64[ns]\n",
       "Biossido di Azoto_Count_sensori                           Int64\n",
       "Biossido di Azoto_Indice numerico                         Int64\n",
       "Biossido di Azoto_Indice testuale                      category\n",
       "Biossido di Azoto_Valore_interesse                      float64\n",
       "Biossido di Azoto_Valore_interesse_std                  float64\n",
       "Biossido di Zolfo_Count_sensori                           Int64\n",
       "Biossido di Zolfo_Indice numerico                         Int64\n",
       "Biossido di Zolfo_Indice testuale                        object\n",
       "Biossido di Zolfo_Valore_interesse                      float64\n",
       "Biossido di Zolfo_Valore_interesse_std                  float64\n",
       "Ozono_Count_sensori                                       Int64\n",
       "Ozono_Indice numerico                                     Int64\n",
       "Ozono_Indice testuale                                  category\n",
       "Ozono_Valore_interesse                                  float64\n",
       "Ozono_Valore_interesse_std                              float64\n",
       "PM10 (SM2005)_Count_sensori                               Int64\n",
       "PM10 (SM2005)_Indice numerico                             Int64\n",
       "PM10 (SM2005)_Indice testuale                          category\n",
       "PM10 (SM2005)_Valore_interesse                          float64\n",
       "PM10 (SM2005)_Valore_interesse_std                      float64\n",
       "Particelle sospese PM2.5_Count_sensori                    Int64\n",
       "Particelle sospese PM2.5_Indice numerico                  Int64\n",
       "Particelle sospese PM2.5_Indice testuale               category\n",
       "Particelle sospese PM2.5_Valore_interesse               float64\n",
       "Particelle sospese PM2.5_Valore_interesse_std           float64\n",
       "IQA_numerico                                              Int64\n",
       "IQA                                                    category\n",
       "Biossido di Zolfo_Indice testualee                     category\n",
       "dtype: object"
      ]
     },
     "execution_count": 9,
     "metadata": {},
     "output_type": "execute_result"
    }
   ],
   "source": [
    "aria_milano_96_21.dtypes"
   ]
  },
  {
   "cell_type": "markdown",
   "id": "8d6a2605",
   "metadata": {},
   "source": [
    "# Visualizzazioni"
   ]
  },
  {
   "cell_type": "markdown",
   "id": "df19a189",
   "metadata": {},
   "source": [
    "## Heatmap"
   ]
  },
  {
   "cell_type": "code",
   "execution_count": 19,
   "id": "7988da2f",
   "metadata": {
    "ExecuteTime": {
     "end_time": "2022-01-17T00:04:33.196322Z",
     "start_time": "2022-01-17T00:04:33.180964Z"
    }
   },
   "outputs": [
    {
     "data": {
      "text/plain": [
       "0        2001\n",
       "1        2001\n",
       "2        2001\n",
       "3        2001\n",
       "4        2001\n",
       "         ... \n",
       "68998    2021\n",
       "68999    2021\n",
       "69000    2021\n",
       "69001    2021\n",
       "69002    2021\n",
       "Name: Data, Length: 69003, dtype: int64"
      ]
     },
     "execution_count": 19,
     "metadata": {},
     "output_type": "execute_result"
    }
   ],
   "source": [
    "aria_milano_01_21['Data'].dt.year"
   ]
  },
  {
   "cell_type": "code",
   "execution_count": null,
   "id": "c86293da",
   "metadata": {},
   "outputs": [],
   "source": [
    "#programmers = ['Alex','Nicole','Sara','Etienne','Chelsea','Jody','Marianne']\n",
    "#base = datetime.datetime.today()\n",
    "#z = np.random.poisson(size=(len(programmers), len(dates)))\n",
    "\n",
    "fig = go.Figure(data=go.Heatmap(\n",
    "        z=z,\n",
    "        x=aria_milano_01_21['Data'].dt.d,\n",
    "        y=aria_milano_01_21['Data'].dt.year,\n",
    "        colorscale='Viridis'))\n",
    "\n",
    "fig.update_layout(\n",
    "    title='GitHub commits per day',\n",
    "    xaxis_nticks=36)\n",
    "\n",
    "fig.show()"
   ]
  }
 ],
 "metadata": {
  "kernelspec": {
   "display_name": "Python 3 (ipykernel)",
   "language": "python",
   "name": "python3"
  },
  "language_info": {
   "codemirror_mode": {
    "name": "ipython",
    "version": 3
   },
   "file_extension": ".py",
   "mimetype": "text/x-python",
   "name": "python",
   "nbconvert_exporter": "python",
   "pygments_lexer": "ipython3",
   "version": "3.9.7"
  },
  "varInspector": {
   "cols": {
    "lenName": 16,
    "lenType": 16,
    "lenVar": 40
   },
   "kernels_config": {
    "python": {
     "delete_cmd_postfix": "",
     "delete_cmd_prefix": "del ",
     "library": "var_list.py",
     "varRefreshCmd": "print(var_dic_list())"
    },
    "r": {
     "delete_cmd_postfix": ") ",
     "delete_cmd_prefix": "rm(",
     "library": "var_list.r",
     "varRefreshCmd": "cat(var_dic_list()) "
    }
   },
   "types_to_exclude": [
    "module",
    "function",
    "builtin_function_or_method",
    "instance",
    "_Feature"
   ],
   "window_display": false
  }
 },
 "nbformat": 4,
 "nbformat_minor": 5
}
