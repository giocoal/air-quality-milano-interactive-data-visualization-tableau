{
 "cells": [
  {
   "cell_type": "markdown",
   "id": "17da6281",
   "metadata": {},
   "source": [
    "# Importazione librerie e setup"
   ]
  },
  {
   "cell_type": "code",
   "execution_count": 1,
   "id": "9d3725ae",
   "metadata": {
    "ExecuteTime": {
     "end_time": "2022-01-25T09:30:27.352000Z",
     "start_time": "2022-01-25T09:30:27.334967Z"
    }
   },
   "outputs": [
    {
     "data": {
      "text/html": [
       "<style>.container { width:90% !important; }</style>"
      ],
      "text/plain": [
       "<IPython.core.display.HTML object>"
      ]
     },
     "metadata": {},
     "output_type": "display_data"
    }
   ],
   "source": [
    "from IPython.core.display import display, HTML\n",
    "\n",
    "display(HTML(\"<style>.container { width:90% !important; }</style>\"))"
   ]
  },
  {
   "cell_type": "code",
   "execution_count": 2,
   "id": "416c0c91",
   "metadata": {
    "ExecuteTime": {
     "end_time": "2022-01-25T09:30:30.107163Z",
     "start_time": "2022-01-25T09:30:27.843129Z"
    }
   },
   "outputs": [],
   "source": [
    "import pandas as pd\n",
    "import numpy as np\n",
    "import seaborn as sns\n",
    "from pandas.api.types import CategoricalDtype"
   ]
  },
  {
   "cell_type": "code",
   "execution_count": 3,
   "id": "af572608",
   "metadata": {
    "ExecuteTime": {
     "end_time": "2022-01-25T09:30:30.155144Z",
     "start_time": "2022-01-25T09:30:30.141146Z"
    }
   },
   "outputs": [],
   "source": [
    "path = './data/'"
   ]
  },
  {
   "cell_type": "markdown",
   "id": "a4193c40",
   "metadata": {
    "tags": []
   },
   "source": [
    "# Conversione files e Importazione datasets"
   ]
  },
  {
   "cell_type": "markdown",
   "id": "e63d95f6",
   "metadata": {},
   "source": [
    "## Convesione da `.csv` a `.parquet`"
   ]
  },
  {
   "cell_type": "markdown",
   "id": "f1631d44",
   "metadata": {},
   "source": [
    "Data la grande dimensione di alcuni dei dataset utilizzati, questi verranno convertiti da `.csv` a `.parquet` (Apache Parquet Format)"
   ]
  },
  {
   "cell_type": "code",
   "execution_count": 4,
   "id": "3ee688d7",
   "metadata": {
    "ExecuteTime": {
     "end_time": "2022-01-25T09:30:32.300831Z",
     "start_time": "2022-01-25T09:30:32.287834Z"
    }
   },
   "outputs": [],
   "source": [
    "#df = pd.read_csv('./Datasets/Dati_sensori_meteo_2021.csv', low_memory=False)\n",
    "#df.to_parquet('./Datasets/Dati_sensori_meteo_2021.parquet')"
   ]
  },
  {
   "cell_type": "markdown",
   "id": "35f53d80",
   "metadata": {},
   "source": [
    "## Dataset Meteo - rilevazioni"
   ]
  },
  {
   "cell_type": "markdown",
   "id": "2362e611",
   "metadata": {},
   "source": [
    "### Attributi"
   ]
  },
  {
   "cell_type": "markdown",
   "id": "ecdfd91b",
   "metadata": {},
   "source": [
    "- IdSensore: \n",
    "    - Tipologia: Testo normale\n",
    "- Data: \n",
    "    - Data e ora, Marcatura oraria flessibile\n",
    "- Valore: \n",
    "    - Tipologia: numero\n",
    "    - Legenda: 9999 = dato mancante 888, 8888 = direzione vento variabile 777, 7777 = calma (solo per direzione di vento)\n",
    "- idOperatore\t\n",
    "    - *Molto utile per capire la dimensione del dato*\n",
    "    - LEGENDA: 1: Valore medio 3: Valore massimo 4: Valore cumulato (per la pioggia)\n",
    "    - Testo normale\n",
    "- Stato\t\n",
    "    - LEGENDA: VA, VV = dato valido NA, NV, NC = dato invalido NI = dato incerto ND = dato non disponibile\n",
    "    - Testo normale"
   ]
  },
  {
   "cell_type": "markdown",
   "id": "16d41c19",
   "metadata": {},
   "source": [
    "### Read_csv e group by"
   ]
  },
  {
   "cell_type": "code",
   "execution_count": 5,
   "id": "d5262d2d",
   "metadata": {
    "ExecuteTime": {
     "end_time": "2022-01-25T09:30:36.669258Z",
     "start_time": "2022-01-25T09:30:36.656219Z"
    }
   },
   "outputs": [],
   "source": [
    "meteo_dict = {} #creo dizionario che contiene tutti i dataframe\n",
    "meteo_dict_group = {} #creo dizionario che contiene tutti i dataframe"
   ]
  },
  {
   "cell_type": "code",
   "execution_count": 6,
   "id": "c56a27c2",
   "metadata": {
    "ExecuteTime": {
     "end_time": "2022-01-25T10:52:40.551020Z",
     "start_time": "2022-01-25T10:51:11.914020Z"
    }
   },
   "outputs": [
    {
     "data": {
      "text/plain": [
       "VA    36114726\n",
       "Name: Stato, dtype: int64"
      ]
     },
     "execution_count": 6,
     "metadata": {},
     "output_type": "execute_result"
    }
   ],
   "source": [
    "meteo_dict['meteo17'] = pd.read_parquet(f'{path}/data_meteo/Dati_sensori_meteo_2017.parquet')\n",
    "meteo_dict['meteo17']['Data_corretta'] = pd.to_datetime(meteo_dict['meteo17']['Data'], dayfirst = True)\n",
    "meteo_dict['meteo17'].drop('Data', axis = 1, inplace = True)\n",
    "meteo_dict['meteo17'].drop(meteo_dict['meteo17'][(meteo_dict['meteo17']['Valore'].isin([9999, 888, 8888, 777, 7777])) | (meteo_dict['meteo17']['idOperatore'].isin([3, 4])) | (meteo_dict['meteo17']['Stato'].isna())].index, inplace = True)\n",
    "meteo_dict['meteo17']['Stato'].value_counts(dropna = False)"
   ]
  },
  {
   "cell_type": "code",
   "execution_count": 7,
   "id": "eefa903f",
   "metadata": {},
   "outputs": [
    {
     "data": {
      "text/html": [
       "<div>\n",
       "<style scoped>\n",
       "    .dataframe tbody tr th:only-of-type {\n",
       "        vertical-align: middle;\n",
       "    }\n",
       "\n",
       "    .dataframe tbody tr th {\n",
       "        vertical-align: top;\n",
       "    }\n",
       "\n",
       "    .dataframe thead tr th {\n",
       "        text-align: left;\n",
       "    }\n",
       "</style>\n",
       "<table border=\"1\" class=\"dataframe\">\n",
       "  <thead>\n",
       "    <tr>\n",
       "      <th></th>\n",
       "      <th>IdSensore</th>\n",
       "      <th>Data_corretta</th>\n",
       "      <th colspan=\"4\" halign=\"left\">Valore</th>\n",
       "    </tr>\n",
       "    <tr>\n",
       "      <th></th>\n",
       "      <th></th>\n",
       "      <th></th>\n",
       "      <th>mean</th>\n",
       "      <th>std</th>\n",
       "      <th>max</th>\n",
       "      <th>count</th>\n",
       "    </tr>\n",
       "  </thead>\n",
       "  <tbody>\n",
       "    <tr>\n",
       "      <th>0</th>\n",
       "      <td>3</td>\n",
       "      <td>2017-01-01</td>\n",
       "      <td>37.054861</td>\n",
       "      <td>0.934560</td>\n",
       "      <td>38.3</td>\n",
       "      <td>144</td>\n",
       "    </tr>\n",
       "    <tr>\n",
       "      <th>1</th>\n",
       "      <td>3</td>\n",
       "      <td>2017-01-02</td>\n",
       "      <td>37.584028</td>\n",
       "      <td>0.618894</td>\n",
       "      <td>38.3</td>\n",
       "      <td>144</td>\n",
       "    </tr>\n",
       "    <tr>\n",
       "      <th>2</th>\n",
       "      <td>3</td>\n",
       "      <td>2017-01-03</td>\n",
       "      <td>37.242361</td>\n",
       "      <td>0.567238</td>\n",
       "      <td>38.2</td>\n",
       "      <td>144</td>\n",
       "    </tr>\n",
       "    <tr>\n",
       "      <th>3</th>\n",
       "      <td>3</td>\n",
       "      <td>2017-01-04</td>\n",
       "      <td>37.350694</td>\n",
       "      <td>0.591075</td>\n",
       "      <td>38.3</td>\n",
       "      <td>144</td>\n",
       "    </tr>\n",
       "    <tr>\n",
       "      <th>4</th>\n",
       "      <td>3</td>\n",
       "      <td>2017-01-05</td>\n",
       "      <td>37.583333</td>\n",
       "      <td>0.470084</td>\n",
       "      <td>38.3</td>\n",
       "      <td>144</td>\n",
       "    </tr>\n",
       "  </tbody>\n",
       "</table>\n",
       "</div>"
      ],
      "text/plain": [
       "  IdSensore Data_corretta     Valore                      \n",
       "                                mean       std   max count\n",
       "0         3    2017-01-01  37.054861  0.934560  38.3   144\n",
       "1         3    2017-01-02  37.584028  0.618894  38.3   144\n",
       "2         3    2017-01-03  37.242361  0.567238  38.2   144\n",
       "3         3    2017-01-04  37.350694  0.591075  38.3   144\n",
       "4         3    2017-01-05  37.583333  0.470084  38.3   144"
      ]
     },
     "execution_count": 7,
     "metadata": {},
     "output_type": "execute_result"
    }
   ],
   "source": [
    "meteo_dict_group['meteo17'] = meteo_dict['meteo17'][['IdSensore', 'Data_corretta', 'Valore']]\\\n",
    "                                                    .groupby(['IdSensore',  meteo_dict['meteo17']['Data_corretta'].dt.date])\\\n",
    "                                                    .agg({'Valore': ['mean', 'std', 'max', 'count']})\\\n",
    "                                                    .reset_index()\n",
    "meteo_dict_group['meteo17'].head()"
   ]
  },
  {
   "cell_type": "code",
   "execution_count": 8,
   "id": "0b3455f5",
   "metadata": {
    "ExecuteTime": {
     "end_time": "2022-01-25T10:04:28.327415Z",
     "start_time": "2022-01-25T10:03:05.814418Z"
    }
   },
   "outputs": [
    {
     "data": {
      "text/plain": [
       "VA    38836680\n",
       "Name: Stato, dtype: int64"
      ]
     },
     "execution_count": 8,
     "metadata": {},
     "output_type": "execute_result"
    }
   ],
   "source": [
    "meteo_dict['meteo18'] = pd.read_parquet(f'{path}/data_meteo/Dati_sensori_meteo_2018.parquet')\n",
    "meteo_dict['meteo18']['Data_corretta'] = pd.to_datetime(meteo_dict['meteo18']['Data'], dayfirst = True)\n",
    "meteo_dict['meteo18'].drop('Data', axis = 1, inplace = True)\n",
    "meteo_dict['meteo18'].drop(meteo_dict['meteo18'][(meteo_dict['meteo18']['Valore'].isin([9999, 888, 8888, 777, 7777])) | (meteo_dict['meteo18']['idOperatore'].isin([3, 4])) | (meteo_dict['meteo18']['Stato'].isna())].index, inplace = True)\n",
    "meteo_dict['meteo18']['Stato'].value_counts(dropna = False)"
   ]
  },
  {
   "cell_type": "code",
   "execution_count": 9,
   "id": "b88536eb",
   "metadata": {},
   "outputs": [
    {
     "data": {
      "text/html": [
       "<div>\n",
       "<style scoped>\n",
       "    .dataframe tbody tr th:only-of-type {\n",
       "        vertical-align: middle;\n",
       "    }\n",
       "\n",
       "    .dataframe tbody tr th {\n",
       "        vertical-align: top;\n",
       "    }\n",
       "\n",
       "    .dataframe thead tr th {\n",
       "        text-align: left;\n",
       "    }\n",
       "</style>\n",
       "<table border=\"1\" class=\"dataframe\">\n",
       "  <thead>\n",
       "    <tr>\n",
       "      <th></th>\n",
       "      <th>IdSensore</th>\n",
       "      <th>Data_corretta</th>\n",
       "      <th colspan=\"4\" halign=\"left\">Valore</th>\n",
       "    </tr>\n",
       "    <tr>\n",
       "      <th></th>\n",
       "      <th></th>\n",
       "      <th></th>\n",
       "      <th>mean</th>\n",
       "      <th>std</th>\n",
       "      <th>max</th>\n",
       "      <th>count</th>\n",
       "    </tr>\n",
       "  </thead>\n",
       "  <tbody>\n",
       "    <tr>\n",
       "      <th>0</th>\n",
       "      <td>3</td>\n",
       "      <td>2018-01-01</td>\n",
       "      <td>37.935417</td>\n",
       "      <td>0.482631</td>\n",
       "      <td>38.6</td>\n",
       "      <td>144</td>\n",
       "    </tr>\n",
       "    <tr>\n",
       "      <th>1</th>\n",
       "      <td>3</td>\n",
       "      <td>2018-01-02</td>\n",
       "      <td>37.547917</td>\n",
       "      <td>0.614848</td>\n",
       "      <td>38.5</td>\n",
       "      <td>144</td>\n",
       "    </tr>\n",
       "    <tr>\n",
       "      <th>2</th>\n",
       "      <td>3</td>\n",
       "      <td>2018-01-03</td>\n",
       "      <td>38.061806</td>\n",
       "      <td>0.269420</td>\n",
       "      <td>38.3</td>\n",
       "      <td>144</td>\n",
       "    </tr>\n",
       "    <tr>\n",
       "      <th>3</th>\n",
       "      <td>3</td>\n",
       "      <td>2018-01-04</td>\n",
       "      <td>38.085417</td>\n",
       "      <td>0.259092</td>\n",
       "      <td>38.3</td>\n",
       "      <td>144</td>\n",
       "    </tr>\n",
       "    <tr>\n",
       "      <th>4</th>\n",
       "      <td>3</td>\n",
       "      <td>2018-01-05</td>\n",
       "      <td>37.530556</td>\n",
       "      <td>0.466542</td>\n",
       "      <td>38.2</td>\n",
       "      <td>144</td>\n",
       "    </tr>\n",
       "  </tbody>\n",
       "</table>\n",
       "</div>"
      ],
      "text/plain": [
       "  IdSensore Data_corretta     Valore                      \n",
       "                                mean       std   max count\n",
       "0         3    2018-01-01  37.935417  0.482631  38.6   144\n",
       "1         3    2018-01-02  37.547917  0.614848  38.5   144\n",
       "2         3    2018-01-03  38.061806  0.269420  38.3   144\n",
       "3         3    2018-01-04  38.085417  0.259092  38.3   144\n",
       "4         3    2018-01-05  37.530556  0.466542  38.2   144"
      ]
     },
     "execution_count": 9,
     "metadata": {},
     "output_type": "execute_result"
    }
   ],
   "source": [
    "meteo_dict_group['meteo18'] = meteo_dict['meteo18'][['IdSensore', 'Data_corretta', 'Valore']]\\\n",
    "                                                    .groupby(['IdSensore',  meteo_dict['meteo18']['Data_corretta'].dt.date])\\\n",
    "                                                    .agg({'Valore': ['mean', 'std', 'max', 'count']})\\\n",
    "                                                    .reset_index()\n",
    "meteo_dict_group['meteo18'].head()"
   ]
  },
  {
   "cell_type": "code",
   "execution_count": 10,
   "id": "c0f6f625",
   "metadata": {
    "ExecuteTime": {
     "end_time": "2022-01-25T10:30:07.869562Z",
     "start_time": "2022-01-25T10:29:53.038564Z"
    }
   },
   "outputs": [
    {
     "data": {
      "text/plain": [
       "VA    39212039\n",
       "Name: Stato, dtype: int64"
      ]
     },
     "execution_count": 10,
     "metadata": {},
     "output_type": "execute_result"
    }
   ],
   "source": [
    "meteo_dict['meteo19'] = pd.read_parquet(f'{path}/data_meteo/Dati_sensori_meteo_2019.parquet')\n",
    "meteo_dict['meteo19']['Data_corretta'] = pd.to_datetime(meteo_dict['meteo19']['Data'], dayfirst = True)\n",
    "meteo_dict['meteo19'].drop('Data', axis = 1, inplace = True)\n",
    "meteo_dict['meteo19'].drop(meteo_dict['meteo19'][(meteo_dict['meteo19']['Valore'].isin([9999, 888, 8888, 777, 7777])) | (meteo_dict['meteo19']['idOperatore'].isin([3, 4])) | (meteo_dict['meteo19']['Stato'].isna())].index, inplace = True)\n",
    "meteo_dict['meteo19']['Stato'].value_counts(dropna = False)"
   ]
  },
  {
   "cell_type": "code",
   "execution_count": 11,
   "id": "0ba855a5",
   "metadata": {},
   "outputs": [
    {
     "data": {
      "text/html": [
       "<div>\n",
       "<style scoped>\n",
       "    .dataframe tbody tr th:only-of-type {\n",
       "        vertical-align: middle;\n",
       "    }\n",
       "\n",
       "    .dataframe tbody tr th {\n",
       "        vertical-align: top;\n",
       "    }\n",
       "\n",
       "    .dataframe thead tr th {\n",
       "        text-align: left;\n",
       "    }\n",
       "</style>\n",
       "<table border=\"1\" class=\"dataframe\">\n",
       "  <thead>\n",
       "    <tr>\n",
       "      <th></th>\n",
       "      <th>IdSensore</th>\n",
       "      <th>Data_corretta</th>\n",
       "      <th colspan=\"4\" halign=\"left\">Valore</th>\n",
       "    </tr>\n",
       "    <tr>\n",
       "      <th></th>\n",
       "      <th></th>\n",
       "      <th></th>\n",
       "      <th>mean</th>\n",
       "      <th>std</th>\n",
       "      <th>max</th>\n",
       "      <th>count</th>\n",
       "    </tr>\n",
       "  </thead>\n",
       "  <tbody>\n",
       "    <tr>\n",
       "      <th>0</th>\n",
       "      <td>3</td>\n",
       "      <td>2019-01-01</td>\n",
       "      <td>37.473611</td>\n",
       "      <td>0.924491</td>\n",
       "      <td>38.7</td>\n",
       "      <td>144</td>\n",
       "    </tr>\n",
       "    <tr>\n",
       "      <th>1</th>\n",
       "      <td>3</td>\n",
       "      <td>2019-01-02</td>\n",
       "      <td>37.147222</td>\n",
       "      <td>0.528879</td>\n",
       "      <td>38.3</td>\n",
       "      <td>144</td>\n",
       "    </tr>\n",
       "    <tr>\n",
       "      <th>2</th>\n",
       "      <td>3</td>\n",
       "      <td>2019-01-03</td>\n",
       "      <td>37.104167</td>\n",
       "      <td>0.301946</td>\n",
       "      <td>38.2</td>\n",
       "      <td>144</td>\n",
       "    </tr>\n",
       "    <tr>\n",
       "      <th>3</th>\n",
       "      <td>3</td>\n",
       "      <td>2019-01-04</td>\n",
       "      <td>37.143750</td>\n",
       "      <td>0.427502</td>\n",
       "      <td>38.6</td>\n",
       "      <td>144</td>\n",
       "    </tr>\n",
       "    <tr>\n",
       "      <th>4</th>\n",
       "      <td>3</td>\n",
       "      <td>2019-01-05</td>\n",
       "      <td>36.729861</td>\n",
       "      <td>0.319982</td>\n",
       "      <td>37.6</td>\n",
       "      <td>144</td>\n",
       "    </tr>\n",
       "  </tbody>\n",
       "</table>\n",
       "</div>"
      ],
      "text/plain": [
       "  IdSensore Data_corretta     Valore                      \n",
       "                                mean       std   max count\n",
       "0         3    2019-01-01  37.473611  0.924491  38.7   144\n",
       "1         3    2019-01-02  37.147222  0.528879  38.3   144\n",
       "2         3    2019-01-03  37.104167  0.301946  38.2   144\n",
       "3         3    2019-01-04  37.143750  0.427502  38.6   144\n",
       "4         3    2019-01-05  36.729861  0.319982  37.6   144"
      ]
     },
     "execution_count": 11,
     "metadata": {},
     "output_type": "execute_result"
    }
   ],
   "source": [
    "meteo_dict_group['meteo19'] = meteo_dict['meteo19'][['IdSensore', 'Data_corretta', 'Valore']]\\\n",
    "                                                    .groupby(['IdSensore',  meteo_dict['meteo19']['Data_corretta'].dt.date])\\\n",
    "                                                    .agg({'Valore': ['mean', 'std', 'max', 'count']})\\\n",
    "                                                    .reset_index()\n",
    "meteo_dict_group['meteo19'].head()"
   ]
  },
  {
   "cell_type": "code",
   "execution_count": 12,
   "id": "90d07da2",
   "metadata": {
    "ExecuteTime": {
     "end_time": "2022-01-25T10:30:07.869562Z",
     "start_time": "2022-01-25T10:29:53.038564Z"
    }
   },
   "outputs": [
    {
     "data": {
      "text/plain": [
       "VA    61491589\n",
       "Name: Stato, dtype: int64"
      ]
     },
     "execution_count": 12,
     "metadata": {},
     "output_type": "execute_result"
    }
   ],
   "source": [
    "meteo_dict['meteo20'] = pd.read_parquet(f'{path}/data_meteo/Dati_sensori_meteo_2020.parquet')\n",
    "meteo_dict['meteo20']['Data_corretta'] = pd.to_datetime(meteo_dict['meteo20']['Data'], dayfirst = True)\n",
    "meteo_dict['meteo20'].drop('Data', axis = 1, inplace = True)\n",
    "meteo_dict['meteo20'].drop(meteo_dict['meteo20'][(meteo_dict['meteo20']['Valore'].isin([9999, 888, 8888, 777, 7777])) | (meteo_dict['meteo20']['idOperatore'].isin([3, 4])) | (meteo_dict['meteo20']['Stato'].isna())].index, inplace = True)\n",
    "meteo_dict['meteo20']['Stato'].value_counts(dropna = False)"
   ]
  },
  {
   "cell_type": "code",
   "execution_count": 13,
   "id": "b17a70c4",
   "metadata": {},
   "outputs": [
    {
     "data": {
      "text/html": [
       "<div>\n",
       "<style scoped>\n",
       "    .dataframe tbody tr th:only-of-type {\n",
       "        vertical-align: middle;\n",
       "    }\n",
       "\n",
       "    .dataframe tbody tr th {\n",
       "        vertical-align: top;\n",
       "    }\n",
       "\n",
       "    .dataframe thead tr th {\n",
       "        text-align: left;\n",
       "    }\n",
       "</style>\n",
       "<table border=\"1\" class=\"dataframe\">\n",
       "  <thead>\n",
       "    <tr>\n",
       "      <th></th>\n",
       "      <th>IdSensore</th>\n",
       "      <th>Data_corretta</th>\n",
       "      <th colspan=\"4\" halign=\"left\">Valore</th>\n",
       "    </tr>\n",
       "    <tr>\n",
       "      <th></th>\n",
       "      <th></th>\n",
       "      <th></th>\n",
       "      <th>mean</th>\n",
       "      <th>std</th>\n",
       "      <th>max</th>\n",
       "      <th>count</th>\n",
       "    </tr>\n",
       "  </thead>\n",
       "  <tbody>\n",
       "    <tr>\n",
       "      <th>0</th>\n",
       "      <td>3</td>\n",
       "      <td>2020-01-01</td>\n",
       "      <td>35.312500</td>\n",
       "      <td>0.888692</td>\n",
       "      <td>37.0</td>\n",
       "      <td>144</td>\n",
       "    </tr>\n",
       "    <tr>\n",
       "      <th>1</th>\n",
       "      <td>3</td>\n",
       "      <td>2020-01-02</td>\n",
       "      <td>35.444444</td>\n",
       "      <td>0.782481</td>\n",
       "      <td>37.0</td>\n",
       "      <td>144</td>\n",
       "    </tr>\n",
       "    <tr>\n",
       "      <th>2</th>\n",
       "      <td>3</td>\n",
       "      <td>2020-01-03</td>\n",
       "      <td>35.625000</td>\n",
       "      <td>0.553122</td>\n",
       "      <td>37.0</td>\n",
       "      <td>144</td>\n",
       "    </tr>\n",
       "    <tr>\n",
       "      <th>3</th>\n",
       "      <td>3</td>\n",
       "      <td>2020-01-04</td>\n",
       "      <td>34.902778</td>\n",
       "      <td>0.838909</td>\n",
       "      <td>38.0</td>\n",
       "      <td>144</td>\n",
       "    </tr>\n",
       "    <tr>\n",
       "      <th>4</th>\n",
       "      <td>3</td>\n",
       "      <td>2020-01-05</td>\n",
       "      <td>34.770833</td>\n",
       "      <td>0.763858</td>\n",
       "      <td>37.0</td>\n",
       "      <td>144</td>\n",
       "    </tr>\n",
       "  </tbody>\n",
       "</table>\n",
       "</div>"
      ],
      "text/plain": [
       "  IdSensore Data_corretta     Valore                      \n",
       "                                mean       std   max count\n",
       "0         3    2020-01-01  35.312500  0.888692  37.0   144\n",
       "1         3    2020-01-02  35.444444  0.782481  37.0   144\n",
       "2         3    2020-01-03  35.625000  0.553122  37.0   144\n",
       "3         3    2020-01-04  34.902778  0.838909  38.0   144\n",
       "4         3    2020-01-05  34.770833  0.763858  37.0   144"
      ]
     },
     "execution_count": 13,
     "metadata": {},
     "output_type": "execute_result"
    }
   ],
   "source": [
    "meteo_dict_group['meteo20'] = meteo_dict['meteo20'][['IdSensore', 'Data_corretta', 'Valore']]\\\n",
    "                                                    .groupby(['IdSensore',  meteo_dict['meteo20']['Data_corretta'].dt.date])\\\n",
    "                                                    .agg({'Valore': ['mean', 'std', 'max', 'count']})\\\n",
    "                                                    .reset_index()\n",
    "meteo_dict_group['meteo20'].head()"
   ]
  },
  {
   "cell_type": "code",
   "execution_count": 14,
   "id": "e442883b",
   "metadata": {
    "ExecuteTime": {
     "end_time": "2022-01-25T10:30:07.869562Z",
     "start_time": "2022-01-25T10:29:53.038564Z"
    }
   },
   "outputs": [
    {
     "data": {
      "text/plain": [
       "VA    40009821\n",
       "Name: Stato, dtype: int64"
      ]
     },
     "execution_count": 14,
     "metadata": {},
     "output_type": "execute_result"
    }
   ],
   "source": [
    "meteo_dict['meteo21'] = pd.read_parquet(f'{path}/data_meteo/Dati_sensori_meteo_2021.parquet')\n",
    "meteo_dict['meteo21']['Data_corretta'] = pd.to_datetime(meteo_dict['meteo21']['Data'], dayfirst = True)\n",
    "meteo_dict['meteo21'].drop('Data', axis = 1, inplace = True)\n",
    "meteo_dict['meteo21'].drop(meteo_dict['meteo21'][(meteo_dict['meteo21']['Valore'].isin([9999, 888, 8888, 777, 7777])) | (meteo_dict['meteo21']['idOperatore'].isin([3, 4])) | (meteo_dict['meteo21']['Stato'].isna())].index, inplace = True)\n",
    "meteo_dict['meteo21']['Stato'].value_counts(dropna = False)"
   ]
  },
  {
   "cell_type": "code",
   "execution_count": 15,
   "id": "66e28e91",
   "metadata": {},
   "outputs": [
    {
     "data": {
      "text/html": [
       "<div>\n",
       "<style scoped>\n",
       "    .dataframe tbody tr th:only-of-type {\n",
       "        vertical-align: middle;\n",
       "    }\n",
       "\n",
       "    .dataframe tbody tr th {\n",
       "        vertical-align: top;\n",
       "    }\n",
       "\n",
       "    .dataframe thead tr th {\n",
       "        text-align: left;\n",
       "    }\n",
       "</style>\n",
       "<table border=\"1\" class=\"dataframe\">\n",
       "  <thead>\n",
       "    <tr>\n",
       "      <th></th>\n",
       "      <th>IdSensore</th>\n",
       "      <th>Data_corretta</th>\n",
       "      <th colspan=\"4\" halign=\"left\">Valore</th>\n",
       "    </tr>\n",
       "    <tr>\n",
       "      <th></th>\n",
       "      <th></th>\n",
       "      <th></th>\n",
       "      <th>mean</th>\n",
       "      <th>std</th>\n",
       "      <th>max</th>\n",
       "      <th>count</th>\n",
       "    </tr>\n",
       "  </thead>\n",
       "  <tbody>\n",
       "    <tr>\n",
       "      <th>0</th>\n",
       "      <td>3</td>\n",
       "      <td>2021-01-01</td>\n",
       "      <td>34.878378</td>\n",
       "      <td>0.329079</td>\n",
       "      <td>35.0</td>\n",
       "      <td>74</td>\n",
       "    </tr>\n",
       "    <tr>\n",
       "      <th>1</th>\n",
       "      <td>3</td>\n",
       "      <td>2021-01-02</td>\n",
       "      <td>34.814815</td>\n",
       "      <td>0.390259</td>\n",
       "      <td>35.0</td>\n",
       "      <td>108</td>\n",
       "    </tr>\n",
       "    <tr>\n",
       "      <th>2</th>\n",
       "      <td>3</td>\n",
       "      <td>2021-01-03</td>\n",
       "      <td>34.925234</td>\n",
       "      <td>0.327971</td>\n",
       "      <td>36.0</td>\n",
       "      <td>107</td>\n",
       "    </tr>\n",
       "    <tr>\n",
       "      <th>3</th>\n",
       "      <td>3</td>\n",
       "      <td>2021-01-04</td>\n",
       "      <td>33.962264</td>\n",
       "      <td>0.567778</td>\n",
       "      <td>35.0</td>\n",
       "      <td>106</td>\n",
       "    </tr>\n",
       "    <tr>\n",
       "      <th>4</th>\n",
       "      <td>3</td>\n",
       "      <td>2021-01-05</td>\n",
       "      <td>34.280374</td>\n",
       "      <td>0.451296</td>\n",
       "      <td>35.0</td>\n",
       "      <td>107</td>\n",
       "    </tr>\n",
       "  </tbody>\n",
       "</table>\n",
       "</div>"
      ],
      "text/plain": [
       "  IdSensore Data_corretta     Valore                      \n",
       "                                mean       std   max count\n",
       "0         3    2021-01-01  34.878378  0.329079  35.0    74\n",
       "1         3    2021-01-02  34.814815  0.390259  35.0   108\n",
       "2         3    2021-01-03  34.925234  0.327971  36.0   107\n",
       "3         3    2021-01-04  33.962264  0.567778  35.0   106\n",
       "4         3    2021-01-05  34.280374  0.451296  35.0   107"
      ]
     },
     "execution_count": 15,
     "metadata": {},
     "output_type": "execute_result"
    }
   ],
   "source": [
    "meteo_dict_group['meteo21'] = meteo_dict['meteo21'][['IdSensore', 'Data_corretta', 'Valore']]\\\n",
    "                                                    .groupby(['IdSensore',  meteo_dict['meteo21']['Data_corretta'].dt.date])\\\n",
    "                                                    .agg({'Valore': ['mean', 'std', 'max', 'count']})\\\n",
    "                                                    .reset_index()\n",
    "meteo_dict_group['meteo21'].head()"
   ]
  },
  {
   "cell_type": "markdown",
   "id": "ef527439",
   "metadata": {},
   "source": [
    "# Concatenazione ed esportazione"
   ]
  },
  {
   "cell_type": "code",
   "execution_count": 19,
   "id": "f379c045",
   "metadata": {
    "ExecuteTime": {
     "end_time": "2022-01-25T09:45:32.907354Z",
     "start_time": "2022-01-25T09:45:22.097351Z"
    }
   },
   "outputs": [
    {
     "data": {
      "text/html": [
       "<div>\n",
       "<style scoped>\n",
       "    .dataframe tbody tr th:only-of-type {\n",
       "        vertical-align: middle;\n",
       "    }\n",
       "\n",
       "    .dataframe tbody tr th {\n",
       "        vertical-align: top;\n",
       "    }\n",
       "\n",
       "    .dataframe thead th {\n",
       "        text-align: right;\n",
       "    }\n",
       "</style>\n",
       "<table border=\"1\" class=\"dataframe\">\n",
       "  <thead>\n",
       "    <tr style=\"text-align: right;\">\n",
       "      <th></th>\n",
       "      <th>IdSensore</th>\n",
       "      <th>Data</th>\n",
       "      <th>Valore_mean</th>\n",
       "      <th>Valore_std</th>\n",
       "      <th>Valore_max</th>\n",
       "      <th>Valore_count</th>\n",
       "    </tr>\n",
       "  </thead>\n",
       "  <tbody>\n",
       "    <tr>\n",
       "      <th>0</th>\n",
       "      <td>3</td>\n",
       "      <td>2017-01-01</td>\n",
       "      <td>37.054861</td>\n",
       "      <td>0.934560</td>\n",
       "      <td>38.3</td>\n",
       "      <td>144</td>\n",
       "    </tr>\n",
       "    <tr>\n",
       "      <th>1</th>\n",
       "      <td>3</td>\n",
       "      <td>2017-01-02</td>\n",
       "      <td>37.584028</td>\n",
       "      <td>0.618894</td>\n",
       "      <td>38.3</td>\n",
       "      <td>144</td>\n",
       "    </tr>\n",
       "    <tr>\n",
       "      <th>2</th>\n",
       "      <td>3</td>\n",
       "      <td>2017-01-03</td>\n",
       "      <td>37.242361</td>\n",
       "      <td>0.567238</td>\n",
       "      <td>38.2</td>\n",
       "      <td>144</td>\n",
       "    </tr>\n",
       "    <tr>\n",
       "      <th>3</th>\n",
       "      <td>3</td>\n",
       "      <td>2017-01-04</td>\n",
       "      <td>37.350694</td>\n",
       "      <td>0.591075</td>\n",
       "      <td>38.3</td>\n",
       "      <td>144</td>\n",
       "    </tr>\n",
       "    <tr>\n",
       "      <th>4</th>\n",
       "      <td>3</td>\n",
       "      <td>2017-01-05</td>\n",
       "      <td>37.583333</td>\n",
       "      <td>0.470084</td>\n",
       "      <td>38.3</td>\n",
       "      <td>144</td>\n",
       "    </tr>\n",
       "  </tbody>\n",
       "</table>\n",
       "</div>"
      ],
      "text/plain": [
       "   IdSensore        Data  Valore_mean  Valore_std  Valore_max  Valore_count\n",
       "0          3  2017-01-01    37.054861    0.934560        38.3           144\n",
       "1          3  2017-01-02    37.584028    0.618894        38.3           144\n",
       "2          3  2017-01-03    37.242361    0.567238        38.2           144\n",
       "3          3  2017-01-04    37.350694    0.591075        38.3           144\n",
       "4          3  2017-01-05    37.583333    0.470084        38.3           144"
      ]
     },
     "execution_count": 19,
     "metadata": {},
     "output_type": "execute_result"
    }
   ],
   "source": [
    "#meteo_tot_group = pd.concat(meteo_dict_group).reset_index(drop=True)\n",
    "meteo_tot_group.columns = ['IdSensore', 'Data', 'Valore_mean', 'Valore_std', 'Valore_max', 'Valore_count']\n",
    "meteo_tot_group.head()"
   ]
  },
  {
   "cell_type": "code",
   "execution_count": 20,
   "id": "2b94f73f",
   "metadata": {},
   "outputs": [],
   "source": [
    "meteo_tot_group.to_csv(f'{path}/data_meteo/meteo_group_17_21.csv')"
   ]
  }
 ],
 "metadata": {
  "kernelspec": {
   "display_name": "Python 3 (ipykernel)",
   "language": "python",
   "name": "python3"
  },
  "language_info": {
   "codemirror_mode": {
    "name": "ipython",
    "version": 3
   },
   "file_extension": ".py",
   "mimetype": "text/x-python",
   "name": "python",
   "nbconvert_exporter": "python",
   "pygments_lexer": "ipython3",
   "version": "3.9.7"
  },
  "toc": {
   "base_numbering": 1,
   "nav_menu": {},
   "number_sections": true,
   "sideBar": true,
   "skip_h1_title": false,
   "title_cell": "Table of Contents",
   "title_sidebar": "Contents",
   "toc_cell": false,
   "toc_position": {
    "height": "calc(100% - 180px)",
    "left": "10px",
    "top": "150px",
    "width": "174.825px"
   },
   "toc_section_display": true,
   "toc_window_display": false
  },
  "varInspector": {
   "cols": {
    "lenName": 16,
    "lenType": 16,
    "lenVar": 40
   },
   "kernels_config": {
    "python": {
     "delete_cmd_postfix": "",
     "delete_cmd_prefix": "del ",
     "library": "var_list.py",
     "varRefreshCmd": "print(var_dic_list())"
    },
    "r": {
     "delete_cmd_postfix": ") ",
     "delete_cmd_prefix": "rm(",
     "library": "var_list.r",
     "varRefreshCmd": "cat(var_dic_list()) "
    }
   },
   "position": {
    "height": "695.85px",
    "left": "1184.2px",
    "right": "20px",
    "top": "87px",
    "width": "313px"
   },
   "types_to_exclude": [
    "module",
    "function",
    "builtin_function_or_method",
    "instance",
    "_Feature"
   ],
   "window_display": false
  }
 },
 "nbformat": 4,
 "nbformat_minor": 5
}
