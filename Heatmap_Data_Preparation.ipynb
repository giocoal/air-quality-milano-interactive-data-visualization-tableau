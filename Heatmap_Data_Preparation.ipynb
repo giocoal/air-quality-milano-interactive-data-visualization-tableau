{
 "cells": [
  {
   "cell_type": "markdown",
   "id": "17da6281",
   "metadata": {},
   "source": [
    "# Importazione librerie e setup"
   ]
  },
  {
   "cell_type": "code",
   "execution_count": 1,
   "id": "9d3725ae",
   "metadata": {
    "ExecuteTime": {
     "end_time": "2022-01-21T14:42:20.635288Z",
     "start_time": "2022-01-21T14:42:20.611319Z"
    }
   },
   "outputs": [
    {
     "data": {
      "text/html": [
       "<style>.container { width:90% !important; }</style>"
      ],
      "text/plain": [
       "<IPython.core.display.HTML object>"
      ]
     },
     "metadata": {},
     "output_type": "display_data"
    }
   ],
   "source": [
    "from IPython.core.display import display, HTML\n",
    "\n",
    "display(HTML(\"<style>.container { width:90% !important; }</style>\"))"
   ]
  },
  {
   "cell_type": "code",
   "execution_count": 2,
   "id": "416c0c91",
   "metadata": {
    "ExecuteTime": {
     "end_time": "2022-01-24T16:07:23.503672Z",
     "start_time": "2022-01-24T16:07:22.213800Z"
    }
   },
   "outputs": [],
   "source": [
    "import pandas as pd\n",
    "import numpy as np\n",
    "import seaborn as sns\n",
    "from pandas.api.types import CategoricalDtype"
   ]
  },
  {
   "cell_type": "code",
   "execution_count": 3,
   "id": "af572608",
   "metadata": {
    "ExecuteTime": {
     "end_time": "2022-01-24T16:07:23.550658Z",
     "start_time": "2022-01-24T16:07:23.536019Z"
    }
   },
   "outputs": [],
   "source": [
    "path = './data/'\n",
    "#meteo_21 = pd.read_parquet(f'{path}/data_meteo/Dati_sensori_meteo_2021.parquet')\n",
    "#meteo_21.head()"
   ]
  },
  {
   "cell_type": "markdown",
   "id": "a4193c40",
   "metadata": {
    "heading_collapsed": true,
    "tags": []
   },
   "source": [
    "# Conversione files e Importazione datasets"
   ]
  },
  {
   "cell_type": "markdown",
   "id": "e63d95f6",
   "metadata": {
    "heading_collapsed": true,
    "hidden": true
   },
   "source": [
    "## Convesione da `.csv` a `.parquet`"
   ]
  },
  {
   "cell_type": "markdown",
   "id": "f1631d44",
   "metadata": {
    "hidden": true
   },
   "source": [
    "Data la grande dimensione di alcuni dei dataset utilizzati, questi verranno convertiti da `.csv` a `.parquet` (Apache Parquet Format)"
   ]
  },
  {
   "cell_type": "code",
   "execution_count": 4,
   "id": "3ee688d7",
   "metadata": {
    "ExecuteTime": {
     "end_time": "2022-01-21T14:42:22.810286Z",
     "start_time": "2022-01-21T14:42:22.796287Z"
    },
    "hidden": true
   },
   "outputs": [],
   "source": [
    "#df = pd.read_csv('./Datasets/Dati_sensori_meteo_2021.csv', low_memory=False)\n",
    "#df.to_parquet('./Datasets/Dati_sensori_meteo_2021.parquet')"
   ]
  },
  {
   "cell_type": "markdown",
   "id": "35f53d80",
   "metadata": {
    "heading_collapsed": true,
    "hidden": true
   },
   "source": [
    "## Dataset Meteo - rilevazioni"
   ]
  },
  {
   "cell_type": "markdown",
   "id": "2362e611",
   "metadata": {
    "hidden": true
   },
   "source": [
    "### Attributi"
   ]
  },
  {
   "cell_type": "markdown",
   "id": "ecdfd91b",
   "metadata": {
    "hidden": true
   },
   "source": [
    "- IdSensore: \n",
    "    - Tipologia: Testo normale\n",
    "- Data: \n",
    "    - Data e ora, Marcatura oraria flessibile\n",
    "- Valore: \n",
    "    - Tipologia: numero\n",
    "    - Legenda: 9999 = dato mancante 888, 8888 = direzione vento variabile 777, 7777 = calma (solo per direzione di vento)\n",
    "- idOperatore\t\n",
    "    - *Molto utile per capire la dimensione del dato*\n",
    "    - LEGENDA: 1: Valore medio 3: Valore massimo 4: Valore cumulato (per la pioggia)\n",
    "    - Testo normale\n",
    "- Stato\t\n",
    "    - LEGENDA: VA, VV = dato valido NA, NV, NC = dato invalido NI = dato incerto ND = dato non disponibile\n",
    "    - Testo normale"
   ]
  },
  {
   "cell_type": "markdown",
   "id": "16d41c19",
   "metadata": {
    "hidden": true
   },
   "source": [
    "### Read_csv"
   ]
  },
  {
   "cell_type": "markdown",
   "id": "f8bfa39c",
   "metadata": {
    "heading_collapsed": true,
    "hidden": true
   },
   "source": [
    "## Dataset Meteo - sensori"
   ]
  },
  {
   "cell_type": "markdown",
   "id": "f624b390",
   "metadata": {
    "hidden": true
   },
   "source": [
    "### Attributi"
   ]
  },
  {
   "cell_type": "markdown",
   "id": "ac4dca40",
   "metadata": {
    "hidden": true
   },
   "source": [
    "- **IdSensore**\n",
    "    - Foreign Key con vincolo di integrità referenziale a `IdSensore` di meteo_21\n",
    "    - Testo normale\n",
    "- **Tipologia**\n",
    "    - Grandezza misurata\n",
    "    - Testo normale\n",
    "- **Unità DiMisura**\n",
    "    - Unità di misura della grandezza\n",
    "    - Testo normale\n",
    "- IdStazione\t\n",
    "    - Numero identificativo della stazione (penso perchè ogni stazione può avere più sensori)\n",
    "    - Testo normale\n",
    "- NomeStazione\t\n",
    "    - Località della stazione (Spesso è 'Comune via' o 'Comune località)'\n",
    "    - Testo normale\n",
    "- Quota\t\n",
    "    - Altitudine\n",
    "    - Numero\n",
    "- Provincia\n",
    "    - Sigla della provincia\n",
    "    - Testo normale\n",
    "- DataStart\t\n",
    "    - Data e ora\n",
    "- DataStop\t\n",
    "    - Data e ora\n",
    "- Storico\t\n",
    "    - Noto che assume valori N e S ma non capisco cosa sia\n",
    "    - Testo normale\n",
    "- UTM_Nord\t\n",
    "    - Coordinata UTM nord (le cordinate utm permettono di individuare univocamente un punto sulla cartina terrestre)\n",
    "    - Testo normale\n",
    "- UTM_Est\t\n",
    "    - Coordinata UTM est\n",
    "    - Testo normale\n",
    "- lng\t\n",
    "    - Longitudine (senza simbolo gradi)\n",
    "    - Numero\n",
    "- lat\t\n",
    "    - Latitudine (senza simbolo gradi)\n",
    "    - Numero\n",
    "- location\t\n",
    "    - (latitudine°, longitudine°)\n",
    "    - Posizione"
   ]
  },
  {
   "cell_type": "markdown",
   "id": "e5c434f2",
   "metadata": {
    "hidden": true
   },
   "source": [
    "### Caratteristiche"
   ]
  },
  {
   "cell_type": "markdown",
   "id": "a2cebcc0",
   "metadata": {
    "hidden": true
   },
   "source": [
    "Sono disponibili i dati delle grandezze:\n",
    "- Livello Idrometrico (cm)\n",
    "- Altezza neve (cm)\n",
    "- Precipitazione (mm)\n",
    "- Temperatura (°C)\n",
    "- Umidità Relativa (%)\n",
    "- Radiazione Globale (W/m2)\n",
    "- Velocità e Direzione Vento (m/s e gradi).\n",
    "- Velocità e direzione del vento (m/s e gradi N) raffica\n",
    "NB: l’orario del dato è \"ora solare\" e si riferisce alle osservazioni ottenute fino all’orario indicato."
   ]
  },
  {
   "cell_type": "markdown",
   "id": "e80d8a70",
   "metadata": {
    "hidden": true
   },
   "source": [
    "### Read_csv"
   ]
  },
  {
   "cell_type": "code",
   "execution_count": 5,
   "id": "9c1aee03",
   "metadata": {
    "ExecuteTime": {
     "end_time": "2022-01-21T14:42:22.826285Z",
     "start_time": "2022-01-21T14:42:22.812285Z"
    },
    "hidden": true
   },
   "outputs": [],
   "source": [
    "#sensori_meteo = pd.read_csv(f'{path}Stazioni_Meteorologiche.csv', dtype = {'Tipologia': 'category'})\n",
    "#sensori_meteo.head()\n",
    "#stazioni_meteo['Tipologia'].value_counts()"
   ]
  },
  {
   "cell_type": "markdown",
   "id": "bf2fb482",
   "metadata": {
    "heading_collapsed": true,
    "hidden": true
   },
   "source": [
    "## Dataset Qualità dell'aria - rilevazioni"
   ]
  },
  {
   "cell_type": "markdown",
   "id": "b4682e9e",
   "metadata": {
    "hidden": true
   },
   "source": [
    "### Attributi"
   ]
  },
  {
   "cell_type": "markdown",
   "id": "d68299df",
   "metadata": {
    "hidden": true
   },
   "source": [
    "- **IdSensore**: \n",
    "    - Identificativo Univoco che distingue il sensore\n",
    "    - Tipologia: Testo normale\n",
    "- **Data**: \n",
    "    - Data e ora, Marcatura oraria flessibile\n",
    "    - I dati forniti hanno frequenza oraria tranne PM10 e PM2.5 per i quali è fornita la media giornaliera.\n",
    "- **Valore**: \n",
    "    - Tipologia: numero\n",
    "    - LEGENDA:-9999 = dato mancante o invalido\n",
    "- **idOperatore**\n",
    "    - *Molto utile per capire la dimensione del dato*\n",
    "    - LEGENDA: 1: Valore medio \n",
    "    - In realtà: I dati forniti hanno frequenza oraria tranne PM10 e PM2.5 per i quali è fornita la media giornaliera.\n",
    "    - Testo normale\n",
    "- **Stato**\t\n",
    "    - VA = dato valido NA = dato invalido I dati presenti in questo archivio relativi agli ultimi 3-6 mesi, contengono ancora valori incerti che possono subire modifiche da parte degli operatori delle reti (invalidazione manuale). Il processo di validazione dei dati prevede una fase di valutazione finale che si conclude entro il 30.3 dell’anno successivo a quello di misura.\n",
    "    - Testo normale"
   ]
  },
  {
   "cell_type": "markdown",
   "id": "52634b34",
   "metadata": {
    "hidden": true
   },
   "source": [
    "### Caratteristiche"
   ]
  },
  {
   "cell_type": "markdown",
   "id": "0c30d3ab",
   "metadata": {
    "hidden": true
   },
   "source": [
    "- La rete di rilevamento della qualità dell’aria di ARPA Lombardia è costituita da stazioni fisse che, per mezzo di analizzatori automatici, forniscono dati in continuo ad intervalli temporali regolari. \n",
    "- Le specie di inquinanti monitorate in continuo sono NOX, SO2, CO, O3, PM10, PM2.5 e benzene. A seconda del contesto ambientale nel quale è attivo il monitoraggio, diversa è la tipologia di inquinanti che è necessario rilevare. Pertanto, non tutte le stazioni sono dotate della medesima strumentazione analitica. \n",
    "- Le postazioni regionali sono distribuite su tutto il territorio regionale in funzione della densità abitativa e della tipologia di territorio rispettando i criteri definiti dal D.Lgs. 155/2010.\n",
    "- **I dati forniti hanno frequenza oraria tranne PM10 e PM2.5 per i quali è fornita la media giornaliera.**"
   ]
  },
  {
   "cell_type": "markdown",
   "id": "cec8058d",
   "metadata": {
    "hidden": true
   },
   "source": [
    "### Reading"
   ]
  },
  {
   "cell_type": "code",
   "execution_count": 6,
   "id": "d5262d2d",
   "metadata": {
    "ExecuteTime": {
     "end_time": "2022-01-21T14:42:22.842288Z",
     "start_time": "2022-01-21T14:42:22.828288Z"
    },
    "hidden": true
   },
   "outputs": [],
   "source": [
    "aria_dict = {} #creo dizionario che contiene tutti i dataframe per l'aria\n",
    "\n",
    "# Prendere qualche giorno prima e qualche giorno dopo degli anni considerati cosi da avere valori attendibili delle medie mobili agli estremi"
   ]
  },
  {
   "cell_type": "code",
   "execution_count": 7,
   "id": "9a358cd0",
   "metadata": {
    "ExecuteTime": {
     "end_time": "2022-01-21T14:42:38.249284Z",
     "start_time": "2022-01-21T14:42:22.844288Z"
    },
    "hidden": true
   },
   "outputs": [
    {
     "data": {
      "text/plain": [
       "IdSensore               int64\n",
       "Data           datetime64[ns]\n",
       "Valore                float64\n",
       "Stato                  object\n",
       "idOperatore             int64\n",
       "dtype: object"
      ]
     },
     "execution_count": 7,
     "metadata": {},
     "output_type": "execute_result"
    }
   ],
   "source": [
    "aria_dict['aria96_00'] = pd.read_csv(f'{path}/data_aria/Dati_sensori_aria_1996_2000.csv',\n",
    "                      na_values=['-9999'],\\\n",
    "                      parse_dates=['Data'],\\\n",
    "                      dayfirst=True,\\\n",
    "                     )\n",
    "aria_dict['aria96_00'].dtypes"
   ]
  },
  {
   "cell_type": "code",
   "execution_count": 8,
   "id": "d3d60c6d",
   "metadata": {
    "ExecuteTime": {
     "end_time": "2022-01-21T14:42:52.968286Z",
     "start_time": "2022-01-21T14:42:38.252284Z"
    },
    "hidden": true
   },
   "outputs": [
    {
     "data": {
      "text/plain": [
       "IdSensore               int64\n",
       "Data           datetime64[ns]\n",
       "Valore                float64\n",
       "Stato                  object\n",
       "idOperatore             int64\n",
       "dtype: object"
      ]
     },
     "execution_count": 8,
     "metadata": {},
     "output_type": "execute_result"
    }
   ],
   "source": [
    "# Importazione Dataset da 2001 a 2014\n",
    "aria_dict['aria01_04'] = pd.read_csv(f'{path}/data_aria/Dati_sensori_aria_2001_2004.csv',\n",
    "                      na_values=['-9999'],\\\n",
    "                      parse_dates=['Data'],\\\n",
    "                      dayfirst=True,\\\n",
    "                     )\n",
    "aria_dict['aria01_04'].dtypes"
   ]
  },
  {
   "cell_type": "code",
   "execution_count": 9,
   "id": "c2e82fcd",
   "metadata": {
    "ExecuteTime": {
     "end_time": "2022-01-21T14:43:05.596286Z",
     "start_time": "2022-01-21T14:42:52.971317Z"
    },
    "hidden": true
   },
   "outputs": [
    {
     "data": {
      "text/plain": [
       "IdSensore               int64\n",
       "Data           datetime64[ns]\n",
       "Valore                float64\n",
       "Stato                  object\n",
       "idOperatore             int64\n",
       "dtype: object"
      ]
     },
     "execution_count": 9,
     "metadata": {},
     "output_type": "execute_result"
    }
   ],
   "source": [
    "# Importazione Dataset da 2001 a 2016\n",
    "aria_dict['aria05_07'] = pd.read_csv(f'{path}/data_aria/Dati_sensori_aria_2005_2007.csv',\n",
    "                      na_values=['-9999'],\\\n",
    "                      parse_dates=['Data'],\\\n",
    "                      dayfirst=True,\\\n",
    "                     )\n",
    "aria_dict['aria05_07'].dtypes"
   ]
  },
  {
   "cell_type": "code",
   "execution_count": 10,
   "id": "926ad029",
   "metadata": {
    "ExecuteTime": {
     "end_time": "2022-01-21T14:43:20.998287Z",
     "start_time": "2022-01-21T14:43:05.598287Z"
    },
    "hidden": true
   },
   "outputs": [
    {
     "data": {
      "text/plain": [
       "IdSensore               int64\n",
       "Data           datetime64[ns]\n",
       "Valore                float64\n",
       "Stato                  object\n",
       "idOperatore             int64\n",
       "dtype: object"
      ]
     },
     "execution_count": 10,
     "metadata": {},
     "output_type": "execute_result"
    }
   ],
   "source": [
    "# Importazione Dataset da 2008 a 2010\n",
    "aria_dict['aria08_10'] = pd.read_csv(f'{path}/data_aria/Dati_sensori_aria_2008_2010.csv',\n",
    "                      na_values=['-9999'],\\\n",
    "                      parse_dates=['Data'],\\\n",
    "                      dayfirst=True,\\\n",
    "                     )\n",
    "aria_dict['aria08_10'].dtypes"
   ]
  },
  {
   "cell_type": "code",
   "execution_count": 11,
   "id": "635d3285",
   "metadata": {
    "ExecuteTime": {
     "end_time": "2022-01-21T14:43:25.638285Z",
     "start_time": "2022-01-21T14:43:20.999289Z"
    },
    "hidden": true
   },
   "outputs": [
    {
     "data": {
      "text/plain": [
       "IdSensore               int64\n",
       "Data           datetime64[ns]\n",
       "Valore                float64\n",
       "Stato                  object\n",
       "idOperatore             int64\n",
       "dtype: object"
      ]
     },
     "execution_count": 11,
     "metadata": {},
     "output_type": "execute_result"
    }
   ],
   "source": [
    "# Converto in importazione i -9999 in NA\n",
    "aria_dict['aria11'] = pd.read_csv(f'{path}/data_aria/Dati_sensori_aria_2011.csv',\n",
    "                      na_values=['-9999'],\\\n",
    "                      parse_dates=['Data'],\\\n",
    "                      dayfirst=True,\\\n",
    "                     )\n",
    "aria_dict['aria11'].dtypes"
   ]
  },
  {
   "cell_type": "code",
   "execution_count": 12,
   "id": "cb7c13fd",
   "metadata": {
    "ExecuteTime": {
     "end_time": "2022-01-21T14:43:30.288285Z",
     "start_time": "2022-01-21T14:43:25.639285Z"
    },
    "hidden": true
   },
   "outputs": [
    {
     "data": {
      "text/plain": [
       "IdSensore               int64\n",
       "Data           datetime64[ns]\n",
       "Valore                float64\n",
       "Stato                  object\n",
       "idOperatore             int64\n",
       "dtype: object"
      ]
     },
     "execution_count": 12,
     "metadata": {},
     "output_type": "execute_result"
    }
   ],
   "source": [
    "# Converto in importazione i -9999 in NA\n",
    "aria_dict['aria12'] = pd.read_csv(f'{path}/data_aria/Dati_sensori_aria_2012.csv',\n",
    "                      na_values=['-9999'],\\\n",
    "                      parse_dates=['Data'],\\\n",
    "                      dayfirst=True,\\\n",
    "                     )\n",
    "aria_dict['aria12'].dtypes"
   ]
  },
  {
   "cell_type": "code",
   "execution_count": 13,
   "id": "7a026cf0",
   "metadata": {
    "ExecuteTime": {
     "end_time": "2022-01-21T14:43:35.854320Z",
     "start_time": "2022-01-21T14:43:30.290284Z"
    },
    "hidden": true
   },
   "outputs": [
    {
     "data": {
      "text/plain": [
       "IdSensore               int64\n",
       "Data           datetime64[ns]\n",
       "Valore                float64\n",
       "Stato                  object\n",
       "idOperatore             int64\n",
       "dtype: object"
      ]
     },
     "execution_count": 13,
     "metadata": {},
     "output_type": "execute_result"
    }
   ],
   "source": [
    "# Converto in importazione i -9999 in NA\n",
    "aria_dict['aria13'] = pd.read_csv(f'{path}/data_aria/Dati_sensori_aria_2013.csv',\n",
    "                      na_values=['-9999'],\\\n",
    "                      parse_dates=['Data'],\\\n",
    "                      dayfirst=True,\\\n",
    "                     )\n",
    "aria_dict['aria13'].dtypes"
   ]
  },
  {
   "cell_type": "code",
   "execution_count": 14,
   "id": "3442e95b",
   "metadata": {
    "ExecuteTime": {
     "end_time": "2022-01-21T14:43:39.935325Z",
     "start_time": "2022-01-21T14:43:35.856286Z"
    },
    "hidden": true
   },
   "outputs": [
    {
     "data": {
      "text/plain": [
       "IdSensore               int64\n",
       "Data           datetime64[ns]\n",
       "Valore                float64\n",
       "Stato                  object\n",
       "idOperatore             int64\n",
       "dtype: object"
      ]
     },
     "execution_count": 14,
     "metadata": {},
     "output_type": "execute_result"
    }
   ],
   "source": [
    "# Converto in importazione i -9999 in NA\n",
    "aria_dict['aria14'] = pd.read_csv(f'{path}/data_aria/Dati_sensori_aria_2014.csv',\n",
    "                      na_values=['-9999'],\\\n",
    "                      parse_dates=['Data'],\\\n",
    "                      dayfirst=True,\\\n",
    "                     )\n",
    "aria_dict['aria14'].dtypes"
   ]
  },
  {
   "cell_type": "code",
   "execution_count": 15,
   "id": "be55c014",
   "metadata": {
    "ExecuteTime": {
     "end_time": "2022-01-21T14:43:44.056283Z",
     "start_time": "2022-01-21T14:43:39.936285Z"
    },
    "hidden": true
   },
   "outputs": [
    {
     "data": {
      "text/plain": [
       "IdSensore               int64\n",
       "Data           datetime64[ns]\n",
       "Valore                float64\n",
       "Stato                  object\n",
       "idOperatore             int64\n",
       "dtype: object"
      ]
     },
     "execution_count": 15,
     "metadata": {},
     "output_type": "execute_result"
    }
   ],
   "source": [
    "# Converto in importazione i -9999 in NA\n",
    "aria_dict['aria15'] = pd.read_csv(f'{path}/data_aria/Dati_sensori_aria_2015.csv',\n",
    "                      na_values=['-9999'],\\\n",
    "                      parse_dates=['Data'],\\\n",
    "                      dayfirst=True,\\\n",
    "                     )\n",
    "aria_dict['aria15'].dtypes"
   ]
  },
  {
   "cell_type": "code",
   "execution_count": 16,
   "id": "a6549ab6",
   "metadata": {
    "ExecuteTime": {
     "end_time": "2022-01-21T14:43:48.152285Z",
     "start_time": "2022-01-21T14:43:44.057286Z"
    },
    "hidden": true
   },
   "outputs": [
    {
     "data": {
      "text/plain": [
       "IdSensore               int64\n",
       "Data           datetime64[ns]\n",
       "Valore                float64\n",
       "Stato                  object\n",
       "idOperatore             int64\n",
       "dtype: object"
      ]
     },
     "execution_count": 16,
     "metadata": {},
     "output_type": "execute_result"
    }
   ],
   "source": [
    "# Converto in importazione i -9999 in NA\n",
    "aria_dict['aria16'] = pd.read_csv(f'{path}/data_aria/Dati_sensori_aria_2016.csv',\n",
    "                      na_values=['-9999'],\\\n",
    "                      parse_dates=['Data'],\\\n",
    "                      dayfirst=True,\\\n",
    "                     )\n",
    "aria_dict['aria16'].dtypes"
   ]
  },
  {
   "cell_type": "code",
   "execution_count": 17,
   "id": "c56a27c2",
   "metadata": {
    "ExecuteTime": {
     "end_time": "2022-01-21T14:43:51.241378Z",
     "start_time": "2022-01-21T14:43:48.154317Z"
    },
    "hidden": true
   },
   "outputs": [
    {
     "data": {
      "text/plain": [
       "IdSensore               int64\n",
       "Data           datetime64[ns]\n",
       "Valore                float64\n",
       "Stato                  object\n",
       "idOperatore             int64\n",
       "dtype: object"
      ]
     },
     "execution_count": 17,
     "metadata": {},
     "output_type": "execute_result"
    }
   ],
   "source": [
    "# Converto in importazione i -9999 in NA\n",
    "aria_dict['aria17'] = pd.read_csv(f'{path}/data_aria/Dati_sensori_aria_2017.csv',\n",
    "                      na_values=['-9999'],\\\n",
    "                      parse_dates=['Data'],\\\n",
    "                      dayfirst=True,\\\n",
    "                     )\n",
    "aria_dict['aria17'].dtypes"
   ]
  },
  {
   "cell_type": "code",
   "execution_count": 18,
   "id": "173ceeba",
   "metadata": {
    "ExecuteTime": {
     "end_time": "2022-01-21T14:43:54.312290Z",
     "start_time": "2022-01-21T14:43:51.243317Z"
    },
    "hidden": true
   },
   "outputs": [
    {
     "data": {
      "text/plain": [
       "IdSensore               int64\n",
       "Data           datetime64[ns]\n",
       "Valore                float64\n",
       "Stato                  object\n",
       "idOperatore             int64\n",
       "dtype: object"
      ]
     },
     "execution_count": 18,
     "metadata": {},
     "output_type": "execute_result"
    }
   ],
   "source": [
    "# Converto in importazione i -9999 in NA\n",
    "aria_dict['aria18'] = pd.read_csv(f'{path}/data_aria/Dati_sensori_aria_2018.csv',\n",
    "                      na_values=['-9999'],\\\n",
    "                      parse_dates=['Data'],\\\n",
    "                      dayfirst=True,\\\n",
    "                     )\n",
    "aria_dict['aria18'].dtypes"
   ]
  },
  {
   "cell_type": "code",
   "execution_count": 19,
   "id": "9c3a673f",
   "metadata": {
    "ExecuteTime": {
     "end_time": "2022-01-21T14:43:57.416318Z",
     "start_time": "2022-01-21T14:43:54.313285Z"
    },
    "hidden": true
   },
   "outputs": [
    {
     "data": {
      "text/plain": [
       "IdSensore               int64\n",
       "Data           datetime64[ns]\n",
       "Valore                float64\n",
       "Stato                  object\n",
       "idOperatore             int64\n",
       "dtype: object"
      ]
     },
     "execution_count": 19,
     "metadata": {},
     "output_type": "execute_result"
    }
   ],
   "source": [
    "# Converto in importazione i -9999 in NA\n",
    "aria_dict['aria19'] = pd.read_csv(f'{path}/data_aria/Dati_sensori_aria_2019.csv',\n",
    "                      na_values=['-9999'],\\\n",
    "                      parse_dates=['Data'],\\\n",
    "                      dayfirst=True,\\\n",
    "                     )\n",
    "aria_dict['aria19'].dtypes"
   ]
  },
  {
   "cell_type": "code",
   "execution_count": 20,
   "id": "caa8b1af",
   "metadata": {
    "ExecuteTime": {
     "end_time": "2022-01-21T14:44:00.510287Z",
     "start_time": "2022-01-21T14:43:57.418286Z"
    },
    "hidden": true
   },
   "outputs": [
    {
     "data": {
      "text/plain": [
       "IdSensore               int64\n",
       "Data           datetime64[ns]\n",
       "Valore                float64\n",
       "Stato                  object\n",
       "idOperatore             int64\n",
       "dtype: object"
      ]
     },
     "execution_count": 20,
     "metadata": {},
     "output_type": "execute_result"
    }
   ],
   "source": [
    "# Converto in importazione i -9999 in NA\n",
    "aria_dict['aria20'] = pd.read_csv(f'{path}/data_aria/Dati_sensori_aria_2020.csv',\n",
    "                      na_values=['-9999'],\\\n",
    "                      parse_dates=['Data'],\\\n",
    "                      dayfirst=True,\\\n",
    "                     )\n",
    "aria_dict['aria20'].dtypes"
   ]
  },
  {
   "cell_type": "code",
   "execution_count": 21,
   "id": "89a4132a",
   "metadata": {
    "ExecuteTime": {
     "end_time": "2022-01-21T14:44:03.912317Z",
     "start_time": "2022-01-21T14:44:00.512286Z"
    },
    "hidden": true,
    "scrolled": true
   },
   "outputs": [
    {
     "data": {
      "text/plain": [
       "IdSensore               int64\n",
       "Data           datetime64[ns]\n",
       "Valore                float64\n",
       "Stato                  object\n",
       "idOperatore             int64\n",
       "dtype: object"
      ]
     },
     "execution_count": 21,
     "metadata": {},
     "output_type": "execute_result"
    }
   ],
   "source": [
    "# Converto in importazione i -9999 in NA\n",
    "aria_dict['aria21'] = pd.read_csv(f'{path}/data_aria/Dati_sensori_aria_2021.csv',\n",
    "                      na_values=['-9999'],\\\n",
    "                      parse_dates=['Data'],\\\n",
    "                      dayfirst=True,\\\n",
    "                     )\n",
    "aria_dict['aria21'].dtypes"
   ]
  },
  {
   "cell_type": "markdown",
   "id": "ef527439",
   "metadata": {
    "hidden": true
   },
   "source": [
    "### Concatenazione"
   ]
  },
  {
   "cell_type": "code",
   "execution_count": 22,
   "id": "f379c045",
   "metadata": {
    "ExecuteTime": {
     "end_time": "2022-01-21T14:44:26.114288Z",
     "start_time": "2022-01-21T14:44:03.914286Z"
    },
    "hidden": true
   },
   "outputs": [
    {
     "data": {
      "text/html": [
       "<div>\n",
       "<style scoped>\n",
       "    .dataframe tbody tr th:only-of-type {\n",
       "        vertical-align: middle;\n",
       "    }\n",
       "\n",
       "    .dataframe tbody tr th {\n",
       "        vertical-align: top;\n",
       "    }\n",
       "\n",
       "    .dataframe thead th {\n",
       "        text-align: right;\n",
       "    }\n",
       "</style>\n",
       "<table border=\"1\" class=\"dataframe\">\n",
       "  <thead>\n",
       "    <tr style=\"text-align: right;\">\n",
       "      <th></th>\n",
       "      <th>IdSensore</th>\n",
       "      <th>Data</th>\n",
       "      <th>Valore</th>\n",
       "      <th>Stato</th>\n",
       "      <th>idOperatore</th>\n",
       "    </tr>\n",
       "  </thead>\n",
       "  <tbody>\n",
       "    <tr>\n",
       "      <th>0</th>\n",
       "      <td>5504</td>\n",
       "      <td>1996-01-01 00:00:00</td>\n",
       "      <td>61.0</td>\n",
       "      <td>VA</td>\n",
       "      <td>1</td>\n",
       "    </tr>\n",
       "    <tr>\n",
       "      <th>1</th>\n",
       "      <td>5505</td>\n",
       "      <td>1996-01-01 00:00:00</td>\n",
       "      <td>61.0</td>\n",
       "      <td>VA</td>\n",
       "      <td>1</td>\n",
       "    </tr>\n",
       "    <tr>\n",
       "      <th>2</th>\n",
       "      <td>5506</td>\n",
       "      <td>1996-01-01 00:00:00</td>\n",
       "      <td>53.9</td>\n",
       "      <td>VA</td>\n",
       "      <td>1</td>\n",
       "    </tr>\n",
       "    <tr>\n",
       "      <th>3</th>\n",
       "      <td>5531</td>\n",
       "      <td>1996-01-01 00:00:00</td>\n",
       "      <td>69.2</td>\n",
       "      <td>VA</td>\n",
       "      <td>1</td>\n",
       "    </tr>\n",
       "    <tr>\n",
       "      <th>4</th>\n",
       "      <td>5542</td>\n",
       "      <td>1996-01-01 00:00:00</td>\n",
       "      <td>61.0</td>\n",
       "      <td>VA</td>\n",
       "      <td>1</td>\n",
       "    </tr>\n",
       "    <tr>\n",
       "      <th>...</th>\n",
       "      <td>...</td>\n",
       "      <td>...</td>\n",
       "      <td>...</td>\n",
       "      <td>...</td>\n",
       "      <td>...</td>\n",
       "    </tr>\n",
       "    <tr>\n",
       "      <th>98291917</th>\n",
       "      <td>10331</td>\n",
       "      <td>2021-12-19 03:00:00</td>\n",
       "      <td>45.7</td>\n",
       "      <td>VA</td>\n",
       "      <td>1</td>\n",
       "    </tr>\n",
       "    <tr>\n",
       "      <th>98291918</th>\n",
       "      <td>10333</td>\n",
       "      <td>2021-12-24 19:00:00</td>\n",
       "      <td>39.8</td>\n",
       "      <td>VA</td>\n",
       "      <td>1</td>\n",
       "    </tr>\n",
       "    <tr>\n",
       "      <th>98291919</th>\n",
       "      <td>10331</td>\n",
       "      <td>2021-12-20 18:00:00</td>\n",
       "      <td>27.6</td>\n",
       "      <td>VA</td>\n",
       "      <td>1</td>\n",
       "    </tr>\n",
       "    <tr>\n",
       "      <th>98291920</th>\n",
       "      <td>10333</td>\n",
       "      <td>2021-12-25 11:00:00</td>\n",
       "      <td>84.7</td>\n",
       "      <td>VA</td>\n",
       "      <td>1</td>\n",
       "    </tr>\n",
       "    <tr>\n",
       "      <th>98291921</th>\n",
       "      <td>10331</td>\n",
       "      <td>2021-12-21 04:00:00</td>\n",
       "      <td>34.3</td>\n",
       "      <td>VA</td>\n",
       "      <td>1</td>\n",
       "    </tr>\n",
       "  </tbody>\n",
       "</table>\n",
       "<p>98291922 rows × 5 columns</p>\n",
       "</div>"
      ],
      "text/plain": [
       "          IdSensore                Data  Valore Stato  idOperatore\n",
       "0              5504 1996-01-01 00:00:00    61.0    VA            1\n",
       "1              5505 1996-01-01 00:00:00    61.0    VA            1\n",
       "2              5506 1996-01-01 00:00:00    53.9    VA            1\n",
       "3              5531 1996-01-01 00:00:00    69.2    VA            1\n",
       "4              5542 1996-01-01 00:00:00    61.0    VA            1\n",
       "...             ...                 ...     ...   ...          ...\n",
       "98291917      10331 2021-12-19 03:00:00    45.7    VA            1\n",
       "98291918      10333 2021-12-24 19:00:00    39.8    VA            1\n",
       "98291919      10331 2021-12-20 18:00:00    27.6    VA            1\n",
       "98291920      10333 2021-12-25 11:00:00    84.7    VA            1\n",
       "98291921      10331 2021-12-21 04:00:00    34.3    VA            1\n",
       "\n",
       "[98291922 rows x 5 columns]"
      ]
     },
     "execution_count": 22,
     "metadata": {},
     "output_type": "execute_result"
    }
   ],
   "source": [
    "aria_tot = pd.concat(aria_dict).reset_index(drop=True)\n",
    "aria_tot"
   ]
  },
  {
   "cell_type": "markdown",
   "id": "282888bc",
   "metadata": {
    "heading_collapsed": true,
    "hidden": true
   },
   "source": [
    "## Dataset Qualità dell'aria - sensori"
   ]
  },
  {
   "cell_type": "markdown",
   "id": "bafeeb6a",
   "metadata": {
    "hidden": true
   },
   "source": [
    "### Attributi"
   ]
  },
  {
   "cell_type": "markdown",
   "id": "9e73521b",
   "metadata": {
    "hidden": true
   },
   "source": [
    "- IdSensore\n",
    "    - Foreign Key con vincolo di integrità referenziale a `IdSensore` di aria_21\n",
    "    - Testo normale\n",
    "- NomeTipoSensore\t\n",
    "    - Grandezza misurata\n",
    "    - Testo normale\n",
    "- Unità DiMisura\t\n",
    "    - Unità di misura della grandezza\n",
    "    - Testo normale\n",
    "- IdStazione\t\n",
    "    - Numero identificativo della stazione (penso perchè ogni stazione può avere più sensori)\n",
    "    - Testo normale\n",
    "- NomeStazione\t\n",
    "    - Località della stazione (Spesso è 'Comune via' o 'Comune località)'\n",
    "    - Testo normale\n",
    "- Quota\t\n",
    "    - Altitudine\n",
    "    - Numero\n",
    "- Provincia\n",
    "    - Sigla della provincia\n",
    "    - Testo normale\n",
    "- DataStart\t\n",
    "    - Data e ora\n",
    "- DataStop\t\n",
    "    - Data e ora\n",
    "- Storico\t\n",
    "    - Noto che assume valori N e S ma non capisco cosa sia\n",
    "    - Testo normale\n",
    "- UTM_Nord\t\n",
    "    - Coordinata UTM nord (le cordinate utm permettono di individuare univocamente un punto sulla cartina terrestre)\n",
    "    - Testo normale\n",
    "- UTM_Est\t\n",
    "    - Coordinata UTM est\n",
    "    - Testo normale\n",
    "- lng\t\n",
    "    - Longitudine (senza simbolo gradi)\n",
    "    - Numero\n",
    "- lat\t\n",
    "    - Latitudine (senza simbolo gradi)\n",
    "    - Numero\n",
    "- location\t\n",
    "    - (latitudine°, longitudine°)\n",
    "    - Posizione"
   ]
  },
  {
   "cell_type": "markdown",
   "id": "15906993",
   "metadata": {
    "hidden": true
   },
   "source": [
    "### Read_csv"
   ]
  },
  {
   "cell_type": "code",
   "execution_count": 23,
   "id": "5d433113",
   "metadata": {
    "ExecuteTime": {
     "end_time": "2022-01-21T14:44:26.205287Z",
     "start_time": "2022-01-21T14:44:26.127287Z"
    },
    "hidden": true
   },
   "outputs": [
    {
     "data": {
      "text/html": [
       "<div>\n",
       "<style scoped>\n",
       "    .dataframe tbody tr th:only-of-type {\n",
       "        vertical-align: middle;\n",
       "    }\n",
       "\n",
       "    .dataframe tbody tr th {\n",
       "        vertical-align: top;\n",
       "    }\n",
       "\n",
       "    .dataframe thead th {\n",
       "        text-align: right;\n",
       "    }\n",
       "</style>\n",
       "<table border=\"1\" class=\"dataframe\">\n",
       "  <thead>\n",
       "    <tr style=\"text-align: right;\">\n",
       "      <th></th>\n",
       "      <th>IdSensore</th>\n",
       "      <th>NomeTipoSensore</th>\n",
       "      <th>UnitaMisura</th>\n",
       "      <th>Idstazione</th>\n",
       "      <th>NomeStazione</th>\n",
       "      <th>Quota</th>\n",
       "      <th>Provincia</th>\n",
       "      <th>Comune</th>\n",
       "      <th>Storico</th>\n",
       "      <th>DataStart</th>\n",
       "      <th>DataStop</th>\n",
       "      <th>Utm_Nord</th>\n",
       "      <th>UTM_Est</th>\n",
       "      <th>lat</th>\n",
       "      <th>lng</th>\n",
       "      <th>location</th>\n",
       "    </tr>\n",
       "  </thead>\n",
       "  <tbody>\n",
       "    <tr>\n",
       "      <th>961</th>\n",
       "      <td>6606</td>\n",
       "      <td>Particolato Totale Sospeso</td>\n",
       "      <td>µg/m³</td>\n",
       "      <td>591</td>\n",
       "      <td>Seriate v. Garibaldi</td>\n",
       "      <td>256</td>\n",
       "      <td>BG</td>\n",
       "      <td>Seriate</td>\n",
       "      <td>S</td>\n",
       "      <td>1991-11-20</td>\n",
       "      <td>2000-01-27</td>\n",
       "      <td>5059449</td>\n",
       "      <td>555672</td>\n",
       "      <td>45.686356</td>\n",
       "      <td>9.714948</td>\n",
       "      <td>(45.68635606439914, 9.714947917631529)</td>\n",
       "    </tr>\n",
       "    <tr>\n",
       "      <th>962</th>\n",
       "      <td>6382</td>\n",
       "      <td>Ossidi di Azoto</td>\n",
       "      <td>µg/m³</td>\n",
       "      <td>569</td>\n",
       "      <td>Sondrio v.Mazzini</td>\n",
       "      <td>307</td>\n",
       "      <td>SO</td>\n",
       "      <td>Sondrio</td>\n",
       "      <td>N</td>\n",
       "      <td>1993-01-11</td>\n",
       "      <td>NaT</td>\n",
       "      <td>5113078</td>\n",
       "      <td>567173</td>\n",
       "      <td>46.167967</td>\n",
       "      <td>9.870144</td>\n",
       "      <td>(46.16796681227828, 9.87014407497457)</td>\n",
       "    </tr>\n",
       "    <tr>\n",
       "      <th>963</th>\n",
       "      <td>6607</td>\n",
       "      <td>Particolato Totale Sospeso</td>\n",
       "      <td>µg/m³</td>\n",
       "      <td>591</td>\n",
       "      <td>Seriate v. Garibaldi</td>\n",
       "      <td>256</td>\n",
       "      <td>BG</td>\n",
       "      <td>Seriate</td>\n",
       "      <td>S</td>\n",
       "      <td>2000-07-09</td>\n",
       "      <td>2002-04-04</td>\n",
       "      <td>5059449</td>\n",
       "      <td>555672</td>\n",
       "      <td>45.686356</td>\n",
       "      <td>9.714948</td>\n",
       "      <td>(45.68635606439914, 9.714947917631529)</td>\n",
       "    </tr>\n",
       "    <tr>\n",
       "      <th>964</th>\n",
       "      <td>20523</td>\n",
       "      <td>Ammoniaca</td>\n",
       "      <td>µg/m³</td>\n",
       "      <td>583</td>\n",
       "      <td>Bergamo v.Meucci</td>\n",
       "      <td>249</td>\n",
       "      <td>BG</td>\n",
       "      <td>Bergamo</td>\n",
       "      <td>N</td>\n",
       "      <td>NaT</td>\n",
       "      <td>NaT</td>\n",
       "      <td>5059922</td>\n",
       "      <td>550116</td>\n",
       "      <td>45.691037</td>\n",
       "      <td>9.643651</td>\n",
       "      <td>(45.69103740547214, 9.643650579461385)</td>\n",
       "    </tr>\n",
       "    <tr>\n",
       "      <th>965</th>\n",
       "      <td>12597</td>\n",
       "      <td>Cadmio</td>\n",
       "      <td>ng/m³</td>\n",
       "      <td>609</td>\n",
       "      <td>Casirate d'Adda v. Cimitero</td>\n",
       "      <td>108</td>\n",
       "      <td>BG</td>\n",
       "      <td>Casirate d'Adda</td>\n",
       "      <td>N</td>\n",
       "      <td>2008-04-24</td>\n",
       "      <td>NaT</td>\n",
       "      <td>5038450</td>\n",
       "      <td>543458</td>\n",
       "      <td>45.498227</td>\n",
       "      <td>9.556232</td>\n",
       "      <td>(45.49822713394494, 9.556232262351761)</td>\n",
       "    </tr>\n",
       "  </tbody>\n",
       "</table>\n",
       "</div>"
      ],
      "text/plain": [
       "     IdSensore             NomeTipoSensore UnitaMisura  Idstazione  \\\n",
       "961       6606  Particolato Totale Sospeso       µg/m³         591   \n",
       "962       6382             Ossidi di Azoto       µg/m³         569   \n",
       "963       6607  Particolato Totale Sospeso       µg/m³         591   \n",
       "964      20523                   Ammoniaca       µg/m³         583   \n",
       "965      12597                      Cadmio       ng/m³         609   \n",
       "\n",
       "                    NomeStazione  Quota Provincia           Comune Storico  \\\n",
       "961         Seriate v. Garibaldi    256        BG          Seriate       S   \n",
       "962            Sondrio v.Mazzini    307        SO          Sondrio       N   \n",
       "963         Seriate v. Garibaldi    256        BG          Seriate       S   \n",
       "964             Bergamo v.Meucci    249        BG          Bergamo       N   \n",
       "965  Casirate d'Adda v. Cimitero    108        BG  Casirate d'Adda       N   \n",
       "\n",
       "     DataStart   DataStop  Utm_Nord  UTM_Est        lat       lng  \\\n",
       "961 1991-11-20 2000-01-27   5059449   555672  45.686356  9.714948   \n",
       "962 1993-01-11        NaT   5113078   567173  46.167967  9.870144   \n",
       "963 2000-07-09 2002-04-04   5059449   555672  45.686356  9.714948   \n",
       "964        NaT        NaT   5059922   550116  45.691037  9.643651   \n",
       "965 2008-04-24        NaT   5038450   543458  45.498227  9.556232   \n",
       "\n",
       "                                   location  \n",
       "961  (45.68635606439914, 9.714947917631529)  \n",
       "962   (46.16796681227828, 9.87014407497457)  \n",
       "963  (45.68635606439914, 9.714947917631529)  \n",
       "964  (45.69103740547214, 9.643650579461385)  \n",
       "965  (45.49822713394494, 9.556232262351761)  "
      ]
     },
     "execution_count": 23,
     "metadata": {},
     "output_type": "execute_result"
    }
   ],
   "source": [
    "sensori_aria = pd.read_csv(f'{path}Stazioni_qualita_dell_aria.csv',\n",
    "                           parse_dates=['DataStart', 'DataStop'], dtype = {'Quota': 'Int64'})\n",
    "sensori_aria.tail()"
   ]
  },
  {
   "cell_type": "code",
   "execution_count": 24,
   "id": "81dfb734",
   "metadata": {
    "ExecuteTime": {
     "end_time": "2022-01-21T14:44:26.221286Z",
     "start_time": "2022-01-21T14:44:26.208287Z"
    },
    "hidden": true,
    "scrolled": true
   },
   "outputs": [
    {
     "data": {
      "text/plain": [
       "IdSensore                   int64\n",
       "NomeTipoSensore            object\n",
       "UnitaMisura                object\n",
       "Idstazione                  int64\n",
       "NomeStazione               object\n",
       "Quota                       Int64\n",
       "Provincia                  object\n",
       "Comune                     object\n",
       "Storico                    object\n",
       "DataStart          datetime64[ns]\n",
       "DataStop           datetime64[ns]\n",
       "Utm_Nord                    int64\n",
       "UTM_Est                     int64\n",
       "lat                       float64\n",
       "lng                       float64\n",
       "location                   object\n",
       "dtype: object"
      ]
     },
     "execution_count": 24,
     "metadata": {},
     "output_type": "execute_result"
    }
   ],
   "source": [
    "sensori_aria.dtypes"
   ]
  },
  {
   "cell_type": "markdown",
   "id": "5e7e09a7",
   "metadata": {
    "hidden": true
   },
   "source": [
    "## Dataset Zonizzazione"
   ]
  },
  {
   "cell_type": "code",
   "execution_count": 25,
   "id": "e2b3ff11",
   "metadata": {
    "ExecuteTime": {
     "end_time": "2022-01-21T14:44:26.253288Z",
     "start_time": "2022-01-21T14:44:26.224286Z"
    },
    "hidden": true
   },
   "outputs": [
    {
     "data": {
      "text/html": [
       "<div>\n",
       "<style scoped>\n",
       "    .dataframe tbody tr th:only-of-type {\n",
       "        vertical-align: middle;\n",
       "    }\n",
       "\n",
       "    .dataframe tbody tr th {\n",
       "        vertical-align: top;\n",
       "    }\n",
       "\n",
       "    .dataframe thead th {\n",
       "        text-align: right;\n",
       "    }\n",
       "</style>\n",
       "<table border=\"1\" class=\"dataframe\">\n",
       "  <thead>\n",
       "    <tr style=\"text-align: right;\">\n",
       "      <th></th>\n",
       "      <th>Provincia</th>\n",
       "      <th>Codice Istat</th>\n",
       "      <th>Comune</th>\n",
       "      <th>Zona</th>\n",
       "      <th>Residenti 2008</th>\n",
       "      <th>Superficie (ha)</th>\n",
       "    </tr>\n",
       "  </thead>\n",
       "  <tbody>\n",
       "    <tr>\n",
       "      <th>0</th>\n",
       "      <td>BG</td>\n",
       "      <td>16009</td>\n",
       "      <td>AMBIVERE</td>\n",
       "      <td>A</td>\n",
       "      <td>2341</td>\n",
       "      <td>327</td>\n",
       "    </tr>\n",
       "    <tr>\n",
       "      <th>1</th>\n",
       "      <td>BG</td>\n",
       "      <td>16013</td>\n",
       "      <td>ARZAGO D'ADDA</td>\n",
       "      <td>A</td>\n",
       "      <td>2836</td>\n",
       "      <td>944</td>\n",
       "    </tr>\n",
       "    <tr>\n",
       "      <th>2</th>\n",
       "      <td>BG</td>\n",
       "      <td>16018</td>\n",
       "      <td>BAGNATICA</td>\n",
       "      <td>A</td>\n",
       "      <td>4119</td>\n",
       "      <td>639</td>\n",
       "    </tr>\n",
       "    <tr>\n",
       "      <th>3</th>\n",
       "      <td>BG</td>\n",
       "      <td>16020</td>\n",
       "      <td>BARIANO</td>\n",
       "      <td>A</td>\n",
       "      <td>4396</td>\n",
       "      <td>714</td>\n",
       "    </tr>\n",
       "    <tr>\n",
       "      <th>4</th>\n",
       "      <td>BG</td>\n",
       "      <td>16021</td>\n",
       "      <td>BARZANO'</td>\n",
       "      <td>A</td>\n",
       "      <td>5178</td>\n",
       "      <td>356</td>\n",
       "    </tr>\n",
       "  </tbody>\n",
       "</table>\n",
       "</div>"
      ],
      "text/plain": [
       "  Provincia  Codice Istat         Comune Zona  Residenti 2008  Superficie (ha)\n",
       "0        BG         16009       AMBIVERE    A            2341              327\n",
       "1        BG         16013  ARZAGO D'ADDA    A            2836              944\n",
       "2        BG         16018      BAGNATICA    A            4119              639\n",
       "3        BG         16020        BARIANO    A            4396              714\n",
       "4        BG         16021       BARZANO'    A            5178              356"
      ]
     },
     "execution_count": 25,
     "metadata": {},
     "output_type": "execute_result"
    }
   ],
   "source": [
    "zonizzazione = pd.read_csv(f'{path}zonizzazione/zonizzazione_ABCD.csv')\n",
    "zonizzazione.head()"
   ]
  },
  {
   "cell_type": "markdown",
   "id": "d83924c3",
   "metadata": {
    "heading_collapsed": true
   },
   "source": [
    "# Data Exploration e Data Cleansing (*superset*)"
   ]
  },
  {
   "cell_type": "markdown",
   "id": "340aaf00",
   "metadata": {
    "hidden": true
   },
   "source": [
    "## Data Exploration"
   ]
  },
  {
   "cell_type": "markdown",
   "id": "07b67b84",
   "metadata": {
    "hidden": true
   },
   "source": [
    "- verificare quali siano tutte le quantità uniche rilevate dai sensori qualità dell'aria\n",
    "- quali siano i gruppi di inquinanti principali\n",
    "- quali siano i limiti di assunzione umana (gionralieri e annuali)\n",
    "    - Vedi [qui](https://www.arpalombardia.it/Pages/Aria/Inquinanti.aspx) per limiti e piccola descrizione\n",
    "    - Vedi [qui](https://www.regione.lombardia.it/wps/portal/istituzionale/HP/DettaglioRedazionale/servizi-e-informazioni/cittadini/salute-e-prevenzione/Sicurezza-negli-ambienti-di-vita-e-di-lavoro/inquinamento-atmosferico/inquinamento-atmosferico/) per approfondimento"
   ]
  },
  {
   "cell_type": "markdown",
   "id": "94655e3c",
   "metadata": {
    "hidden": true
   },
   "source": [
    "Determino il numero di sensori per ogni tipologia\n",
    "\n",
    "- Si potrebbero considerare solo gli inquinanti **più importanti e con più stazioni**\n",
    "- Ovvero **Biossido di Azoto | PM10 (SM2005) e PM2,5 e/o Particolato totale | Ozono troposferico | Bisossido di Zolfo**\n",
    "- Facoltativi perchè non presenti nella valutazione della qualità dell'aria [qui](https://www.arpalombardia.it/Pages/Aria/Modellistica/Indice-qualit%C3%A0-aria.aspx): Monossido di carbonio e benzene"
   ]
  },
  {
   "cell_type": "code",
   "execution_count": 26,
   "id": "cbca3194",
   "metadata": {
    "ExecuteTime": {
     "end_time": "2022-01-21T14:44:26.269287Z",
     "start_time": "2022-01-21T14:44:26.255285Z"
    },
    "hidden": true
   },
   "outputs": [
    {
     "data": {
      "text/plain": [
       "Biossido di Azoto             166\n",
       "Ossidi di Azoto               166\n",
       "Biossido di Zolfo             125\n",
       "Monossido di Carbonio         101\n",
       "Ozono                          91\n",
       "PM10 (SM2005)                  90\n",
       "Particolato Totale Sospeso     55\n",
       "Particelle sospese PM2.5       40\n",
       "Benzene                        32\n",
       "Benzo(a)pirene                 15\n",
       "Nikel                          15\n",
       "Arsenico                       15\n",
       "Piombo                         15\n",
       "Cadmio                         15\n",
       "Ammoniaca                      14\n",
       "BlackCarbon                     4\n",
       "PM10                            4\n",
       "Monossido di Azoto              3\n",
       "Name: NomeTipoSensore, dtype: int64"
      ]
     },
     "execution_count": 26,
     "metadata": {},
     "output_type": "execute_result"
    }
   ],
   "source": [
    "sensori_aria['NomeTipoSensore'].value_counts()"
   ]
  },
  {
   "cell_type": "markdown",
   "id": "619a353b",
   "metadata": {
    "hidden": true
   },
   "source": [
    "Determino il numero di zone in cui é suddiviso il territorio Lombardo"
   ]
  },
  {
   "cell_type": "code",
   "execution_count": 27,
   "id": "ab0e8872",
   "metadata": {
    "ExecuteTime": {
     "end_time": "2022-01-21T14:44:26.285283Z",
     "start_time": "2022-01-21T14:44:26.271289Z"
    },
    "hidden": true,
    "scrolled": true
   },
   "outputs": [
    {
     "data": {
      "text/plain": [
       "B         448\n",
       "C         423\n",
       "A         406\n",
       "AGG MI    107\n",
       "C D       102\n",
       "AGG BG     37\n",
       "AGG BS     20\n",
       "D           2\n",
       "Name: Zona, dtype: int64"
      ]
     },
     "execution_count": 27,
     "metadata": {},
     "output_type": "execute_result"
    }
   ],
   "source": [
    "zonizzazione['Zona'].value_counts()"
   ]
  },
  {
   "cell_type": "markdown",
   "id": "d0367a29",
   "metadata": {
    "hidden": true
   },
   "source": [
    "## Data Cleansing"
   ]
  },
  {
   "cell_type": "markdown",
   "id": "a26dd232",
   "metadata": {
    "hidden": true
   },
   "source": [
    "### Rimozione righe mancanti"
   ]
  },
  {
   "cell_type": "code",
   "execution_count": 28,
   "id": "94d9b0f4",
   "metadata": {
    "ExecuteTime": {
     "end_time": "2022-01-21T14:44:26.301283Z",
     "start_time": "2022-01-21T14:44:26.287285Z"
    },
    "hidden": true
   },
   "outputs": [],
   "source": [
    "#aria_tot['Stato'].value_counts(dropna = False)  #commentato perche lento (il numero di na lo si vede nel blocco sotto)"
   ]
  },
  {
   "cell_type": "code",
   "execution_count": 29,
   "id": "9367db0c",
   "metadata": {
    "ExecuteTime": {
     "end_time": "2022-01-21T14:44:26.831288Z",
     "start_time": "2022-01-21T14:44:26.303284Z"
    },
    "hidden": true
   },
   "outputs": [
    {
     "name": "stdout",
     "output_type": "stream",
     "text": [
      "10800557   Numero righe con valori invalidi\n",
      "98291922 Numero righe totali\n",
      "10.99 %   Percentuale righe con valori invalidi\n"
     ]
    }
   ],
   "source": [
    "print(aria_tot['Valore'].isna().sum(), '  Numero righe con valori invalidi')\n",
    "print(len(aria_tot), 'Numero righe totali')\n",
    "print(round(aria_tot['Valore'].isna().sum()/len(aria_tot)*100, 2), '%   Percentuale righe con valori invalidi')"
   ]
  },
  {
   "cell_type": "markdown",
   "id": "e4182041",
   "metadata": {
    "hidden": true
   },
   "source": [
    "- L'invalidità del dato è descritta sia dall'attributo `Stato` che dalla presenza di NaN in `Valore`\n",
    "- MA (VA = dato valido NA = dato invalido I dati presenti in questo archivio relativi agli ultimi 3-6 mesi, contengono ancora valori incerti che possono subire modifiche da parte degli operatori delle reti (invalidazione manuale). Il processo di validazione dei dati prevede una fase di valutazione finale che si conclude entro il 30.3 dell’anno successivo a quello di misura)"
   ]
  },
  {
   "cell_type": "code",
   "execution_count": 30,
   "id": "9fddda11",
   "metadata": {
    "ExecuteTime": {
     "end_time": "2022-01-21T14:44:46.609288Z",
     "start_time": "2022-01-21T14:44:26.833289Z"
    },
    "hidden": true
   },
   "outputs": [
    {
     "data": {
      "text/plain": [
       "(87491365, 5)"
      ]
     },
     "execution_count": 30,
     "metadata": {},
     "output_type": "execute_result"
    }
   ],
   "source": [
    "aria_tot.dropna(subset = ['Valore', 'Stato'], inplace = True)\n",
    "aria_tot.reset_index(drop=True, inplace=True)\n",
    "aria_tot.shape"
   ]
  },
  {
   "cell_type": "markdown",
   "id": "24f4a62c",
   "metadata": {
    "hidden": true
   },
   "source": [
    "### Rimozione righe con idoperatore assurdo"
   ]
  },
  {
   "cell_type": "code",
   "execution_count": 31,
   "id": "ed8870f6",
   "metadata": {
    "ExecuteTime": {
     "end_time": "2022-01-21T14:44:48.880286Z",
     "start_time": "2022-01-21T14:44:46.616287Z"
    },
    "hidden": true
   },
   "outputs": [
    {
     "data": {
      "text/plain": [
       "idOperatore\n",
       "1        87491364\n",
       "15504           1\n",
       "dtype: int64"
      ]
     },
     "execution_count": 31,
     "metadata": {},
     "output_type": "execute_result"
    }
   ],
   "source": [
    "aria_tot.value_counts('idOperatore')"
   ]
  },
  {
   "cell_type": "code",
   "execution_count": 32,
   "id": "41e4dde3",
   "metadata": {
    "ExecuteTime": {
     "end_time": "2022-01-21T14:44:56.468284Z",
     "start_time": "2022-01-21T14:44:48.882289Z"
    },
    "hidden": true
   },
   "outputs": [],
   "source": [
    "aria_tot.drop(aria_tot[aria_tot.idOperatore == 15504].index, inplace=True)\n",
    "aria_tot.reset_index(drop=True, inplace=True)"
   ]
  },
  {
   "cell_type": "markdown",
   "id": "874e7003",
   "metadata": {
    "hidden": true
   },
   "source": [
    "### Rimozione sensori di grandezze minori"
   ]
  },
  {
   "cell_type": "markdown",
   "id": "bb1a20e3",
   "metadata": {
    "hidden": true
   },
   "source": [
    "- da `stazioni_aria` e `aria_20_21` trovare solo gli `IdSensore` di tipologia utile\n",
    "- Biossido di Azoto | PM10 (SM2005) e PM2,5 e/o Particolato totale | Ozono troposferico | Bisossido di Zolfo \n",
    "- Come categorie minori decido di tenere momentaneamente *Monossido di carbonio, benzene, Ossidi di Azoto e PM10*"
   ]
  },
  {
   "cell_type": "code",
   "execution_count": 33,
   "id": "a8200540",
   "metadata": {
    "ExecuteTime": {
     "end_time": "2022-01-21T14:44:56.499287Z",
     "start_time": "2022-01-21T14:44:56.471284Z"
    },
    "hidden": true
   },
   "outputs": [
    {
     "data": {
      "text/plain": [
       "Biossido di Azoto             166\n",
       "Ossidi di Azoto               166\n",
       "Biossido di Zolfo             125\n",
       "Monossido di Carbonio         101\n",
       "Ozono                          91\n",
       "PM10 (SM2005)                  90\n",
       "Particolato Totale Sospeso     55\n",
       "Particelle sospese PM2.5       40\n",
       "Benzene                        32\n",
       "Benzo(a)pirene                 15\n",
       "Nikel                          15\n",
       "Arsenico                       15\n",
       "Piombo                         15\n",
       "Cadmio                         15\n",
       "Ammoniaca                      14\n",
       "BlackCarbon                     4\n",
       "PM10                            4\n",
       "Monossido di Azoto              3\n",
       "Name: NomeTipoSensore, dtype: int64"
      ]
     },
     "execution_count": 33,
     "metadata": {},
     "output_type": "execute_result"
    }
   ],
   "source": [
    "sensori_aria['NomeTipoSensore'].value_counts()"
   ]
  },
  {
   "cell_type": "code",
   "execution_count": 34,
   "id": "205823f0",
   "metadata": {
    "ExecuteTime": {
     "end_time": "2022-01-21T14:44:56.560284Z",
     "start_time": "2022-01-21T14:44:56.503286Z"
    },
    "hidden": true
   },
   "outputs": [
    {
     "data": {
      "text/html": [
       "<div>\n",
       "<style scoped>\n",
       "    .dataframe tbody tr th:only-of-type {\n",
       "        vertical-align: middle;\n",
       "    }\n",
       "\n",
       "    .dataframe tbody tr th {\n",
       "        vertical-align: top;\n",
       "    }\n",
       "\n",
       "    .dataframe thead th {\n",
       "        text-align: right;\n",
       "    }\n",
       "</style>\n",
       "<table border=\"1\" class=\"dataframe\">\n",
       "  <thead>\n",
       "    <tr style=\"text-align: right;\">\n",
       "      <th></th>\n",
       "      <th>IdSensore</th>\n",
       "      <th>NomeTipoSensore</th>\n",
       "      <th>UnitaMisura</th>\n",
       "      <th>Idstazione</th>\n",
       "      <th>NomeStazione</th>\n",
       "      <th>Quota</th>\n",
       "      <th>Provincia</th>\n",
       "      <th>Comune</th>\n",
       "      <th>Storico</th>\n",
       "      <th>DataStart</th>\n",
       "      <th>DataStop</th>\n",
       "      <th>Utm_Nord</th>\n",
       "      <th>UTM_Est</th>\n",
       "      <th>lat</th>\n",
       "      <th>lng</th>\n",
       "      <th>location</th>\n",
       "    </tr>\n",
       "  </thead>\n",
       "  <tbody>\n",
       "    <tr>\n",
       "      <th>0</th>\n",
       "      <td>17286</td>\n",
       "      <td>Biossido di Azoto</td>\n",
       "      <td>µg/m³</td>\n",
       "      <td>1374</td>\n",
       "      <td>Monza Parco</td>\n",
       "      <td>181</td>\n",
       "      <td>MB</td>\n",
       "      <td>Monza</td>\n",
       "      <td>N</td>\n",
       "      <td>2013-01-05</td>\n",
       "      <td>NaT</td>\n",
       "      <td>5049780</td>\n",
       "      <td>521452</td>\n",
       "      <td>45.601232</td>\n",
       "      <td>9.275073</td>\n",
       "      <td>(45.60123219955139, 9.27507265782848)</td>\n",
       "    </tr>\n",
       "    <tr>\n",
       "      <th>1</th>\n",
       "      <td>17290</td>\n",
       "      <td>PM10 (SM2005)</td>\n",
       "      <td>µg/m³</td>\n",
       "      <td>1374</td>\n",
       "      <td>Monza Parco</td>\n",
       "      <td>181</td>\n",
       "      <td>MB</td>\n",
       "      <td>Monza</td>\n",
       "      <td>N</td>\n",
       "      <td>2013-02-15</td>\n",
       "      <td>NaT</td>\n",
       "      <td>5049780</td>\n",
       "      <td>521452</td>\n",
       "      <td>45.601232</td>\n",
       "      <td>9.275073</td>\n",
       "      <td>(45.60123219955139, 9.27507265782848)</td>\n",
       "    </tr>\n",
       "    <tr>\n",
       "      <th>2</th>\n",
       "      <td>17288</td>\n",
       "      <td>Ozono</td>\n",
       "      <td>µg/m³</td>\n",
       "      <td>1374</td>\n",
       "      <td>Monza Parco</td>\n",
       "      <td>181</td>\n",
       "      <td>MB</td>\n",
       "      <td>Monza</td>\n",
       "      <td>N</td>\n",
       "      <td>2013-09-02</td>\n",
       "      <td>NaT</td>\n",
       "      <td>5049780</td>\n",
       "      <td>521452</td>\n",
       "      <td>45.601232</td>\n",
       "      <td>9.275073</td>\n",
       "      <td>(45.60123219955139, 9.27507265782848)</td>\n",
       "    </tr>\n",
       "    <tr>\n",
       "      <th>3</th>\n",
       "      <td>10112</td>\n",
       "      <td>Ozono</td>\n",
       "      <td>µg/m³</td>\n",
       "      <td>698</td>\n",
       "      <td>Ceneselli v. Moro</td>\n",
       "      <td>13</td>\n",
       "      <td>RO</td>\n",
       "      <td>Ceneselli</td>\n",
       "      <td>S</td>\n",
       "      <td>2006-11-28</td>\n",
       "      <td>2017-01-01</td>\n",
       "      <td>4987161</td>\n",
       "      <td>686934</td>\n",
       "      <td>45.013257</td>\n",
       "      <td>11.372345</td>\n",
       "      <td>(45.01325676849334, 11.372344948058235)</td>\n",
       "    </tr>\n",
       "    <tr>\n",
       "      <th>4</th>\n",
       "      <td>12531</td>\n",
       "      <td>PM10 (SM2005)</td>\n",
       "      <td>µg/m³</td>\n",
       "      <td>1297</td>\n",
       "      <td>Spinadesco v.Battisti</td>\n",
       "      <td>48</td>\n",
       "      <td>CR</td>\n",
       "      <td>Spinadesco</td>\n",
       "      <td>N</td>\n",
       "      <td>2011-02-16</td>\n",
       "      <td>NaT</td>\n",
       "      <td>5000087</td>\n",
       "      <td>573153</td>\n",
       "      <td>45.150469</td>\n",
       "      <td>9.930596</td>\n",
       "      <td>(45.150468869856816, 9.930596472272326)</td>\n",
       "    </tr>\n",
       "  </tbody>\n",
       "</table>\n",
       "</div>"
      ],
      "text/plain": [
       "   IdSensore    NomeTipoSensore UnitaMisura  Idstazione  \\\n",
       "0      17286  Biossido di Azoto       µg/m³        1374   \n",
       "1      17290      PM10 (SM2005)       µg/m³        1374   \n",
       "2      17288              Ozono       µg/m³        1374   \n",
       "3      10112              Ozono       µg/m³         698   \n",
       "4      12531      PM10 (SM2005)       µg/m³        1297   \n",
       "\n",
       "            NomeStazione  Quota Provincia      Comune Storico  DataStart  \\\n",
       "0            Monza Parco    181        MB       Monza       N 2013-01-05   \n",
       "1            Monza Parco    181        MB       Monza       N 2013-02-15   \n",
       "2            Monza Parco    181        MB       Monza       N 2013-09-02   \n",
       "3      Ceneselli v. Moro     13        RO   Ceneselli       S 2006-11-28   \n",
       "4  Spinadesco v.Battisti     48        CR  Spinadesco       N 2011-02-16   \n",
       "\n",
       "    DataStop  Utm_Nord  UTM_Est        lat        lng  \\\n",
       "0        NaT   5049780   521452  45.601232   9.275073   \n",
       "1        NaT   5049780   521452  45.601232   9.275073   \n",
       "2        NaT   5049780   521452  45.601232   9.275073   \n",
       "3 2017-01-01   4987161   686934  45.013257  11.372345   \n",
       "4        NaT   5000087   573153  45.150469   9.930596   \n",
       "\n",
       "                                  location  \n",
       "0    (45.60123219955139, 9.27507265782848)  \n",
       "1    (45.60123219955139, 9.27507265782848)  \n",
       "2    (45.60123219955139, 9.27507265782848)  \n",
       "3  (45.01325676849334, 11.372344948058235)  \n",
       "4  (45.150468869856816, 9.930596472272326)  "
      ]
     },
     "execution_count": 34,
     "metadata": {},
     "output_type": "execute_result"
    }
   ],
   "source": [
    "grandezze_di_interesse = ['Biossido di Azoto',\n",
    "                          'PM10 (SM2005)',\n",
    "                          'Ozono',\n",
    "                          'Biossido di Zolfo',\n",
    "                          'Particelle sospese PM2.5']\n",
    "sensori_aria.drop(sensori_aria[~sensori_aria['NomeTipoSensore'].isin(grandezze_di_interesse)].index, inplace = True)\n",
    "sensori_aria.reset_index(drop=True, inplace=True)\n",
    "sensori_aria.head()"
   ]
  },
  {
   "cell_type": "code",
   "execution_count": 35,
   "id": "db569ca1",
   "metadata": {
    "ExecuteTime": {
     "end_time": "2022-01-21T14:44:56.591284Z",
     "start_time": "2022-01-21T14:44:56.562285Z"
    },
    "hidden": true
   },
   "outputs": [
    {
     "data": {
      "text/plain": [
       "Zona\n",
       "A         2862310\n",
       "AGG BG     422629\n",
       "AGG BS     392782\n",
       "AGG MI    3593025\n",
       "B         1461573\n",
       "C          757127\n",
       "C D        328196\n",
       "D            8499\n",
       "Name: Residenti 2008, dtype: int64"
      ]
     },
     "execution_count": 35,
     "metadata": {},
     "output_type": "execute_result"
    }
   ],
   "source": [
    "zonizzazione.groupby('Zona')['Residenti 2008'].sum()"
   ]
  },
  {
   "cell_type": "markdown",
   "id": "c367220f",
   "metadata": {
    "heading_collapsed": true
   },
   "source": [
    "# Data preparation (group by e join su *superset*)"
   ]
  },
  {
   "cell_type": "markdown",
   "id": "bf3722b4",
   "metadata": {
    "hidden": true
   },
   "source": [
    "## GROUP BY `aria__id_day`"
   ]
  },
  {
   "cell_type": "markdown",
   "id": "98217d70",
   "metadata": {
    "hidden": true
   },
   "source": [
    "- Raggruppo per `IdSensore` e `Data`(giorno)\n",
    "- Calcolo grandezze aggregate\n",
    "    - Calcolo il valore medio e la deviazione standard del `Valore` registrato dal senbsore\n",
    "    - Importante sottolineare che le funzioni `mean, count e std` di pandas NON tengono conto dei Na, quindi i valori che vediamo sono esatti"
   ]
  },
  {
   "cell_type": "code",
   "execution_count": 36,
   "id": "38d40685",
   "metadata": {
    "ExecuteTime": {
     "end_time": "2022-01-21T14:45:59.318285Z",
     "start_time": "2022-01-21T14:44:56.593284Z"
    },
    "hidden": true
   },
   "outputs": [
    {
     "data": {
      "text/html": [
       "<div>\n",
       "<style scoped>\n",
       "    .dataframe tbody tr th:only-of-type {\n",
       "        vertical-align: middle;\n",
       "    }\n",
       "\n",
       "    .dataframe tbody tr th {\n",
       "        vertical-align: top;\n",
       "    }\n",
       "\n",
       "    .dataframe thead th {\n",
       "        text-align: right;\n",
       "    }\n",
       "</style>\n",
       "<table border=\"1\" class=\"dataframe\">\n",
       "  <thead>\n",
       "    <tr style=\"text-align: right;\">\n",
       "      <th></th>\n",
       "      <th>IdSensore</th>\n",
       "      <th>Data</th>\n",
       "      <th>Valore_MAX_id_day</th>\n",
       "      <th>Valore_MEAN_id_day</th>\n",
       "      <th>Valore_COUNT_id_day</th>\n",
       "    </tr>\n",
       "  </thead>\n",
       "  <tbody>\n",
       "    <tr>\n",
       "      <th>0</th>\n",
       "      <td>5504</td>\n",
       "      <td>1996-01-01</td>\n",
       "      <td>118.5</td>\n",
       "      <td>79.504167</td>\n",
       "      <td>24</td>\n",
       "    </tr>\n",
       "    <tr>\n",
       "      <th>1</th>\n",
       "      <td>5504</td>\n",
       "      <td>1996-01-02</td>\n",
       "      <td>133.8</td>\n",
       "      <td>100.858333</td>\n",
       "      <td>24</td>\n",
       "    </tr>\n",
       "    <tr>\n",
       "      <th>2</th>\n",
       "      <td>5504</td>\n",
       "      <td>1996-01-03</td>\n",
       "      <td>145.3</td>\n",
       "      <td>91.612500</td>\n",
       "      <td>24</td>\n",
       "    </tr>\n",
       "    <tr>\n",
       "      <th>3</th>\n",
       "      <td>5504</td>\n",
       "      <td>1996-01-04</td>\n",
       "      <td>133.8</td>\n",
       "      <td>81.270833</td>\n",
       "      <td>24</td>\n",
       "    </tr>\n",
       "    <tr>\n",
       "      <th>4</th>\n",
       "      <td>5504</td>\n",
       "      <td>1996-01-05</td>\n",
       "      <td>88.0</td>\n",
       "      <td>68.191667</td>\n",
       "      <td>24</td>\n",
       "    </tr>\n",
       "    <tr>\n",
       "      <th>...</th>\n",
       "      <td>...</td>\n",
       "      <td>...</td>\n",
       "      <td>...</td>\n",
       "      <td>...</td>\n",
       "      <td>...</td>\n",
       "    </tr>\n",
       "    <tr>\n",
       "      <th>4622706</th>\n",
       "      <td>30166</td>\n",
       "      <td>2021-12-23</td>\n",
       "      <td>3.6</td>\n",
       "      <td>3.600000</td>\n",
       "      <td>1</td>\n",
       "    </tr>\n",
       "    <tr>\n",
       "      <th>4622707</th>\n",
       "      <td>30166</td>\n",
       "      <td>2021-12-24</td>\n",
       "      <td>3.1</td>\n",
       "      <td>3.100000</td>\n",
       "      <td>1</td>\n",
       "    </tr>\n",
       "    <tr>\n",
       "      <th>4622708</th>\n",
       "      <td>30166</td>\n",
       "      <td>2021-12-25</td>\n",
       "      <td>3.3</td>\n",
       "      <td>3.300000</td>\n",
       "      <td>1</td>\n",
       "    </tr>\n",
       "    <tr>\n",
       "      <th>4622709</th>\n",
       "      <td>30166</td>\n",
       "      <td>2021-12-26</td>\n",
       "      <td>3.1</td>\n",
       "      <td>3.100000</td>\n",
       "      <td>1</td>\n",
       "    </tr>\n",
       "    <tr>\n",
       "      <th>4622710</th>\n",
       "      <td>30166</td>\n",
       "      <td>2021-12-27</td>\n",
       "      <td>2.4</td>\n",
       "      <td>2.400000</td>\n",
       "      <td>1</td>\n",
       "    </tr>\n",
       "  </tbody>\n",
       "</table>\n",
       "<p>4622711 rows × 5 columns</p>\n",
       "</div>"
      ],
      "text/plain": [
       "         IdSensore        Data  Valore_MAX_id_day  Valore_MEAN_id_day  \\\n",
       "0             5504  1996-01-01              118.5           79.504167   \n",
       "1             5504  1996-01-02              133.8          100.858333   \n",
       "2             5504  1996-01-03              145.3           91.612500   \n",
       "3             5504  1996-01-04              133.8           81.270833   \n",
       "4             5504  1996-01-05               88.0           68.191667   \n",
       "...            ...         ...                ...                 ...   \n",
       "4622706      30166  2021-12-23                3.6            3.600000   \n",
       "4622707      30166  2021-12-24                3.1            3.100000   \n",
       "4622708      30166  2021-12-25                3.3            3.300000   \n",
       "4622709      30166  2021-12-26                3.1            3.100000   \n",
       "4622710      30166  2021-12-27                2.4            2.400000   \n",
       "\n",
       "         Valore_COUNT_id_day  \n",
       "0                         24  \n",
       "1                         24  \n",
       "2                         24  \n",
       "3                         24  \n",
       "4                         24  \n",
       "...                      ...  \n",
       "4622706                    1  \n",
       "4622707                    1  \n",
       "4622708                    1  \n",
       "4622709                    1  \n",
       "4622710                    1  \n",
       "\n",
       "[4622711 rows x 5 columns]"
      ]
     },
     "execution_count": 36,
     "metadata": {},
     "output_type": "execute_result"
    }
   ],
   "source": [
    "aria__id_day = aria_tot[['IdSensore', 'Data', 'Valore']]\\\n",
    "               .groupby(['IdSensore', aria_tot['Data'].dt.date])\\\n",
    "               .agg({'Valore': ['max', 'mean', 'count']})\\\n",
    "               .reset_index()\n",
    "\n",
    "aria__id_day.columns = ['IdSensore', 'Data', 'Valore_MAX_id_day', 'Valore_MEAN_id_day', 'Valore_COUNT_id_day']\n",
    "aria__id_day"
   ]
  },
  {
   "cell_type": "markdown",
   "id": "532a1406",
   "metadata": {
    "hidden": true
   },
   "source": [
    "## JOIN `aria_sensori__id_day`"
   ]
  },
  {
   "cell_type": "markdown",
   "id": "16a77ed9",
   "metadata": {
    "hidden": true
   },
   "source": [
    "Inner join tra `aria__id_day` e `sensori_aria` a dare `aria_sensori__id_day`"
   ]
  },
  {
   "cell_type": "code",
   "execution_count": 37,
   "id": "c524de53",
   "metadata": {
    "ExecuteTime": {
     "end_time": "2022-01-21T14:46:00.891285Z",
     "start_time": "2022-01-21T14:45:59.321286Z"
    },
    "hidden": true
   },
   "outputs": [
    {
     "data": {
      "text/html": [
       "<div>\n",
       "<style scoped>\n",
       "    .dataframe tbody tr th:only-of-type {\n",
       "        vertical-align: middle;\n",
       "    }\n",
       "\n",
       "    .dataframe tbody tr th {\n",
       "        vertical-align: top;\n",
       "    }\n",
       "\n",
       "    .dataframe thead th {\n",
       "        text-align: right;\n",
       "    }\n",
       "</style>\n",
       "<table border=\"1\" class=\"dataframe\">\n",
       "  <thead>\n",
       "    <tr style=\"text-align: right;\">\n",
       "      <th></th>\n",
       "      <th>IdSensore</th>\n",
       "      <th>Data</th>\n",
       "      <th>Valore_MAX_id_day</th>\n",
       "      <th>Valore_MEAN_id_day</th>\n",
       "      <th>Valore_COUNT_id_day</th>\n",
       "      <th>NomeTipoSensore</th>\n",
       "      <th>UnitaMisura</th>\n",
       "      <th>Idstazione</th>\n",
       "      <th>Comune</th>\n",
       "      <th>lat</th>\n",
       "      <th>lng</th>\n",
       "      <th>DataStart</th>\n",
       "      <th>NomeStazione</th>\n",
       "      <th>Quota</th>\n",
       "      <th>Provincia</th>\n",
       "    </tr>\n",
       "  </thead>\n",
       "  <tbody>\n",
       "    <tr>\n",
       "      <th>0</th>\n",
       "      <td>5504</td>\n",
       "      <td>1996-01-01</td>\n",
       "      <td>118.5</td>\n",
       "      <td>79.504167</td>\n",
       "      <td>24</td>\n",
       "      <td>Biossido di Azoto</td>\n",
       "      <td>µg/m³</td>\n",
       "      <td>501</td>\n",
       "      <td>Milano</td>\n",
       "      <td>45.496316</td>\n",
       "      <td>9.190934</td>\n",
       "      <td>1980-09-18</td>\n",
       "      <td>Milano v.Marche</td>\n",
       "      <td>129</td>\n",
       "      <td>MI</td>\n",
       "    </tr>\n",
       "    <tr>\n",
       "      <th>1</th>\n",
       "      <td>5504</td>\n",
       "      <td>1996-01-02</td>\n",
       "      <td>133.8</td>\n",
       "      <td>100.858333</td>\n",
       "      <td>24</td>\n",
       "      <td>Biossido di Azoto</td>\n",
       "      <td>µg/m³</td>\n",
       "      <td>501</td>\n",
       "      <td>Milano</td>\n",
       "      <td>45.496316</td>\n",
       "      <td>9.190934</td>\n",
       "      <td>1980-09-18</td>\n",
       "      <td>Milano v.Marche</td>\n",
       "      <td>129</td>\n",
       "      <td>MI</td>\n",
       "    </tr>\n",
       "    <tr>\n",
       "      <th>2</th>\n",
       "      <td>5504</td>\n",
       "      <td>1996-01-03</td>\n",
       "      <td>145.3</td>\n",
       "      <td>91.612500</td>\n",
       "      <td>24</td>\n",
       "      <td>Biossido di Azoto</td>\n",
       "      <td>µg/m³</td>\n",
       "      <td>501</td>\n",
       "      <td>Milano</td>\n",
       "      <td>45.496316</td>\n",
       "      <td>9.190934</td>\n",
       "      <td>1980-09-18</td>\n",
       "      <td>Milano v.Marche</td>\n",
       "      <td>129</td>\n",
       "      <td>MI</td>\n",
       "    </tr>\n",
       "    <tr>\n",
       "      <th>3</th>\n",
       "      <td>5504</td>\n",
       "      <td>1996-01-04</td>\n",
       "      <td>133.8</td>\n",
       "      <td>81.270833</td>\n",
       "      <td>24</td>\n",
       "      <td>Biossido di Azoto</td>\n",
       "      <td>µg/m³</td>\n",
       "      <td>501</td>\n",
       "      <td>Milano</td>\n",
       "      <td>45.496316</td>\n",
       "      <td>9.190934</td>\n",
       "      <td>1980-09-18</td>\n",
       "      <td>Milano v.Marche</td>\n",
       "      <td>129</td>\n",
       "      <td>MI</td>\n",
       "    </tr>\n",
       "    <tr>\n",
       "      <th>4</th>\n",
       "      <td>5504</td>\n",
       "      <td>1996-01-05</td>\n",
       "      <td>88.0</td>\n",
       "      <td>68.191667</td>\n",
       "      <td>24</td>\n",
       "      <td>Biossido di Azoto</td>\n",
       "      <td>µg/m³</td>\n",
       "      <td>501</td>\n",
       "      <td>Milano</td>\n",
       "      <td>45.496316</td>\n",
       "      <td>9.190934</td>\n",
       "      <td>1980-09-18</td>\n",
       "      <td>Milano v.Marche</td>\n",
       "      <td>129</td>\n",
       "      <td>MI</td>\n",
       "    </tr>\n",
       "    <tr>\n",
       "      <th>...</th>\n",
       "      <td>...</td>\n",
       "      <td>...</td>\n",
       "      <td>...</td>\n",
       "      <td>...</td>\n",
       "      <td>...</td>\n",
       "      <td>...</td>\n",
       "      <td>...</td>\n",
       "      <td>...</td>\n",
       "      <td>...</td>\n",
       "      <td>...</td>\n",
       "      <td>...</td>\n",
       "      <td>...</td>\n",
       "      <td>...</td>\n",
       "      <td>...</td>\n",
       "      <td>...</td>\n",
       "    </tr>\n",
       "    <tr>\n",
       "      <th>2677350</th>\n",
       "      <td>30165</td>\n",
       "      <td>2021-12-24</td>\n",
       "      <td>1.8</td>\n",
       "      <td>0.775000</td>\n",
       "      <td>24</td>\n",
       "      <td>Ozono</td>\n",
       "      <td>µg/m³</td>\n",
       "      <td>669</td>\n",
       "      <td>Brescia</td>\n",
       "      <td>45.513039</td>\n",
       "      <td>10.191942</td>\n",
       "      <td>2013-12-13</td>\n",
       "      <td>Brescia Villaggio Sereno</td>\n",
       "      <td>70</td>\n",
       "      <td>BS</td>\n",
       "    </tr>\n",
       "    <tr>\n",
       "      <th>2677351</th>\n",
       "      <td>30165</td>\n",
       "      <td>2021-12-25</td>\n",
       "      <td>1.8</td>\n",
       "      <td>0.495833</td>\n",
       "      <td>24</td>\n",
       "      <td>Ozono</td>\n",
       "      <td>µg/m³</td>\n",
       "      <td>669</td>\n",
       "      <td>Brescia</td>\n",
       "      <td>45.513039</td>\n",
       "      <td>10.191942</td>\n",
       "      <td>2013-12-13</td>\n",
       "      <td>Brescia Villaggio Sereno</td>\n",
       "      <td>70</td>\n",
       "      <td>BS</td>\n",
       "    </tr>\n",
       "    <tr>\n",
       "      <th>2677352</th>\n",
       "      <td>30165</td>\n",
       "      <td>2021-12-26</td>\n",
       "      <td>2.4</td>\n",
       "      <td>0.537500</td>\n",
       "      <td>24</td>\n",
       "      <td>Ozono</td>\n",
       "      <td>µg/m³</td>\n",
       "      <td>669</td>\n",
       "      <td>Brescia</td>\n",
       "      <td>45.513039</td>\n",
       "      <td>10.191942</td>\n",
       "      <td>2013-12-13</td>\n",
       "      <td>Brescia Villaggio Sereno</td>\n",
       "      <td>70</td>\n",
       "      <td>BS</td>\n",
       "    </tr>\n",
       "    <tr>\n",
       "      <th>2677353</th>\n",
       "      <td>30165</td>\n",
       "      <td>2021-12-27</td>\n",
       "      <td>9.1</td>\n",
       "      <td>1.162500</td>\n",
       "      <td>24</td>\n",
       "      <td>Ozono</td>\n",
       "      <td>µg/m³</td>\n",
       "      <td>669</td>\n",
       "      <td>Brescia</td>\n",
       "      <td>45.513039</td>\n",
       "      <td>10.191942</td>\n",
       "      <td>2013-12-13</td>\n",
       "      <td>Brescia Villaggio Sereno</td>\n",
       "      <td>70</td>\n",
       "      <td>BS</td>\n",
       "    </tr>\n",
       "    <tr>\n",
       "      <th>2677354</th>\n",
       "      <td>30165</td>\n",
       "      <td>2021-12-28</td>\n",
       "      <td>0.3</td>\n",
       "      <td>0.042857</td>\n",
       "      <td>7</td>\n",
       "      <td>Ozono</td>\n",
       "      <td>µg/m³</td>\n",
       "      <td>669</td>\n",
       "      <td>Brescia</td>\n",
       "      <td>45.513039</td>\n",
       "      <td>10.191942</td>\n",
       "      <td>2013-12-13</td>\n",
       "      <td>Brescia Villaggio Sereno</td>\n",
       "      <td>70</td>\n",
       "      <td>BS</td>\n",
       "    </tr>\n",
       "  </tbody>\n",
       "</table>\n",
       "<p>2677355 rows × 15 columns</p>\n",
       "</div>"
      ],
      "text/plain": [
       "         IdSensore        Data  Valore_MAX_id_day  Valore_MEAN_id_day  \\\n",
       "0             5504  1996-01-01              118.5           79.504167   \n",
       "1             5504  1996-01-02              133.8          100.858333   \n",
       "2             5504  1996-01-03              145.3           91.612500   \n",
       "3             5504  1996-01-04              133.8           81.270833   \n",
       "4             5504  1996-01-05               88.0           68.191667   \n",
       "...            ...         ...                ...                 ...   \n",
       "2677350      30165  2021-12-24                1.8            0.775000   \n",
       "2677351      30165  2021-12-25                1.8            0.495833   \n",
       "2677352      30165  2021-12-26                2.4            0.537500   \n",
       "2677353      30165  2021-12-27                9.1            1.162500   \n",
       "2677354      30165  2021-12-28                0.3            0.042857   \n",
       "\n",
       "         Valore_COUNT_id_day    NomeTipoSensore UnitaMisura  Idstazione  \\\n",
       "0                         24  Biossido di Azoto       µg/m³         501   \n",
       "1                         24  Biossido di Azoto       µg/m³         501   \n",
       "2                         24  Biossido di Azoto       µg/m³         501   \n",
       "3                         24  Biossido di Azoto       µg/m³         501   \n",
       "4                         24  Biossido di Azoto       µg/m³         501   \n",
       "...                      ...                ...         ...         ...   \n",
       "2677350                   24              Ozono       µg/m³         669   \n",
       "2677351                   24              Ozono       µg/m³         669   \n",
       "2677352                   24              Ozono       µg/m³         669   \n",
       "2677353                   24              Ozono       µg/m³         669   \n",
       "2677354                    7              Ozono       µg/m³         669   \n",
       "\n",
       "          Comune        lat        lng  DataStart              NomeStazione  \\\n",
       "0         Milano  45.496316   9.190934 1980-09-18           Milano v.Marche   \n",
       "1         Milano  45.496316   9.190934 1980-09-18           Milano v.Marche   \n",
       "2         Milano  45.496316   9.190934 1980-09-18           Milano v.Marche   \n",
       "3         Milano  45.496316   9.190934 1980-09-18           Milano v.Marche   \n",
       "4         Milano  45.496316   9.190934 1980-09-18           Milano v.Marche   \n",
       "...          ...        ...        ...        ...                       ...   \n",
       "2677350  Brescia  45.513039  10.191942 2013-12-13  Brescia Villaggio Sereno   \n",
       "2677351  Brescia  45.513039  10.191942 2013-12-13  Brescia Villaggio Sereno   \n",
       "2677352  Brescia  45.513039  10.191942 2013-12-13  Brescia Villaggio Sereno   \n",
       "2677353  Brescia  45.513039  10.191942 2013-12-13  Brescia Villaggio Sereno   \n",
       "2677354  Brescia  45.513039  10.191942 2013-12-13  Brescia Villaggio Sereno   \n",
       "\n",
       "         Quota Provincia  \n",
       "0          129        MI  \n",
       "1          129        MI  \n",
       "2          129        MI  \n",
       "3          129        MI  \n",
       "4          129        MI  \n",
       "...        ...       ...  \n",
       "2677350     70        BS  \n",
       "2677351     70        BS  \n",
       "2677352     70        BS  \n",
       "2677353     70        BS  \n",
       "2677354     70        BS  \n",
       "\n",
       "[2677355 rows x 15 columns]"
      ]
     },
     "execution_count": 37,
     "metadata": {},
     "output_type": "execute_result"
    }
   ],
   "source": [
    "aria_sensori__id_day = pd.merge(aria__id_day, sensori_aria[['IdSensore', 'NomeTipoSensore', 'UnitaMisura', 'Idstazione', 'Comune', 'lat', 'lng', 'DataStart', 'NomeStazione', 'Quota', 'Provincia']], how = 'inner', on = 'IdSensore')\n",
    "aria_sensori__id_day"
   ]
  },
  {
   "cell_type": "markdown",
   "id": "097950f4",
   "metadata": {
    "hidden": true
   },
   "source": [
    "#### Perchè si perdono delle medie facendo il JOIN ?\n",
    "Si perdono delle righe con il merge, questo è dovuto al fatto che:\n",
    "- Praticamente ci sono **88 sensori** che compaiono solo in **aria_20_21 ma non sono registrati** in **sensori_aria** (controllato manualente)"
   ]
  },
  {
   "cell_type": "code",
   "execution_count": 38,
   "id": "df852392",
   "metadata": {
    "ExecuteTime": {
     "end_time": "2022-01-21T14:46:08.732285Z",
     "start_time": "2022-01-21T14:46:00.894288Z"
    },
    "hidden": true
   },
   "outputs": [
    {
     "name": "stdout",
     "output_type": "stream",
     "text": [
      "437    Numero di sensori che non compaiono in sensori_aria\n",
      "1945356 Numero di righe di aria__id_day relative a quei sensori\n",
      "1945356 Numero di righe perse nel join\n"
     ]
    }
   ],
   "source": [
    "print(len(aria_tot[~aria_tot.IdSensore.isin(sensori_aria.IdSensore)]['IdSensore'].unique()), '   Numero di sensori che non compaiono in sensori_aria')\n",
    "lista = aria_tot[~aria_tot.IdSensore.isin(sensori_aria.IdSensore)]['IdSensore'].unique()\n",
    "print(aria__id_day[aria__id_day.IdSensore.isin(lista)].shape[0], 'Numero di righe di aria__id_day relative a quei sensori')\n",
    "print(aria__id_day.shape[0] - aria_sensori__id_day.shape[0], 'Numero di righe perse nel join')"
   ]
  },
  {
   "cell_type": "markdown",
   "id": "d2e191f7",
   "metadata": {
    "hidden": true
   },
   "source": [
    "## Controllo significativitá medie e unitá di misura"
   ]
  },
  {
   "cell_type": "markdown",
   "id": "5ce26265",
   "metadata": {
    "hidden": true
   },
   "source": [
    "### Medie ottenute da piú di un'osservazione"
   ]
  },
  {
   "cell_type": "markdown",
   "id": "4a7f8a6e",
   "metadata": {
    "hidden": true
   },
   "source": [
    "Cerco di determinare quali medie Idsensore-giorno, siano significative, quindi siano ottenute da un numero sufficiente di misurazioni\n",
    "- Per prima cosa verifico il numero di di medie giornaliere per sensore ottenute dal **numero massimo di misurazioni (24**, una misurazione ogni ora)"
   ]
  },
  {
   "cell_type": "code",
   "execution_count": 39,
   "id": "6a9e3243",
   "metadata": {
    "ExecuteTime": {
     "end_time": "2022-01-21T14:46:09.530287Z",
     "start_time": "2022-01-21T14:46:08.733288Z"
    },
    "hidden": true
   },
   "outputs": [
    {
     "data": {
      "text/plain": [
       "1588220"
      ]
     },
     "execution_count": 39,
     "metadata": {},
     "output_type": "execute_result"
    }
   ],
   "source": [
    "aria_sensori__id_day[aria_sensori__id_day.Valore_COUNT_id_day == 24].shape[0]"
   ]
  },
  {
   "cell_type": "markdown",
   "id": "65ca2aa5",
   "metadata": {
    "hidden": true
   },
   "source": [
    "- Ora verifico quante di queste siano ottenute da un **solo valore**\n",
    "    - Queste potrebbero avere senso, perchè alcune misurazioni sono fornite dai sensori già mediate sull'intera giornata (o almeno dovrebbero)\n",
    "    - Come PM2.5 e PM10\n",
    "- Per questo per ora direi di non toglierle, valutiamo bene la casistica una volta effettuato il join con il dataset delle stazioni"
   ]
  },
  {
   "cell_type": "code",
   "execution_count": 40,
   "id": "4d0b760b",
   "metadata": {
    "ExecuteTime": {
     "end_time": "2022-01-21T14:46:09.672285Z",
     "start_time": "2022-01-21T14:46:09.532284Z"
    },
    "hidden": true
   },
   "outputs": [
    {
     "data": {
      "text/plain": [
       "604988"
      ]
     },
     "execution_count": 40,
     "metadata": {},
     "output_type": "execute_result"
    }
   ],
   "source": [
    "aria_sensori__id_day[aria_sensori__id_day.Valore_COUNT_id_day == 1].shape[0]"
   ]
  },
  {
   "cell_type": "markdown",
   "id": "b3110630",
   "metadata": {
    "hidden": true
   },
   "source": [
    "- Verifico quali medie sono ottenute da **meno di 8 misurazioni** ma **piú di 1 misurazione**\n",
    "    - Secondo me 8 ore, anche se fossero di fila e non sparse, è un dato ottimo. UNa concentrazione più o meno stabile di inquinante per 8 ore è significativa.\n",
    "    - Inoltre con 8 osservazioni penso che eventuali outliers vengano abbastanza spenti in media, comunque l’effetto non è troppo diverso da averne 15 in termini di effetto degli outliers,"
   ]
  },
  {
   "cell_type": "code",
   "execution_count": 41,
   "id": "c2b42de9",
   "metadata": {
    "ExecuteTime": {
     "end_time": "2022-01-21T14:46:09.748322Z",
     "start_time": "2022-01-21T14:46:09.674285Z"
    },
    "hidden": true
   },
   "outputs": [
    {
     "data": {
      "text/plain": [
       "8643"
      ]
     },
     "execution_count": 41,
     "metadata": {},
     "output_type": "execute_result"
    }
   ],
   "source": [
    "aria_sensori__id_day[(aria_sensori__id_day.Valore_COUNT_id_day < 8) & (aria_sensori__id_day.Valore_COUNT_id_day > 1)].shape[0]"
   ]
  },
  {
   "cell_type": "markdown",
   "id": "31867bb5",
   "metadata": {
    "hidden": true
   },
   "source": [
    "- Verifico quali medie sono ottenute da **meno di 15 misurazioni** ma **piú di 1 misurazione** (considero un cutoff significativo)"
   ]
  },
  {
   "cell_type": "code",
   "execution_count": 42,
   "id": "325138d0",
   "metadata": {
    "ExecuteTime": {
     "end_time": "2022-01-21T14:46:09.795293Z",
     "start_time": "2022-01-21T14:46:09.750286Z"
    },
    "hidden": true
   },
   "outputs": [
    {
     "data": {
      "text/plain": [
       "48311"
      ]
     },
     "execution_count": 42,
     "metadata": {},
     "output_type": "execute_result"
    }
   ],
   "source": [
    "aria_sensori__id_day[(aria_sensori__id_day.Valore_COUNT_id_day < 15) & (aria_sensori__id_day.Valore_COUNT_id_day > 1)].shape[0]"
   ]
  },
  {
   "cell_type": "markdown",
   "id": "410bb5dd",
   "metadata": {
    "hidden": true
   },
   "source": [
    "- Verifico quali sono ottenute da 0 osservazioni"
   ]
  },
  {
   "cell_type": "code",
   "execution_count": 43,
   "id": "c7756d75",
   "metadata": {
    "ExecuteTime": {
     "end_time": "2022-01-21T14:46:09.811285Z",
     "start_time": "2022-01-21T14:46:09.796287Z"
    },
    "hidden": true
   },
   "outputs": [
    {
     "data": {
      "text/plain": [
       "0"
      ]
     },
     "execution_count": 43,
     "metadata": {},
     "output_type": "execute_result"
    }
   ],
   "source": [
    "aria_sensori__id_day[aria_sensori__id_day.Valore_COUNT_id_day == 0].shape[0]"
   ]
  },
  {
   "cell_type": "markdown",
   "id": "b65aab0f",
   "metadata": {
    "hidden": true
   },
   "source": [
    "#### Rimozione medie ottenute da meno di 8 osservazioni"
   ]
  },
  {
   "cell_type": "code",
   "execution_count": 44,
   "id": "93645e4b",
   "metadata": {
    "ExecuteTime": {
     "end_time": "2022-01-21T14:46:10.464341Z",
     "start_time": "2022-01-21T14:46:09.813284Z"
    },
    "hidden": true
   },
   "outputs": [],
   "source": [
    "aria_sensori__id_day.drop(aria_sensori__id_day[(aria_sensori__id_day.Valore_COUNT_id_day < 8) & (aria_sensori__id_day.Valore_COUNT_id_day > 1)].index, inplace=True)\n",
    "aria_sensori__id_day.reset_index(drop=True, inplace=True)"
   ]
  },
  {
   "cell_type": "markdown",
   "id": "e0ab4d56",
   "metadata": {
    "hidden": true
   },
   "source": [
    "### Medie ottenute da un'osservazione "
   ]
  },
  {
   "cell_type": "code",
   "execution_count": 45,
   "id": "b42bc3a2",
   "metadata": {
    "ExecuteTime": {
     "end_time": "2022-01-21T14:46:10.931285Z",
     "start_time": "2022-01-21T14:46:10.465318Z"
    },
    "hidden": true
   },
   "outputs": [
    {
     "name": "stdout",
     "output_type": "stream",
     "text": [
      "NomeTipoSensore\n",
      "Biossido di Azoto           1038138\n",
      "Biossido di Zolfo            509934\n",
      "Ozono                        522509\n",
      "PM10 (SM2005)                452398\n",
      "Particelle sospese PM2.5     145733\n",
      "dtype: int64 \n",
      "\n",
      "NomeTipoSensore\n",
      "Biossido di Azoto             3371\n",
      "Biossido di Zolfo             1995\n",
      "Ozono                         1810\n",
      "PM10 (SM2005)               452307\n",
      "Particelle sospese PM2.5    145505\n",
      "dtype: int64\n"
     ]
    }
   ],
   "source": [
    "print(aria_sensori__id_day.value_counts('NomeTipoSensore').sort_index(), '\\n')\n",
    "print(aria_sensori__id_day[(aria_sensori__id_day.Valore_COUNT_id_day == 1)].value_counts('NomeTipoSensore').sort_index())"
   ]
  },
  {
   "cell_type": "markdown",
   "id": "3e0903a2",
   "metadata": {
    "hidden": true
   },
   "source": [
    "**Molte di queste sono PM10 e PM2.5**\n",
    "- giustificate dal fatto che sono già fornite in quanto medie (ecco perchè solo una misurazione !)\n",
    "- Non le elimino"
   ]
  },
  {
   "cell_type": "code",
   "execution_count": 46,
   "id": "fea749be",
   "metadata": {
    "ExecuteTime": {
     "end_time": "2022-01-21T14:46:12.284289Z",
     "start_time": "2022-01-21T14:46:10.933287Z"
    },
    "hidden": true
   },
   "outputs": [
    {
     "name": "stdout",
     "output_type": "stream",
     "text": [
      "NomeTipoSensore\n",
      "PM10 (SM2005)               452307\n",
      "Particelle sospese PM2.5    145505\n",
      "dtype: int64\n",
      "(597812, 15)\n"
     ]
    }
   ],
   "source": [
    "print(aria_sensori__id_day[\n",
    "    ((aria_sensori__id_day.NomeTipoSensore == 'PM10 (SM2005)')\n",
    "    | (aria_sensori__id_day.NomeTipoSensore == 'Particolato Totale Sospeso')\n",
    "    | (aria_sensori__id_day.NomeTipoSensore == 'Particelle sospese PM2.5')) & (aria_sensori__id_day.Valore_COUNT_id_day == 1)].value_counts('NomeTipoSensore'))\n",
    "print(aria_sensori__id_day[\n",
    "    ((aria_sensori__id_day.NomeTipoSensore == 'PM10 (SM2005)')\n",
    "    | (aria_sensori__id_day.NomeTipoSensore == 'Particolato Totale Sospeso')\n",
    "    | (aria_sensori__id_day.NomeTipoSensore == 'Particelle sospese PM2.5')) & (aria_sensori__id_day.Valore_COUNT_id_day == 1)].shape)"
   ]
  },
  {
   "cell_type": "markdown",
   "id": "8c860b96",
   "metadata": {
    "hidden": true
   },
   "source": [
    "#### Quali medie non sono relative al particolato ma comunque hanno una sola misurazione ? Perchè ?\n",
    "- Quasi tutte le misurazioni del benzene sono da una misurazione, deduco anche qui allora che sia un valore mediato"
   ]
  },
  {
   "cell_type": "code",
   "execution_count": 47,
   "id": "eaf92178",
   "metadata": {
    "ExecuteTime": {
     "end_time": "2022-01-21T14:46:12.832288Z",
     "start_time": "2022-01-21T14:46:12.286288Z"
    },
    "hidden": true
   },
   "outputs": [
    {
     "data": {
      "text/plain": [
       "NomeTipoSensore\n",
       "Biossido di Azoto    3371\n",
       "Biossido di Zolfo    1995\n",
       "Ozono                1810\n",
       "dtype: int64"
      ]
     },
     "execution_count": 47,
     "metadata": {},
     "output_type": "execute_result"
    }
   ],
   "source": [
    "aria_sensori__id_day[\n",
    "    ((aria_sensori__id_day.NomeTipoSensore != 'PM10 (SM2005)')\n",
    "    & (aria_sensori__id_day.NomeTipoSensore != 'Particolato Totale Sospeso')\n",
    "    & (aria_sensori__id_day.NomeTipoSensore != 'Particelle sospese PM2.5')) & (aria_sensori__id_day.Valore_COUNT_id_day == 1)].value_counts('NomeTipoSensore')"
   ]
  },
  {
   "cell_type": "code",
   "execution_count": 48,
   "id": "c81791bf",
   "metadata": {
    "ExecuteTime": {
     "end_time": "2022-01-21T14:46:13.937285Z",
     "start_time": "2022-01-21T14:46:12.834288Z"
    },
    "hidden": true
   },
   "outputs": [
    {
     "data": {
      "text/plain": [
       "NomeTipoSensore\n",
       "Biossido di Azoto    1038138\n",
       "Ozono                 522509\n",
       "Biossido di Zolfo     509934\n",
       "dtype: int64"
      ]
     },
     "execution_count": 48,
     "metadata": {},
     "output_type": "execute_result"
    }
   ],
   "source": [
    "aria_sensori__id_day[\n",
    "    ((aria_sensori__id_day.NomeTipoSensore != 'PM10 (SM2005)')\n",
    "    & (aria_sensori__id_day.NomeTipoSensore != 'Particolato Totale Sospeso')\n",
    "    & (aria_sensori__id_day.NomeTipoSensore != 'Particelle sospese PM2.5'))].value_counts('NomeTipoSensore')"
   ]
  },
  {
   "cell_type": "markdown",
   "id": "e3745812",
   "metadata": {
    "hidden": true
   },
   "source": [
    "#### Mentre per le altre grandezze sembrano effettivamente errori, queste le RIMUOVO"
   ]
  },
  {
   "cell_type": "code",
   "execution_count": 49,
   "id": "ce3a00c2",
   "metadata": {
    "ExecuteTime": {
     "end_time": "2022-01-21T14:46:14.657385Z",
     "start_time": "2022-01-21T14:46:13.939286Z"
    },
    "hidden": true
   },
   "outputs": [
    {
     "data": {
      "text/plain": [
       "7176"
      ]
     },
     "execution_count": 49,
     "metadata": {},
     "output_type": "execute_result"
    }
   ],
   "source": [
    "aria_sensori__id_day[\n",
    "    ((aria_sensori__id_day.NomeTipoSensore != 'PM10 (SM2005)')\n",
    "    & (aria_sensori__id_day.NomeTipoSensore != 'Particolato Totale Sospeso')\n",
    "    & (aria_sensori__id_day.NomeTipoSensore != 'Particelle sospese PM2.5')\n",
    "    & (aria_sensori__id_day.NomeTipoSensore != 'Benzene') & (aria_sensori__id_day.Valore_COUNT_id_day == 1))].shape[0]"
   ]
  },
  {
   "cell_type": "code",
   "execution_count": 50,
   "id": "69177411",
   "metadata": {
    "ExecuteTime": {
     "end_time": "2022-01-21T14:46:15.933286Z",
     "start_time": "2022-01-21T14:46:14.659289Z"
    },
    "hidden": true
   },
   "outputs": [
    {
     "data": {
      "text/html": [
       "<div>\n",
       "<style scoped>\n",
       "    .dataframe tbody tr th:only-of-type {\n",
       "        vertical-align: middle;\n",
       "    }\n",
       "\n",
       "    .dataframe tbody tr th {\n",
       "        vertical-align: top;\n",
       "    }\n",
       "\n",
       "    .dataframe thead th {\n",
       "        text-align: right;\n",
       "    }\n",
       "</style>\n",
       "<table border=\"1\" class=\"dataframe\">\n",
       "  <thead>\n",
       "    <tr style=\"text-align: right;\">\n",
       "      <th></th>\n",
       "      <th>IdSensore</th>\n",
       "      <th>Data</th>\n",
       "      <th>Valore_MAX_id_day</th>\n",
       "      <th>Valore_MEAN_id_day</th>\n",
       "      <th>Valore_COUNT_id_day</th>\n",
       "      <th>NomeTipoSensore</th>\n",
       "      <th>UnitaMisura</th>\n",
       "      <th>Idstazione</th>\n",
       "      <th>Comune</th>\n",
       "      <th>lat</th>\n",
       "      <th>lng</th>\n",
       "      <th>DataStart</th>\n",
       "      <th>NomeStazione</th>\n",
       "      <th>Quota</th>\n",
       "      <th>Provincia</th>\n",
       "    </tr>\n",
       "  </thead>\n",
       "  <tbody>\n",
       "    <tr>\n",
       "      <th>0</th>\n",
       "      <td>5504</td>\n",
       "      <td>1996-01-01</td>\n",
       "      <td>118.5</td>\n",
       "      <td>79.504167</td>\n",
       "      <td>24</td>\n",
       "      <td>Biossido di Azoto</td>\n",
       "      <td>µg/m³</td>\n",
       "      <td>501</td>\n",
       "      <td>Milano</td>\n",
       "      <td>45.496316</td>\n",
       "      <td>9.190934</td>\n",
       "      <td>1980-09-18</td>\n",
       "      <td>Milano v.Marche</td>\n",
       "      <td>129</td>\n",
       "      <td>MI</td>\n",
       "    </tr>\n",
       "    <tr>\n",
       "      <th>1</th>\n",
       "      <td>5504</td>\n",
       "      <td>1996-01-02</td>\n",
       "      <td>133.8</td>\n",
       "      <td>100.858333</td>\n",
       "      <td>24</td>\n",
       "      <td>Biossido di Azoto</td>\n",
       "      <td>µg/m³</td>\n",
       "      <td>501</td>\n",
       "      <td>Milano</td>\n",
       "      <td>45.496316</td>\n",
       "      <td>9.190934</td>\n",
       "      <td>1980-09-18</td>\n",
       "      <td>Milano v.Marche</td>\n",
       "      <td>129</td>\n",
       "      <td>MI</td>\n",
       "    </tr>\n",
       "    <tr>\n",
       "      <th>2</th>\n",
       "      <td>5504</td>\n",
       "      <td>1996-01-03</td>\n",
       "      <td>145.3</td>\n",
       "      <td>91.612500</td>\n",
       "      <td>24</td>\n",
       "      <td>Biossido di Azoto</td>\n",
       "      <td>µg/m³</td>\n",
       "      <td>501</td>\n",
       "      <td>Milano</td>\n",
       "      <td>45.496316</td>\n",
       "      <td>9.190934</td>\n",
       "      <td>1980-09-18</td>\n",
       "      <td>Milano v.Marche</td>\n",
       "      <td>129</td>\n",
       "      <td>MI</td>\n",
       "    </tr>\n",
       "    <tr>\n",
       "      <th>3</th>\n",
       "      <td>5504</td>\n",
       "      <td>1996-01-04</td>\n",
       "      <td>133.8</td>\n",
       "      <td>81.270833</td>\n",
       "      <td>24</td>\n",
       "      <td>Biossido di Azoto</td>\n",
       "      <td>µg/m³</td>\n",
       "      <td>501</td>\n",
       "      <td>Milano</td>\n",
       "      <td>45.496316</td>\n",
       "      <td>9.190934</td>\n",
       "      <td>1980-09-18</td>\n",
       "      <td>Milano v.Marche</td>\n",
       "      <td>129</td>\n",
       "      <td>MI</td>\n",
       "    </tr>\n",
       "    <tr>\n",
       "      <th>4</th>\n",
       "      <td>5504</td>\n",
       "      <td>1996-01-05</td>\n",
       "      <td>88.0</td>\n",
       "      <td>68.191667</td>\n",
       "      <td>24</td>\n",
       "      <td>Biossido di Azoto</td>\n",
       "      <td>µg/m³</td>\n",
       "      <td>501</td>\n",
       "      <td>Milano</td>\n",
       "      <td>45.496316</td>\n",
       "      <td>9.190934</td>\n",
       "      <td>1980-09-18</td>\n",
       "      <td>Milano v.Marche</td>\n",
       "      <td>129</td>\n",
       "      <td>MI</td>\n",
       "    </tr>\n",
       "    <tr>\n",
       "      <th>...</th>\n",
       "      <td>...</td>\n",
       "      <td>...</td>\n",
       "      <td>...</td>\n",
       "      <td>...</td>\n",
       "      <td>...</td>\n",
       "      <td>...</td>\n",
       "      <td>...</td>\n",
       "      <td>...</td>\n",
       "      <td>...</td>\n",
       "      <td>...</td>\n",
       "      <td>...</td>\n",
       "      <td>...</td>\n",
       "      <td>...</td>\n",
       "      <td>...</td>\n",
       "      <td>...</td>\n",
       "    </tr>\n",
       "    <tr>\n",
       "      <th>2661531</th>\n",
       "      <td>30165</td>\n",
       "      <td>2021-12-23</td>\n",
       "      <td>3.4</td>\n",
       "      <td>1.187500</td>\n",
       "      <td>24</td>\n",
       "      <td>Ozono</td>\n",
       "      <td>µg/m³</td>\n",
       "      <td>669</td>\n",
       "      <td>Brescia</td>\n",
       "      <td>45.513039</td>\n",
       "      <td>10.191942</td>\n",
       "      <td>2013-12-13</td>\n",
       "      <td>Brescia Villaggio Sereno</td>\n",
       "      <td>70</td>\n",
       "      <td>BS</td>\n",
       "    </tr>\n",
       "    <tr>\n",
       "      <th>2661532</th>\n",
       "      <td>30165</td>\n",
       "      <td>2021-12-24</td>\n",
       "      <td>1.8</td>\n",
       "      <td>0.775000</td>\n",
       "      <td>24</td>\n",
       "      <td>Ozono</td>\n",
       "      <td>µg/m³</td>\n",
       "      <td>669</td>\n",
       "      <td>Brescia</td>\n",
       "      <td>45.513039</td>\n",
       "      <td>10.191942</td>\n",
       "      <td>2013-12-13</td>\n",
       "      <td>Brescia Villaggio Sereno</td>\n",
       "      <td>70</td>\n",
       "      <td>BS</td>\n",
       "    </tr>\n",
       "    <tr>\n",
       "      <th>2661533</th>\n",
       "      <td>30165</td>\n",
       "      <td>2021-12-25</td>\n",
       "      <td>1.8</td>\n",
       "      <td>0.495833</td>\n",
       "      <td>24</td>\n",
       "      <td>Ozono</td>\n",
       "      <td>µg/m³</td>\n",
       "      <td>669</td>\n",
       "      <td>Brescia</td>\n",
       "      <td>45.513039</td>\n",
       "      <td>10.191942</td>\n",
       "      <td>2013-12-13</td>\n",
       "      <td>Brescia Villaggio Sereno</td>\n",
       "      <td>70</td>\n",
       "      <td>BS</td>\n",
       "    </tr>\n",
       "    <tr>\n",
       "      <th>2661534</th>\n",
       "      <td>30165</td>\n",
       "      <td>2021-12-26</td>\n",
       "      <td>2.4</td>\n",
       "      <td>0.537500</td>\n",
       "      <td>24</td>\n",
       "      <td>Ozono</td>\n",
       "      <td>µg/m³</td>\n",
       "      <td>669</td>\n",
       "      <td>Brescia</td>\n",
       "      <td>45.513039</td>\n",
       "      <td>10.191942</td>\n",
       "      <td>2013-12-13</td>\n",
       "      <td>Brescia Villaggio Sereno</td>\n",
       "      <td>70</td>\n",
       "      <td>BS</td>\n",
       "    </tr>\n",
       "    <tr>\n",
       "      <th>2661535</th>\n",
       "      <td>30165</td>\n",
       "      <td>2021-12-27</td>\n",
       "      <td>9.1</td>\n",
       "      <td>1.162500</td>\n",
       "      <td>24</td>\n",
       "      <td>Ozono</td>\n",
       "      <td>µg/m³</td>\n",
       "      <td>669</td>\n",
       "      <td>Brescia</td>\n",
       "      <td>45.513039</td>\n",
       "      <td>10.191942</td>\n",
       "      <td>2013-12-13</td>\n",
       "      <td>Brescia Villaggio Sereno</td>\n",
       "      <td>70</td>\n",
       "      <td>BS</td>\n",
       "    </tr>\n",
       "  </tbody>\n",
       "</table>\n",
       "<p>2661536 rows × 15 columns</p>\n",
       "</div>"
      ],
      "text/plain": [
       "         IdSensore        Data  Valore_MAX_id_day  Valore_MEAN_id_day  \\\n",
       "0             5504  1996-01-01              118.5           79.504167   \n",
       "1             5504  1996-01-02              133.8          100.858333   \n",
       "2             5504  1996-01-03              145.3           91.612500   \n",
       "3             5504  1996-01-04              133.8           81.270833   \n",
       "4             5504  1996-01-05               88.0           68.191667   \n",
       "...            ...         ...                ...                 ...   \n",
       "2661531      30165  2021-12-23                3.4            1.187500   \n",
       "2661532      30165  2021-12-24                1.8            0.775000   \n",
       "2661533      30165  2021-12-25                1.8            0.495833   \n",
       "2661534      30165  2021-12-26                2.4            0.537500   \n",
       "2661535      30165  2021-12-27                9.1            1.162500   \n",
       "\n",
       "         Valore_COUNT_id_day    NomeTipoSensore UnitaMisura  Idstazione  \\\n",
       "0                         24  Biossido di Azoto       µg/m³         501   \n",
       "1                         24  Biossido di Azoto       µg/m³         501   \n",
       "2                         24  Biossido di Azoto       µg/m³         501   \n",
       "3                         24  Biossido di Azoto       µg/m³         501   \n",
       "4                         24  Biossido di Azoto       µg/m³         501   \n",
       "...                      ...                ...         ...         ...   \n",
       "2661531                   24              Ozono       µg/m³         669   \n",
       "2661532                   24              Ozono       µg/m³         669   \n",
       "2661533                   24              Ozono       µg/m³         669   \n",
       "2661534                   24              Ozono       µg/m³         669   \n",
       "2661535                   24              Ozono       µg/m³         669   \n",
       "\n",
       "          Comune        lat        lng  DataStart              NomeStazione  \\\n",
       "0         Milano  45.496316   9.190934 1980-09-18           Milano v.Marche   \n",
       "1         Milano  45.496316   9.190934 1980-09-18           Milano v.Marche   \n",
       "2         Milano  45.496316   9.190934 1980-09-18           Milano v.Marche   \n",
       "3         Milano  45.496316   9.190934 1980-09-18           Milano v.Marche   \n",
       "4         Milano  45.496316   9.190934 1980-09-18           Milano v.Marche   \n",
       "...          ...        ...        ...        ...                       ...   \n",
       "2661531  Brescia  45.513039  10.191942 2013-12-13  Brescia Villaggio Sereno   \n",
       "2661532  Brescia  45.513039  10.191942 2013-12-13  Brescia Villaggio Sereno   \n",
       "2661533  Brescia  45.513039  10.191942 2013-12-13  Brescia Villaggio Sereno   \n",
       "2661534  Brescia  45.513039  10.191942 2013-12-13  Brescia Villaggio Sereno   \n",
       "2661535  Brescia  45.513039  10.191942 2013-12-13  Brescia Villaggio Sereno   \n",
       "\n",
       "         Quota Provincia  \n",
       "0          129        MI  \n",
       "1          129        MI  \n",
       "2          129        MI  \n",
       "3          129        MI  \n",
       "4          129        MI  \n",
       "...        ...       ...  \n",
       "2661531     70        BS  \n",
       "2661532     70        BS  \n",
       "2661533     70        BS  \n",
       "2661534     70        BS  \n",
       "2661535     70        BS  \n",
       "\n",
       "[2661536 rows x 15 columns]"
      ]
     },
     "execution_count": 50,
     "metadata": {},
     "output_type": "execute_result"
    }
   ],
   "source": [
    "aria_sensori__id_day.drop(aria_sensori__id_day[\n",
    "    ((aria_sensori__id_day.NomeTipoSensore != 'PM10 (SM2005)')\n",
    "    & (aria_sensori__id_day.NomeTipoSensore != 'Particolato Totale Sospeso')\n",
    "    & (aria_sensori__id_day.NomeTipoSensore != 'Particelle sospese PM2.5') \n",
    "    & (aria_sensori__id_day.NomeTipoSensore != 'Benzene') & (aria_sensori__id_day.Valore_COUNT_id_day == 1))].index, inplace=True)\n",
    "aria_sensori__id_day.reset_index(drop=True, inplace=True)\n",
    "aria_sensori__id_day"
   ]
  },
  {
   "cell_type": "markdown",
   "id": "1e308f9c",
   "metadata": {
    "hidden": true
   },
   "source": [
    "### Verifica consistenza unitá di misura e creazione dataset `unita_misura`"
   ]
  },
  {
   "cell_type": "code",
   "execution_count": 51,
   "id": "568c3460",
   "metadata": {
    "ExecuteTime": {
     "end_time": "2022-01-21T14:46:17.681285Z",
     "start_time": "2022-01-21T14:46:15.936287Z"
    },
    "hidden": true
   },
   "outputs": [
    {
     "name": "stdout",
     "output_type": "stream",
     "text": [
      "['µg/m³'] Biossido di Azoto\n",
      "['µg/m³'] Biossido di Zolfo\n",
      "['µg/m³'] Ozono\n",
      "['µg/m³'] PM10 (SM2005)\n",
      "['µg/m³'] Particelle sospese PM2.5\n"
     ]
    }
   ],
   "source": [
    "lista_tipi = aria_sensori__id_day.NomeTipoSensore.unique()\n",
    "for tipo in lista_tipi:\n",
    "    unita = aria_sensori__id_day[aria_sensori__id_day['NomeTipoSensore'] == tipo]['UnitaMisura'].unique()\n",
    "    print(unita, tipo)\n",
    "    \n",
    "    if len(unita) > 1:  #blocco di controllo\n",
    "        raise ValueError('ERROR: ci sono piú unita di misura per un inquinante')"
   ]
  },
  {
   "cell_type": "code",
   "execution_count": 52,
   "id": "9d76a8f2",
   "metadata": {
    "ExecuteTime": {
     "end_time": "2022-01-21T14:46:19.196317Z",
     "start_time": "2022-01-21T14:46:17.683288Z"
    },
    "hidden": true
   },
   "outputs": [
    {
     "data": {
      "text/html": [
       "<div>\n",
       "<style scoped>\n",
       "    .dataframe tbody tr th:only-of-type {\n",
       "        vertical-align: middle;\n",
       "    }\n",
       "\n",
       "    .dataframe tbody tr th {\n",
       "        vertical-align: top;\n",
       "    }\n",
       "\n",
       "    .dataframe thead th {\n",
       "        text-align: right;\n",
       "    }\n",
       "</style>\n",
       "<table border=\"1\" class=\"dataframe\">\n",
       "  <thead>\n",
       "    <tr style=\"text-align: right;\">\n",
       "      <th></th>\n",
       "      <th>NomeTipoSensore</th>\n",
       "      <th>UnitaMisura</th>\n",
       "    </tr>\n",
       "  </thead>\n",
       "  <tbody>\n",
       "    <tr>\n",
       "      <th>0</th>\n",
       "      <td>Biossido di Azoto</td>\n",
       "      <td>µg/m³</td>\n",
       "    </tr>\n",
       "    <tr>\n",
       "      <th>1</th>\n",
       "      <td>Biossido di Zolfo</td>\n",
       "      <td>µg/m³</td>\n",
       "    </tr>\n",
       "    <tr>\n",
       "      <th>2</th>\n",
       "      <td>Ozono</td>\n",
       "      <td>µg/m³</td>\n",
       "    </tr>\n",
       "    <tr>\n",
       "      <th>3</th>\n",
       "      <td>PM10 (SM2005)</td>\n",
       "      <td>µg/m³</td>\n",
       "    </tr>\n",
       "    <tr>\n",
       "      <th>4</th>\n",
       "      <td>Particelle sospese PM2.5</td>\n",
       "      <td>µg/m³</td>\n",
       "    </tr>\n",
       "  </tbody>\n",
       "</table>\n",
       "</div>"
      ],
      "text/plain": [
       "            NomeTipoSensore UnitaMisura\n",
       "0         Biossido di Azoto       µg/m³\n",
       "1         Biossido di Zolfo       µg/m³\n",
       "2                     Ozono       µg/m³\n",
       "3             PM10 (SM2005)       µg/m³\n",
       "4  Particelle sospese PM2.5       µg/m³"
      ]
     },
     "execution_count": 52,
     "metadata": {},
     "output_type": "execute_result"
    }
   ],
   "source": [
    "unita_misura = pd.DataFrame([[tipo, aria_sensori__id_day[aria_sensori__id_day['NomeTipoSensore'] == tipo]['UnitaMisura'].unique()[0]] for tipo in lista_tipi], columns=[\"NomeTipoSensore\", \"UnitaMisura\"])\n",
    "unita_misura"
   ]
  },
  {
   "cell_type": "markdown",
   "id": "47ac0a7f",
   "metadata": {
    "hidden": true
   },
   "source": [
    "## Da colonne max e mean tengo solo quelle giuste per il tipo di sensore"
   ]
  },
  {
   "cell_type": "code",
   "execution_count": 53,
   "id": "3d9b8d9c",
   "metadata": {
    "ExecuteTime": {
     "end_time": "2022-01-21T14:46:19.351285Z",
     "start_time": "2022-01-21T14:46:19.198288Z"
    },
    "hidden": true
   },
   "outputs": [
    {
     "data": {
      "text/html": [
       "<div>\n",
       "<style scoped>\n",
       "    .dataframe tbody tr th:only-of-type {\n",
       "        vertical-align: middle;\n",
       "    }\n",
       "\n",
       "    .dataframe tbody tr th {\n",
       "        vertical-align: top;\n",
       "    }\n",
       "\n",
       "    .dataframe thead th {\n",
       "        text-align: right;\n",
       "    }\n",
       "</style>\n",
       "<table border=\"1\" class=\"dataframe\">\n",
       "  <thead>\n",
       "    <tr style=\"text-align: right;\">\n",
       "      <th></th>\n",
       "      <th>IdSensore</th>\n",
       "      <th>Data</th>\n",
       "      <th>Valore_MAX_id_day</th>\n",
       "      <th>Valore_MEAN_id_day</th>\n",
       "      <th>Valore_COUNT_id_day</th>\n",
       "      <th>NomeTipoSensore</th>\n",
       "      <th>UnitaMisura</th>\n",
       "      <th>Idstazione</th>\n",
       "      <th>Comune</th>\n",
       "      <th>lat</th>\n",
       "      <th>lng</th>\n",
       "      <th>DataStart</th>\n",
       "      <th>NomeStazione</th>\n",
       "      <th>Quota</th>\n",
       "      <th>Provincia</th>\n",
       "      <th>Valore_interesse</th>\n",
       "    </tr>\n",
       "  </thead>\n",
       "  <tbody>\n",
       "    <tr>\n",
       "      <th>0</th>\n",
       "      <td>5504</td>\n",
       "      <td>1996-01-01</td>\n",
       "      <td>118.5</td>\n",
       "      <td>79.504167</td>\n",
       "      <td>24</td>\n",
       "      <td>Biossido di Azoto</td>\n",
       "      <td>µg/m³</td>\n",
       "      <td>501</td>\n",
       "      <td>Milano</td>\n",
       "      <td>45.496316</td>\n",
       "      <td>9.190934</td>\n",
       "      <td>1980-09-18</td>\n",
       "      <td>Milano v.Marche</td>\n",
       "      <td>129</td>\n",
       "      <td>MI</td>\n",
       "      <td>118.5</td>\n",
       "    </tr>\n",
       "    <tr>\n",
       "      <th>1</th>\n",
       "      <td>5504</td>\n",
       "      <td>1996-01-02</td>\n",
       "      <td>133.8</td>\n",
       "      <td>100.858333</td>\n",
       "      <td>24</td>\n",
       "      <td>Biossido di Azoto</td>\n",
       "      <td>µg/m³</td>\n",
       "      <td>501</td>\n",
       "      <td>Milano</td>\n",
       "      <td>45.496316</td>\n",
       "      <td>9.190934</td>\n",
       "      <td>1980-09-18</td>\n",
       "      <td>Milano v.Marche</td>\n",
       "      <td>129</td>\n",
       "      <td>MI</td>\n",
       "      <td>133.8</td>\n",
       "    </tr>\n",
       "    <tr>\n",
       "      <th>2</th>\n",
       "      <td>5504</td>\n",
       "      <td>1996-01-03</td>\n",
       "      <td>145.3</td>\n",
       "      <td>91.612500</td>\n",
       "      <td>24</td>\n",
       "      <td>Biossido di Azoto</td>\n",
       "      <td>µg/m³</td>\n",
       "      <td>501</td>\n",
       "      <td>Milano</td>\n",
       "      <td>45.496316</td>\n",
       "      <td>9.190934</td>\n",
       "      <td>1980-09-18</td>\n",
       "      <td>Milano v.Marche</td>\n",
       "      <td>129</td>\n",
       "      <td>MI</td>\n",
       "      <td>145.3</td>\n",
       "    </tr>\n",
       "    <tr>\n",
       "      <th>3</th>\n",
       "      <td>5504</td>\n",
       "      <td>1996-01-04</td>\n",
       "      <td>133.8</td>\n",
       "      <td>81.270833</td>\n",
       "      <td>24</td>\n",
       "      <td>Biossido di Azoto</td>\n",
       "      <td>µg/m³</td>\n",
       "      <td>501</td>\n",
       "      <td>Milano</td>\n",
       "      <td>45.496316</td>\n",
       "      <td>9.190934</td>\n",
       "      <td>1980-09-18</td>\n",
       "      <td>Milano v.Marche</td>\n",
       "      <td>129</td>\n",
       "      <td>MI</td>\n",
       "      <td>133.8</td>\n",
       "    </tr>\n",
       "    <tr>\n",
       "      <th>4</th>\n",
       "      <td>5504</td>\n",
       "      <td>1996-01-05</td>\n",
       "      <td>88.0</td>\n",
       "      <td>68.191667</td>\n",
       "      <td>24</td>\n",
       "      <td>Biossido di Azoto</td>\n",
       "      <td>µg/m³</td>\n",
       "      <td>501</td>\n",
       "      <td>Milano</td>\n",
       "      <td>45.496316</td>\n",
       "      <td>9.190934</td>\n",
       "      <td>1980-09-18</td>\n",
       "      <td>Milano v.Marche</td>\n",
       "      <td>129</td>\n",
       "      <td>MI</td>\n",
       "      <td>88.0</td>\n",
       "    </tr>\n",
       "    <tr>\n",
       "      <th>...</th>\n",
       "      <td>...</td>\n",
       "      <td>...</td>\n",
       "      <td>...</td>\n",
       "      <td>...</td>\n",
       "      <td>...</td>\n",
       "      <td>...</td>\n",
       "      <td>...</td>\n",
       "      <td>...</td>\n",
       "      <td>...</td>\n",
       "      <td>...</td>\n",
       "      <td>...</td>\n",
       "      <td>...</td>\n",
       "      <td>...</td>\n",
       "      <td>...</td>\n",
       "      <td>...</td>\n",
       "      <td>...</td>\n",
       "    </tr>\n",
       "    <tr>\n",
       "      <th>2661531</th>\n",
       "      <td>30165</td>\n",
       "      <td>2021-12-23</td>\n",
       "      <td>3.4</td>\n",
       "      <td>1.187500</td>\n",
       "      <td>24</td>\n",
       "      <td>Ozono</td>\n",
       "      <td>µg/m³</td>\n",
       "      <td>669</td>\n",
       "      <td>Brescia</td>\n",
       "      <td>45.513039</td>\n",
       "      <td>10.191942</td>\n",
       "      <td>2013-12-13</td>\n",
       "      <td>Brescia Villaggio Sereno</td>\n",
       "      <td>70</td>\n",
       "      <td>BS</td>\n",
       "      <td>3.4</td>\n",
       "    </tr>\n",
       "    <tr>\n",
       "      <th>2661532</th>\n",
       "      <td>30165</td>\n",
       "      <td>2021-12-24</td>\n",
       "      <td>1.8</td>\n",
       "      <td>0.775000</td>\n",
       "      <td>24</td>\n",
       "      <td>Ozono</td>\n",
       "      <td>µg/m³</td>\n",
       "      <td>669</td>\n",
       "      <td>Brescia</td>\n",
       "      <td>45.513039</td>\n",
       "      <td>10.191942</td>\n",
       "      <td>2013-12-13</td>\n",
       "      <td>Brescia Villaggio Sereno</td>\n",
       "      <td>70</td>\n",
       "      <td>BS</td>\n",
       "      <td>1.8</td>\n",
       "    </tr>\n",
       "    <tr>\n",
       "      <th>2661533</th>\n",
       "      <td>30165</td>\n",
       "      <td>2021-12-25</td>\n",
       "      <td>1.8</td>\n",
       "      <td>0.495833</td>\n",
       "      <td>24</td>\n",
       "      <td>Ozono</td>\n",
       "      <td>µg/m³</td>\n",
       "      <td>669</td>\n",
       "      <td>Brescia</td>\n",
       "      <td>45.513039</td>\n",
       "      <td>10.191942</td>\n",
       "      <td>2013-12-13</td>\n",
       "      <td>Brescia Villaggio Sereno</td>\n",
       "      <td>70</td>\n",
       "      <td>BS</td>\n",
       "      <td>1.8</td>\n",
       "    </tr>\n",
       "    <tr>\n",
       "      <th>2661534</th>\n",
       "      <td>30165</td>\n",
       "      <td>2021-12-26</td>\n",
       "      <td>2.4</td>\n",
       "      <td>0.537500</td>\n",
       "      <td>24</td>\n",
       "      <td>Ozono</td>\n",
       "      <td>µg/m³</td>\n",
       "      <td>669</td>\n",
       "      <td>Brescia</td>\n",
       "      <td>45.513039</td>\n",
       "      <td>10.191942</td>\n",
       "      <td>2013-12-13</td>\n",
       "      <td>Brescia Villaggio Sereno</td>\n",
       "      <td>70</td>\n",
       "      <td>BS</td>\n",
       "      <td>2.4</td>\n",
       "    </tr>\n",
       "    <tr>\n",
       "      <th>2661535</th>\n",
       "      <td>30165</td>\n",
       "      <td>2021-12-27</td>\n",
       "      <td>9.1</td>\n",
       "      <td>1.162500</td>\n",
       "      <td>24</td>\n",
       "      <td>Ozono</td>\n",
       "      <td>µg/m³</td>\n",
       "      <td>669</td>\n",
       "      <td>Brescia</td>\n",
       "      <td>45.513039</td>\n",
       "      <td>10.191942</td>\n",
       "      <td>2013-12-13</td>\n",
       "      <td>Brescia Villaggio Sereno</td>\n",
       "      <td>70</td>\n",
       "      <td>BS</td>\n",
       "      <td>9.1</td>\n",
       "    </tr>\n",
       "  </tbody>\n",
       "</table>\n",
       "<p>2661536 rows × 16 columns</p>\n",
       "</div>"
      ],
      "text/plain": [
       "         IdSensore        Data  Valore_MAX_id_day  Valore_MEAN_id_day  \\\n",
       "0             5504  1996-01-01              118.5           79.504167   \n",
       "1             5504  1996-01-02              133.8          100.858333   \n",
       "2             5504  1996-01-03              145.3           91.612500   \n",
       "3             5504  1996-01-04              133.8           81.270833   \n",
       "4             5504  1996-01-05               88.0           68.191667   \n",
       "...            ...         ...                ...                 ...   \n",
       "2661531      30165  2021-12-23                3.4            1.187500   \n",
       "2661532      30165  2021-12-24                1.8            0.775000   \n",
       "2661533      30165  2021-12-25                1.8            0.495833   \n",
       "2661534      30165  2021-12-26                2.4            0.537500   \n",
       "2661535      30165  2021-12-27                9.1            1.162500   \n",
       "\n",
       "         Valore_COUNT_id_day    NomeTipoSensore UnitaMisura  Idstazione  \\\n",
       "0                         24  Biossido di Azoto       µg/m³         501   \n",
       "1                         24  Biossido di Azoto       µg/m³         501   \n",
       "2                         24  Biossido di Azoto       µg/m³         501   \n",
       "3                         24  Biossido di Azoto       µg/m³         501   \n",
       "4                         24  Biossido di Azoto       µg/m³         501   \n",
       "...                      ...                ...         ...         ...   \n",
       "2661531                   24              Ozono       µg/m³         669   \n",
       "2661532                   24              Ozono       µg/m³         669   \n",
       "2661533                   24              Ozono       µg/m³         669   \n",
       "2661534                   24              Ozono       µg/m³         669   \n",
       "2661535                   24              Ozono       µg/m³         669   \n",
       "\n",
       "          Comune        lat        lng  DataStart              NomeStazione  \\\n",
       "0         Milano  45.496316   9.190934 1980-09-18           Milano v.Marche   \n",
       "1         Milano  45.496316   9.190934 1980-09-18           Milano v.Marche   \n",
       "2         Milano  45.496316   9.190934 1980-09-18           Milano v.Marche   \n",
       "3         Milano  45.496316   9.190934 1980-09-18           Milano v.Marche   \n",
       "4         Milano  45.496316   9.190934 1980-09-18           Milano v.Marche   \n",
       "...          ...        ...        ...        ...                       ...   \n",
       "2661531  Brescia  45.513039  10.191942 2013-12-13  Brescia Villaggio Sereno   \n",
       "2661532  Brescia  45.513039  10.191942 2013-12-13  Brescia Villaggio Sereno   \n",
       "2661533  Brescia  45.513039  10.191942 2013-12-13  Brescia Villaggio Sereno   \n",
       "2661534  Brescia  45.513039  10.191942 2013-12-13  Brescia Villaggio Sereno   \n",
       "2661535  Brescia  45.513039  10.191942 2013-12-13  Brescia Villaggio Sereno   \n",
       "\n",
       "         Quota Provincia  Valore_interesse  \n",
       "0          129        MI             118.5  \n",
       "1          129        MI             133.8  \n",
       "2          129        MI             145.3  \n",
       "3          129        MI             133.8  \n",
       "4          129        MI              88.0  \n",
       "...        ...       ...               ...  \n",
       "2661531     70        BS               3.4  \n",
       "2661532     70        BS               1.8  \n",
       "2661533     70        BS               1.8  \n",
       "2661534     70        BS               2.4  \n",
       "2661535     70        BS               9.1  \n",
       "\n",
       "[2661536 rows x 16 columns]"
      ]
     },
     "execution_count": 53,
     "metadata": {},
     "output_type": "execute_result"
    }
   ],
   "source": [
    "aria_sensori__id_day['Valore_interesse'] = np.where(aria_sensori__id_day['NomeTipoSensore'].isin(['PM10 (SM2005)', 'Particelle sospese PM2.5']), aria_sensori__id_day['Valore_MEAN_id_day'], aria_sensori__id_day['Valore_MAX_id_day'])\n",
    "aria_sensori__id_day"
   ]
  },
  {
   "cell_type": "code",
   "execution_count": 54,
   "id": "e50c0df5",
   "metadata": {
    "ExecuteTime": {
     "end_time": "2022-01-21T14:46:19.772287Z",
     "start_time": "2022-01-21T14:46:19.353287Z"
    },
    "hidden": true
   },
   "outputs": [
    {
     "data": {
      "text/html": [
       "<div>\n",
       "<style scoped>\n",
       "    .dataframe tbody tr th:only-of-type {\n",
       "        vertical-align: middle;\n",
       "    }\n",
       "\n",
       "    .dataframe tbody tr th {\n",
       "        vertical-align: top;\n",
       "    }\n",
       "\n",
       "    .dataframe thead th {\n",
       "        text-align: right;\n",
       "    }\n",
       "</style>\n",
       "<table border=\"1\" class=\"dataframe\">\n",
       "  <thead>\n",
       "    <tr style=\"text-align: right;\">\n",
       "      <th></th>\n",
       "      <th>IdSensore</th>\n",
       "      <th>Data</th>\n",
       "      <th>NomeTipoSensore</th>\n",
       "      <th>Idstazione</th>\n",
       "      <th>Comune</th>\n",
       "      <th>lat</th>\n",
       "      <th>lng</th>\n",
       "      <th>DataStart</th>\n",
       "      <th>NomeStazione</th>\n",
       "      <th>Quota</th>\n",
       "      <th>Provincia</th>\n",
       "      <th>Valore_interesse</th>\n",
       "    </tr>\n",
       "  </thead>\n",
       "  <tbody>\n",
       "    <tr>\n",
       "      <th>0</th>\n",
       "      <td>5504</td>\n",
       "      <td>1996-01-01</td>\n",
       "      <td>Biossido di Azoto</td>\n",
       "      <td>501</td>\n",
       "      <td>Milano</td>\n",
       "      <td>45.496316</td>\n",
       "      <td>9.190934</td>\n",
       "      <td>1980-09-18</td>\n",
       "      <td>Milano v.Marche</td>\n",
       "      <td>129</td>\n",
       "      <td>MI</td>\n",
       "      <td>118.5</td>\n",
       "    </tr>\n",
       "    <tr>\n",
       "      <th>1</th>\n",
       "      <td>5504</td>\n",
       "      <td>1996-01-02</td>\n",
       "      <td>Biossido di Azoto</td>\n",
       "      <td>501</td>\n",
       "      <td>Milano</td>\n",
       "      <td>45.496316</td>\n",
       "      <td>9.190934</td>\n",
       "      <td>1980-09-18</td>\n",
       "      <td>Milano v.Marche</td>\n",
       "      <td>129</td>\n",
       "      <td>MI</td>\n",
       "      <td>133.8</td>\n",
       "    </tr>\n",
       "    <tr>\n",
       "      <th>2</th>\n",
       "      <td>5504</td>\n",
       "      <td>1996-01-03</td>\n",
       "      <td>Biossido di Azoto</td>\n",
       "      <td>501</td>\n",
       "      <td>Milano</td>\n",
       "      <td>45.496316</td>\n",
       "      <td>9.190934</td>\n",
       "      <td>1980-09-18</td>\n",
       "      <td>Milano v.Marche</td>\n",
       "      <td>129</td>\n",
       "      <td>MI</td>\n",
       "      <td>145.3</td>\n",
       "    </tr>\n",
       "    <tr>\n",
       "      <th>3</th>\n",
       "      <td>5504</td>\n",
       "      <td>1996-01-04</td>\n",
       "      <td>Biossido di Azoto</td>\n",
       "      <td>501</td>\n",
       "      <td>Milano</td>\n",
       "      <td>45.496316</td>\n",
       "      <td>9.190934</td>\n",
       "      <td>1980-09-18</td>\n",
       "      <td>Milano v.Marche</td>\n",
       "      <td>129</td>\n",
       "      <td>MI</td>\n",
       "      <td>133.8</td>\n",
       "    </tr>\n",
       "    <tr>\n",
       "      <th>4</th>\n",
       "      <td>5504</td>\n",
       "      <td>1996-01-05</td>\n",
       "      <td>Biossido di Azoto</td>\n",
       "      <td>501</td>\n",
       "      <td>Milano</td>\n",
       "      <td>45.496316</td>\n",
       "      <td>9.190934</td>\n",
       "      <td>1980-09-18</td>\n",
       "      <td>Milano v.Marche</td>\n",
       "      <td>129</td>\n",
       "      <td>MI</td>\n",
       "      <td>88.0</td>\n",
       "    </tr>\n",
       "    <tr>\n",
       "      <th>...</th>\n",
       "      <td>...</td>\n",
       "      <td>...</td>\n",
       "      <td>...</td>\n",
       "      <td>...</td>\n",
       "      <td>...</td>\n",
       "      <td>...</td>\n",
       "      <td>...</td>\n",
       "      <td>...</td>\n",
       "      <td>...</td>\n",
       "      <td>...</td>\n",
       "      <td>...</td>\n",
       "      <td>...</td>\n",
       "    </tr>\n",
       "    <tr>\n",
       "      <th>2661531</th>\n",
       "      <td>30165</td>\n",
       "      <td>2021-12-23</td>\n",
       "      <td>Ozono</td>\n",
       "      <td>669</td>\n",
       "      <td>Brescia</td>\n",
       "      <td>45.513039</td>\n",
       "      <td>10.191942</td>\n",
       "      <td>2013-12-13</td>\n",
       "      <td>Brescia Villaggio Sereno</td>\n",
       "      <td>70</td>\n",
       "      <td>BS</td>\n",
       "      <td>3.4</td>\n",
       "    </tr>\n",
       "    <tr>\n",
       "      <th>2661532</th>\n",
       "      <td>30165</td>\n",
       "      <td>2021-12-24</td>\n",
       "      <td>Ozono</td>\n",
       "      <td>669</td>\n",
       "      <td>Brescia</td>\n",
       "      <td>45.513039</td>\n",
       "      <td>10.191942</td>\n",
       "      <td>2013-12-13</td>\n",
       "      <td>Brescia Villaggio Sereno</td>\n",
       "      <td>70</td>\n",
       "      <td>BS</td>\n",
       "      <td>1.8</td>\n",
       "    </tr>\n",
       "    <tr>\n",
       "      <th>2661533</th>\n",
       "      <td>30165</td>\n",
       "      <td>2021-12-25</td>\n",
       "      <td>Ozono</td>\n",
       "      <td>669</td>\n",
       "      <td>Brescia</td>\n",
       "      <td>45.513039</td>\n",
       "      <td>10.191942</td>\n",
       "      <td>2013-12-13</td>\n",
       "      <td>Brescia Villaggio Sereno</td>\n",
       "      <td>70</td>\n",
       "      <td>BS</td>\n",
       "      <td>1.8</td>\n",
       "    </tr>\n",
       "    <tr>\n",
       "      <th>2661534</th>\n",
       "      <td>30165</td>\n",
       "      <td>2021-12-26</td>\n",
       "      <td>Ozono</td>\n",
       "      <td>669</td>\n",
       "      <td>Brescia</td>\n",
       "      <td>45.513039</td>\n",
       "      <td>10.191942</td>\n",
       "      <td>2013-12-13</td>\n",
       "      <td>Brescia Villaggio Sereno</td>\n",
       "      <td>70</td>\n",
       "      <td>BS</td>\n",
       "      <td>2.4</td>\n",
       "    </tr>\n",
       "    <tr>\n",
       "      <th>2661535</th>\n",
       "      <td>30165</td>\n",
       "      <td>2021-12-27</td>\n",
       "      <td>Ozono</td>\n",
       "      <td>669</td>\n",
       "      <td>Brescia</td>\n",
       "      <td>45.513039</td>\n",
       "      <td>10.191942</td>\n",
       "      <td>2013-12-13</td>\n",
       "      <td>Brescia Villaggio Sereno</td>\n",
       "      <td>70</td>\n",
       "      <td>BS</td>\n",
       "      <td>9.1</td>\n",
       "    </tr>\n",
       "  </tbody>\n",
       "</table>\n",
       "<p>2661536 rows × 12 columns</p>\n",
       "</div>"
      ],
      "text/plain": [
       "         IdSensore        Data    NomeTipoSensore  Idstazione   Comune  \\\n",
       "0             5504  1996-01-01  Biossido di Azoto         501   Milano   \n",
       "1             5504  1996-01-02  Biossido di Azoto         501   Milano   \n",
       "2             5504  1996-01-03  Biossido di Azoto         501   Milano   \n",
       "3             5504  1996-01-04  Biossido di Azoto         501   Milano   \n",
       "4             5504  1996-01-05  Biossido di Azoto         501   Milano   \n",
       "...            ...         ...                ...         ...      ...   \n",
       "2661531      30165  2021-12-23              Ozono         669  Brescia   \n",
       "2661532      30165  2021-12-24              Ozono         669  Brescia   \n",
       "2661533      30165  2021-12-25              Ozono         669  Brescia   \n",
       "2661534      30165  2021-12-26              Ozono         669  Brescia   \n",
       "2661535      30165  2021-12-27              Ozono         669  Brescia   \n",
       "\n",
       "               lat        lng  DataStart              NomeStazione  Quota  \\\n",
       "0        45.496316   9.190934 1980-09-18           Milano v.Marche    129   \n",
       "1        45.496316   9.190934 1980-09-18           Milano v.Marche    129   \n",
       "2        45.496316   9.190934 1980-09-18           Milano v.Marche    129   \n",
       "3        45.496316   9.190934 1980-09-18           Milano v.Marche    129   \n",
       "4        45.496316   9.190934 1980-09-18           Milano v.Marche    129   \n",
       "...            ...        ...        ...                       ...    ...   \n",
       "2661531  45.513039  10.191942 2013-12-13  Brescia Villaggio Sereno     70   \n",
       "2661532  45.513039  10.191942 2013-12-13  Brescia Villaggio Sereno     70   \n",
       "2661533  45.513039  10.191942 2013-12-13  Brescia Villaggio Sereno     70   \n",
       "2661534  45.513039  10.191942 2013-12-13  Brescia Villaggio Sereno     70   \n",
       "2661535  45.513039  10.191942 2013-12-13  Brescia Villaggio Sereno     70   \n",
       "\n",
       "        Provincia  Valore_interesse  \n",
       "0              MI             118.5  \n",
       "1              MI             133.8  \n",
       "2              MI             145.3  \n",
       "3              MI             133.8  \n",
       "4              MI              88.0  \n",
       "...           ...               ...  \n",
       "2661531        BS               3.4  \n",
       "2661532        BS               1.8  \n",
       "2661533        BS               1.8  \n",
       "2661534        BS               2.4  \n",
       "2661535        BS               9.1  \n",
       "\n",
       "[2661536 rows x 12 columns]"
      ]
     },
     "execution_count": 54,
     "metadata": {},
     "output_type": "execute_result"
    }
   ],
   "source": [
    "aria_sensori__id_day.drop(['Valore_MAX_id_day', 'Valore_MEAN_id_day', 'Valore_COUNT_id_day', 'UnitaMisura'], axis = 1, inplace = True)\n",
    "aria_sensori__id_day"
   ]
  },
  {
   "cell_type": "markdown",
   "id": "35c20862",
   "metadata": {
    "hidden": true
   },
   "source": [
    "## JOIN `aria_sensori_zone__id_day` e tengo solo 'AGG MI'"
   ]
  },
  {
   "cell_type": "markdown",
   "id": "2ea3a415",
   "metadata": {
    "hidden": true
   },
   "source": [
    "- Inner joint tra `aria_sensori__id_day` e `zonizzazione` a dare `aria_sensori_zone__id_day`\n",
    "- Non perdo nessuna riga con l'inner joint perché sono presenti tutti i comuni nel dataset `zonizzazione`"
   ]
  },
  {
   "cell_type": "code",
   "execution_count": 55,
   "id": "07bf353e",
   "metadata": {
    "ExecuteTime": {
     "end_time": "2022-01-21T14:46:22.610286Z",
     "start_time": "2022-01-21T14:46:19.773287Z"
    },
    "hidden": true
   },
   "outputs": [
    {
     "data": {
      "text/html": [
       "<div>\n",
       "<style scoped>\n",
       "    .dataframe tbody tr th:only-of-type {\n",
       "        vertical-align: middle;\n",
       "    }\n",
       "\n",
       "    .dataframe tbody tr th {\n",
       "        vertical-align: top;\n",
       "    }\n",
       "\n",
       "    .dataframe thead th {\n",
       "        text-align: right;\n",
       "    }\n",
       "</style>\n",
       "<table border=\"1\" class=\"dataframe\">\n",
       "  <thead>\n",
       "    <tr style=\"text-align: right;\">\n",
       "      <th></th>\n",
       "      <th>key_0</th>\n",
       "      <th>IdSensore</th>\n",
       "      <th>Data</th>\n",
       "      <th>NomeTipoSensore</th>\n",
       "      <th>Idstazione</th>\n",
       "      <th>Comune</th>\n",
       "      <th>lat</th>\n",
       "      <th>lng</th>\n",
       "      <th>DataStart</th>\n",
       "      <th>NomeStazione</th>\n",
       "      <th>Quota</th>\n",
       "      <th>Provincia</th>\n",
       "      <th>Valore_interesse</th>\n",
       "      <th>Zona</th>\n",
       "    </tr>\n",
       "  </thead>\n",
       "  <tbody>\n",
       "    <tr>\n",
       "      <th>0</th>\n",
       "      <td>milano</td>\n",
       "      <td>5504</td>\n",
       "      <td>1996-01-01</td>\n",
       "      <td>Biossido di Azoto</td>\n",
       "      <td>501</td>\n",
       "      <td>Milano</td>\n",
       "      <td>45.496316</td>\n",
       "      <td>9.190934</td>\n",
       "      <td>1980-09-18</td>\n",
       "      <td>Milano v.Marche</td>\n",
       "      <td>129</td>\n",
       "      <td>MI</td>\n",
       "      <td>118.5</td>\n",
       "      <td>AGG MI</td>\n",
       "    </tr>\n",
       "    <tr>\n",
       "      <th>1</th>\n",
       "      <td>milano</td>\n",
       "      <td>5504</td>\n",
       "      <td>1996-01-02</td>\n",
       "      <td>Biossido di Azoto</td>\n",
       "      <td>501</td>\n",
       "      <td>Milano</td>\n",
       "      <td>45.496316</td>\n",
       "      <td>9.190934</td>\n",
       "      <td>1980-09-18</td>\n",
       "      <td>Milano v.Marche</td>\n",
       "      <td>129</td>\n",
       "      <td>MI</td>\n",
       "      <td>133.8</td>\n",
       "      <td>AGG MI</td>\n",
       "    </tr>\n",
       "    <tr>\n",
       "      <th>2</th>\n",
       "      <td>milano</td>\n",
       "      <td>5504</td>\n",
       "      <td>1996-01-03</td>\n",
       "      <td>Biossido di Azoto</td>\n",
       "      <td>501</td>\n",
       "      <td>Milano</td>\n",
       "      <td>45.496316</td>\n",
       "      <td>9.190934</td>\n",
       "      <td>1980-09-18</td>\n",
       "      <td>Milano v.Marche</td>\n",
       "      <td>129</td>\n",
       "      <td>MI</td>\n",
       "      <td>145.3</td>\n",
       "      <td>AGG MI</td>\n",
       "    </tr>\n",
       "    <tr>\n",
       "      <th>3</th>\n",
       "      <td>milano</td>\n",
       "      <td>5504</td>\n",
       "      <td>1996-01-04</td>\n",
       "      <td>Biossido di Azoto</td>\n",
       "      <td>501</td>\n",
       "      <td>Milano</td>\n",
       "      <td>45.496316</td>\n",
       "      <td>9.190934</td>\n",
       "      <td>1980-09-18</td>\n",
       "      <td>Milano v.Marche</td>\n",
       "      <td>129</td>\n",
       "      <td>MI</td>\n",
       "      <td>133.8</td>\n",
       "      <td>AGG MI</td>\n",
       "    </tr>\n",
       "    <tr>\n",
       "      <th>4</th>\n",
       "      <td>milano</td>\n",
       "      <td>5504</td>\n",
       "      <td>1996-01-05</td>\n",
       "      <td>Biossido di Azoto</td>\n",
       "      <td>501</td>\n",
       "      <td>Milano</td>\n",
       "      <td>45.496316</td>\n",
       "      <td>9.190934</td>\n",
       "      <td>1980-09-18</td>\n",
       "      <td>Milano v.Marche</td>\n",
       "      <td>129</td>\n",
       "      <td>MI</td>\n",
       "      <td>88.0</td>\n",
       "      <td>AGG MI</td>\n",
       "    </tr>\n",
       "  </tbody>\n",
       "</table>\n",
       "</div>"
      ],
      "text/plain": [
       "    key_0  IdSensore        Data    NomeTipoSensore  Idstazione  Comune  \\\n",
       "0  milano       5504  1996-01-01  Biossido di Azoto         501  Milano   \n",
       "1  milano       5504  1996-01-02  Biossido di Azoto         501  Milano   \n",
       "2  milano       5504  1996-01-03  Biossido di Azoto         501  Milano   \n",
       "3  milano       5504  1996-01-04  Biossido di Azoto         501  Milano   \n",
       "4  milano       5504  1996-01-05  Biossido di Azoto         501  Milano   \n",
       "\n",
       "         lat       lng  DataStart     NomeStazione  Quota Provincia  \\\n",
       "0  45.496316  9.190934 1980-09-18  Milano v.Marche    129        MI   \n",
       "1  45.496316  9.190934 1980-09-18  Milano v.Marche    129        MI   \n",
       "2  45.496316  9.190934 1980-09-18  Milano v.Marche    129        MI   \n",
       "3  45.496316  9.190934 1980-09-18  Milano v.Marche    129        MI   \n",
       "4  45.496316  9.190934 1980-09-18  Milano v.Marche    129        MI   \n",
       "\n",
       "   Valore_interesse    Zona  \n",
       "0             118.5  AGG MI  \n",
       "1             133.8  AGG MI  \n",
       "2             145.3  AGG MI  \n",
       "3             133.8  AGG MI  \n",
       "4              88.0  AGG MI  "
      ]
     },
     "execution_count": 55,
     "metadata": {},
     "output_type": "execute_result"
    }
   ],
   "source": [
    "aria_sensori_zone__id_day = pd.merge(aria_sensori__id_day, zonizzazione['Zona'], left_on = aria_sensori__id_day['Comune'].str.lower(), right_on = zonizzazione['Comune'].str.lower())\n",
    "aria_sensori_zone__id_day.head()"
   ]
  },
  {
   "cell_type": "code",
   "execution_count": 56,
   "id": "1c584788",
   "metadata": {
    "ExecuteTime": {
     "end_time": "2022-01-21T14:46:22.626291Z",
     "start_time": "2022-01-21T14:46:22.612291Z"
    },
    "hidden": true
   },
   "outputs": [],
   "source": [
    "#aria_sensori_zone__id_day.drop(aria_sensori_zone__id_day[aria_sensori_zone__id_day['Zona'] != 'AGG MI'].index, inplace = True)\n",
    "#aria_sensori_zone__id_day.reset_index(drop = True, inplace = True)\n",
    "#aria_sensori_zone__id_day"
   ]
  },
  {
   "cell_type": "code",
   "execution_count": 57,
   "id": "470609a4",
   "metadata": {
    "ExecuteTime": {
     "end_time": "2022-01-21T14:46:22.641289Z",
     "start_time": "2022-01-21T14:46:22.629291Z"
    },
    "hidden": true
   },
   "outputs": [],
   "source": [
    "#aria_sensori_zone__id_day['Zona'].value_counts()"
   ]
  },
  {
   "cell_type": "markdown",
   "id": "f7005841",
   "metadata": {
    "hidden": true
   },
   "source": [
    "L'attributo `quota` delle stazioni in 'C D' indica che si trovano nel fondovalle quindi associo queste stazioni alla zona D"
   ]
  },
  {
   "cell_type": "code",
   "execution_count": 58,
   "id": "90a24c95",
   "metadata": {
    "ExecuteTime": {
     "end_time": "2022-01-21T14:46:22.656317Z",
     "start_time": "2022-01-21T14:46:22.643289Z"
    },
    "hidden": true
   },
   "outputs": [],
   "source": [
    "#aria_sensori_zone__id_day[aria_sensori_zone__id_day['Zona'] == 'C D'].groupby('IdSensore')['Quota'].mean()"
   ]
  },
  {
   "cell_type": "code",
   "execution_count": 59,
   "id": "d7a46a26",
   "metadata": {
    "ExecuteTime": {
     "end_time": "2022-01-21T14:46:22.672286Z",
     "start_time": "2022-01-21T14:46:22.658320Z"
    },
    "hidden": true
   },
   "outputs": [],
   "source": [
    "#aria_sensori_zone__id_day['Zona'].replace('C D', 'D', inplace = True) #da controllare se é ancora valida con i nuovi dati"
   ]
  },
  {
   "cell_type": "code",
   "execution_count": 60,
   "id": "cb577375",
   "metadata": {
    "ExecuteTime": {
     "end_time": "2022-01-21T14:46:22.688285Z",
     "start_time": "2022-01-21T14:46:22.674286Z"
    },
    "hidden": true
   },
   "outputs": [],
   "source": [
    "#aria_sensori_zone__id_day['Zona'].value_counts()"
   ]
  },
  {
   "cell_type": "code",
   "execution_count": 61,
   "id": "5a89caee",
   "metadata": {
    "ExecuteTime": {
     "end_time": "2022-01-21T15:12:48.688727Z",
     "start_time": "2022-01-21T15:12:48.079911Z"
    },
    "hidden": true
   },
   "outputs": [],
   "source": [
    "#location_sensori_MI = aria_sensori_zone__id_day[aria_sensori_zone__id_day['Zona'] == 'AGG MI'].groupby(['Provincia', 'Comune', 'NomeStazione', 'Idstazione', 'lat', 'lng', 'Quota'], as_index = False)['Zona'].count()\n",
    "#location_sensori_MI.drop('Zona', axis = 1, inplace = True)\n",
    "#location_sensori_MI.to_csv(f'{path}data_viz/location_sensori_MI.csv')\n",
    "#location_sensori_MI.head()"
   ]
  },
  {
   "cell_type": "markdown",
   "id": "2e8659e8",
   "metadata": {
    "heading_collapsed": true,
    "hidden": true
   },
   "source": [
    "## GROUP BY `aria_sensori_zone__day_zona_tipo`"
   ]
  },
  {
   "cell_type": "markdown",
   "id": "d48091be",
   "metadata": {
    "hidden": true
   },
   "source": [
    "- Raggruppo per `Data` (giorno), `Zona`, `NomeTipoSensore`\n",
    "- Calcolo grandezze aggregate\n",
    "    - Calcolo il valore medio e la deviazione standard del `Valore_MEAN_id_day`, cioé il valore mediato di un sensore sull'intera giornata\n",
    "    - Importante sottolineare che le funzioni `mean, count e std` di pandas NON tengono conto dei Na, quindi i valori che vediamo sono esatti\n",
    "- Si perdono le colonne `Valore_COUNT_id_day` e `Valore_STD_id_day` ma non sono importanti, sono piú importanti quelle che ricalcoliamo (chiamate `Valore_COUNT_day_zona_tipo` e `Valore_STD_day_zona_tipo`)"
   ]
  },
  {
   "cell_type": "code",
   "execution_count": 62,
   "id": "224e2409",
   "metadata": {
    "ExecuteTime": {
     "end_time": "2022-01-18T15:33:29.841525Z",
     "start_time": "2022-01-18T15:33:19.223491Z"
    },
    "hidden": true
   },
   "outputs": [
    {
     "data": {
      "text/html": [
       "<div>\n",
       "<style scoped>\n",
       "    .dataframe tbody tr th:only-of-type {\n",
       "        vertical-align: middle;\n",
       "    }\n",
       "\n",
       "    .dataframe tbody tr th {\n",
       "        vertical-align: top;\n",
       "    }\n",
       "\n",
       "    .dataframe thead th {\n",
       "        text-align: right;\n",
       "    }\n",
       "</style>\n",
       "<table border=\"1\" class=\"dataframe\">\n",
       "  <thead>\n",
       "    <tr style=\"text-align: right;\">\n",
       "      <th></th>\n",
       "      <th>Data</th>\n",
       "      <th>Zona</th>\n",
       "      <th>NomeTipoSensore</th>\n",
       "      <th>Valore_interesse</th>\n",
       "      <th>Valore_interesse_std</th>\n",
       "      <th>Count_sensori</th>\n",
       "    </tr>\n",
       "  </thead>\n",
       "  <tbody>\n",
       "    <tr>\n",
       "      <th>0</th>\n",
       "      <td>1996-01-01</td>\n",
       "      <td>A</td>\n",
       "      <td>Biossido di Azoto</td>\n",
       "      <td>86.543750</td>\n",
       "      <td>35.848483</td>\n",
       "      <td>16</td>\n",
       "    </tr>\n",
       "    <tr>\n",
       "      <th>1</th>\n",
       "      <td>1996-01-01</td>\n",
       "      <td>A</td>\n",
       "      <td>Biossido di Zolfo</td>\n",
       "      <td>22.341176</td>\n",
       "      <td>12.630545</td>\n",
       "      <td>17</td>\n",
       "    </tr>\n",
       "    <tr>\n",
       "      <th>2</th>\n",
       "      <td>1996-01-01</td>\n",
       "      <td>A</td>\n",
       "      <td>Ozono</td>\n",
       "      <td>13.075000</td>\n",
       "      <td>12.369999</td>\n",
       "      <td>4</td>\n",
       "    </tr>\n",
       "    <tr>\n",
       "      <th>3</th>\n",
       "      <td>1996-01-01</td>\n",
       "      <td>A</td>\n",
       "      <td>PM10 (SM2005)</td>\n",
       "      <td>40.000000</td>\n",
       "      <td>0.000000</td>\n",
       "      <td>1</td>\n",
       "    </tr>\n",
       "    <tr>\n",
       "      <th>4</th>\n",
       "      <td>1996-01-01</td>\n",
       "      <td>AGG BG</td>\n",
       "      <td>Biossido di Azoto</td>\n",
       "      <td>78.114286</td>\n",
       "      <td>12.028232</td>\n",
       "      <td>7</td>\n",
       "    </tr>\n",
       "    <tr>\n",
       "      <th>...</th>\n",
       "      <td>...</td>\n",
       "      <td>...</td>\n",
       "      <td>...</td>\n",
       "      <td>...</td>\n",
       "      <td>...</td>\n",
       "      <td>...</td>\n",
       "    </tr>\n",
       "    <tr>\n",
       "      <th>291432</th>\n",
       "      <td>2021-12-27</td>\n",
       "      <td>C D</td>\n",
       "      <td>Biossido di Zolfo</td>\n",
       "      <td>3.600000</td>\n",
       "      <td>0.000000</td>\n",
       "      <td>1</td>\n",
       "    </tr>\n",
       "    <tr>\n",
       "      <th>291433</th>\n",
       "      <td>2021-12-27</td>\n",
       "      <td>C D</td>\n",
       "      <td>Ozono</td>\n",
       "      <td>10.133333</td>\n",
       "      <td>3.109484</td>\n",
       "      <td>3</td>\n",
       "    </tr>\n",
       "    <tr>\n",
       "      <th>291434</th>\n",
       "      <td>2021-12-27</td>\n",
       "      <td>C D</td>\n",
       "      <td>PM10 (SM2005)</td>\n",
       "      <td>55.750000</td>\n",
       "      <td>13.216940</td>\n",
       "      <td>4</td>\n",
       "    </tr>\n",
       "    <tr>\n",
       "      <th>291435</th>\n",
       "      <td>2021-12-27</td>\n",
       "      <td>C D</td>\n",
       "      <td>Particelle sospese PM2.5</td>\n",
       "      <td>59.000000</td>\n",
       "      <td>6.000000</td>\n",
       "      <td>2</td>\n",
       "    </tr>\n",
       "    <tr>\n",
       "      <th>291436</th>\n",
       "      <td>2021-12-28</td>\n",
       "      <td>B</td>\n",
       "      <td>Particelle sospese PM2.5</td>\n",
       "      <td>58.900000</td>\n",
       "      <td>0.000000</td>\n",
       "      <td>1</td>\n",
       "    </tr>\n",
       "  </tbody>\n",
       "</table>\n",
       "<p>291437 rows × 6 columns</p>\n",
       "</div>"
      ],
      "text/plain": [
       "              Data    Zona           NomeTipoSensore  Valore_interesse  \\\n",
       "0       1996-01-01       A         Biossido di Azoto         86.543750   \n",
       "1       1996-01-01       A         Biossido di Zolfo         22.341176   \n",
       "2       1996-01-01       A                     Ozono         13.075000   \n",
       "3       1996-01-01       A             PM10 (SM2005)         40.000000   \n",
       "4       1996-01-01  AGG BG         Biossido di Azoto         78.114286   \n",
       "...            ...     ...                       ...               ...   \n",
       "291432  2021-12-27     C D         Biossido di Zolfo          3.600000   \n",
       "291433  2021-12-27     C D                     Ozono         10.133333   \n",
       "291434  2021-12-27     C D             PM10 (SM2005)         55.750000   \n",
       "291435  2021-12-27     C D  Particelle sospese PM2.5         59.000000   \n",
       "291436  2021-12-28       B  Particelle sospese PM2.5         58.900000   \n",
       "\n",
       "        Valore_interesse_std  Count_sensori  \n",
       "0                  35.848483             16  \n",
       "1                  12.630545             17  \n",
       "2                  12.369999              4  \n",
       "3                   0.000000              1  \n",
       "4                  12.028232              7  \n",
       "...                      ...            ...  \n",
       "291432              0.000000              1  \n",
       "291433              3.109484              3  \n",
       "291434             13.216940              4  \n",
       "291435              6.000000              2  \n",
       "291436              0.000000              1  \n",
       "\n",
       "[291437 rows x 6 columns]"
      ]
     },
     "execution_count": 62,
     "metadata": {},
     "output_type": "execute_result"
    }
   ],
   "source": [
    "aria_sensori_zone__day_zona_tipo = aria_sensori_zone__id_day.groupby(['Data',\n",
    "                                                                      'Zona',\n",
    "                                                                      'NomeTipoSensore'\n",
    "                                                                     ]).agg({'Valore_interesse': ['mean', lambda x:np.std(x), 'count']}).reset_index()\n",
    "\n",
    "aria_sensori_zone__day_zona_tipo.columns = ['Data', 'Zona', 'NomeTipoSensore', 'Valore_interesse','Valore_interesse_std', 'Count_sensori']\n",
    "aria_sensori_zone__day_zona_tipo"
   ]
  },
  {
   "cell_type": "markdown",
   "id": "5c184df7",
   "metadata": {
    "heading_collapsed": true
   },
   "source": [
    "# Controlli (*superset*)"
   ]
  },
  {
   "cell_type": "markdown",
   "id": "e1564594",
   "metadata": {
    "hidden": true
   },
   "source": [
    "### Valori mancanti per ogni coppia `Zona` - `NomeTipoSensore`"
   ]
  },
  {
   "cell_type": "markdown",
   "id": "fe774f61",
   "metadata": {
    "hidden": true
   },
   "source": [
    "#### Numero valori mancanti e valori NaN"
   ]
  },
  {
   "cell_type": "markdown",
   "id": "81ce0bd8",
   "metadata": {
    "hidden": true
   },
   "source": [
    "I valori delle medie mancanti sono dovuti a:\n",
    "\n",
    "- righe effettivamente mancanti\n",
    "- righe con Valore_MEAN uguale a NaN"
   ]
  },
  {
   "cell_type": "code",
   "execution_count": 63,
   "id": "910f3762",
   "metadata": {
    "ExecuteTime": {
     "end_time": "2022-01-18T15:33:41.522295Z",
     "start_time": "2022-01-18T15:33:41.447562Z"
    },
    "hidden": true
   },
   "outputs": [
    {
     "name": "stdout",
     "output_type": "stream",
     "text": [
      "332290 Numero righe teoriche -\n",
      "291437 Numero righe reali    =\n",
      "40853   Numero righe mancanti\n"
     ]
    }
   ],
   "source": [
    "lista_date = pd.date_range(aria_sensori_zone__day_zona_tipo.Data.min(), aria_sensori_zone__day_zona_tipo.Data.max())\n",
    "lista_zone = aria_sensori_zone__day_zona_tipo.Zona.unique()\n",
    "lista_tipi = aria_sensori_zone__day_zona_tipo.NomeTipoSensore.unique()\n",
    "\n",
    "print(len(lista_date) * len(lista_zone) * len(lista_tipi),'Numero righe teoriche -') #giori * zone * tipi sensori\n",
    "print(len(aria_sensori_zone__day_zona_tipo),'Numero righe reali    =')\n",
    "print(len(lista_date) * len(lista_zone) * len(lista_tipi)-len(aria_sensori_zone__day_zona_tipo),'  Numero righe mancanti')"
   ]
  },
  {
   "cell_type": "code",
   "execution_count": 64,
   "id": "2883d657",
   "metadata": {
    "ExecuteTime": {
     "end_time": "2022-01-18T15:33:42.563488Z",
     "start_time": "2022-01-18T15:33:42.535239Z"
    },
    "hidden": true,
    "scrolled": true
   },
   "outputs": [
    {
     "name": "stdout",
     "output_type": "stream",
     "text": [
      "0 Numero righe con valore NaN\n"
     ]
    }
   ],
   "source": [
    "print(sum(aria_sensori_zone__day_zona_tipo['Valore_interesse'].isna()), 'Numero righe con valore NaN')"
   ]
  },
  {
   "cell_type": "markdown",
   "id": "221a1d90",
   "metadata": {
    "hidden": true
   },
   "source": [
    "#### Aggiunta valori NaN per giorni mancanti"
   ]
  },
  {
   "cell_type": "markdown",
   "id": "2c3f4723",
   "metadata": {
    "hidden": true
   },
   "source": [
    "Serve dopo quando si compie la media mobile (per mediare i giorni contigui e non le righe contigue)"
   ]
  },
  {
   "cell_type": "code",
   "execution_count": 65,
   "id": "05b22c7d",
   "metadata": {
    "ExecuteTime": {
     "end_time": "2022-01-18T15:33:48.694553Z",
     "start_time": "2022-01-18T15:33:45.574649Z"
    },
    "hidden": true
   },
   "outputs": [
    {
     "data": {
      "text/html": [
       "<div>\n",
       "<style scoped>\n",
       "    .dataframe tbody tr th:only-of-type {\n",
       "        vertical-align: middle;\n",
       "    }\n",
       "\n",
       "    .dataframe tbody tr th {\n",
       "        vertical-align: top;\n",
       "    }\n",
       "\n",
       "    .dataframe thead th {\n",
       "        text-align: right;\n",
       "    }\n",
       "</style>\n",
       "<table border=\"1\" class=\"dataframe\">\n",
       "  <thead>\n",
       "    <tr style=\"text-align: right;\">\n",
       "      <th></th>\n",
       "      <th>Data</th>\n",
       "      <th>Zona</th>\n",
       "      <th>NomeTipoSensore</th>\n",
       "      <th>Valore_interesse</th>\n",
       "      <th>Valore_interesse_std</th>\n",
       "      <th>Count_sensori</th>\n",
       "    </tr>\n",
       "  </thead>\n",
       "  <tbody>\n",
       "    <tr>\n",
       "      <th>0</th>\n",
       "      <td>1996-01-01</td>\n",
       "      <td>A</td>\n",
       "      <td>Biossido di Azoto</td>\n",
       "      <td>86.543750</td>\n",
       "      <td>35.848483</td>\n",
       "      <td>16.0</td>\n",
       "    </tr>\n",
       "    <tr>\n",
       "      <th>1</th>\n",
       "      <td>1996-01-01</td>\n",
       "      <td>A</td>\n",
       "      <td>Biossido di Zolfo</td>\n",
       "      <td>22.341176</td>\n",
       "      <td>12.630545</td>\n",
       "      <td>17.0</td>\n",
       "    </tr>\n",
       "    <tr>\n",
       "      <th>2</th>\n",
       "      <td>1996-01-01</td>\n",
       "      <td>A</td>\n",
       "      <td>Ozono</td>\n",
       "      <td>13.075000</td>\n",
       "      <td>12.369999</td>\n",
       "      <td>4.0</td>\n",
       "    </tr>\n",
       "    <tr>\n",
       "      <th>3</th>\n",
       "      <td>1996-01-01</td>\n",
       "      <td>A</td>\n",
       "      <td>PM10 (SM2005)</td>\n",
       "      <td>40.000000</td>\n",
       "      <td>0.000000</td>\n",
       "      <td>1.0</td>\n",
       "    </tr>\n",
       "    <tr>\n",
       "      <th>4</th>\n",
       "      <td>1996-01-01</td>\n",
       "      <td>A</td>\n",
       "      <td>Particelle sospese PM2.5</td>\n",
       "      <td>NaN</td>\n",
       "      <td>NaN</td>\n",
       "      <td>NaN</td>\n",
       "    </tr>\n",
       "    <tr>\n",
       "      <th>...</th>\n",
       "      <td>...</td>\n",
       "      <td>...</td>\n",
       "      <td>...</td>\n",
       "      <td>...</td>\n",
       "      <td>...</td>\n",
       "      <td>...</td>\n",
       "    </tr>\n",
       "    <tr>\n",
       "      <th>332285</th>\n",
       "      <td>2021-12-28</td>\n",
       "      <td>C D</td>\n",
       "      <td>Biossido di Azoto</td>\n",
       "      <td>NaN</td>\n",
       "      <td>NaN</td>\n",
       "      <td>NaN</td>\n",
       "    </tr>\n",
       "    <tr>\n",
       "      <th>332286</th>\n",
       "      <td>2021-12-28</td>\n",
       "      <td>C D</td>\n",
       "      <td>Biossido di Zolfo</td>\n",
       "      <td>NaN</td>\n",
       "      <td>NaN</td>\n",
       "      <td>NaN</td>\n",
       "    </tr>\n",
       "    <tr>\n",
       "      <th>332287</th>\n",
       "      <td>2021-12-28</td>\n",
       "      <td>C D</td>\n",
       "      <td>Ozono</td>\n",
       "      <td>NaN</td>\n",
       "      <td>NaN</td>\n",
       "      <td>NaN</td>\n",
       "    </tr>\n",
       "    <tr>\n",
       "      <th>332288</th>\n",
       "      <td>2021-12-28</td>\n",
       "      <td>C D</td>\n",
       "      <td>PM10 (SM2005)</td>\n",
       "      <td>NaN</td>\n",
       "      <td>NaN</td>\n",
       "      <td>NaN</td>\n",
       "    </tr>\n",
       "    <tr>\n",
       "      <th>332289</th>\n",
       "      <td>2021-12-28</td>\n",
       "      <td>C D</td>\n",
       "      <td>Particelle sospese PM2.5</td>\n",
       "      <td>NaN</td>\n",
       "      <td>NaN</td>\n",
       "      <td>NaN</td>\n",
       "    </tr>\n",
       "  </tbody>\n",
       "</table>\n",
       "<p>332290 rows × 6 columns</p>\n",
       "</div>"
      ],
      "text/plain": [
       "             Data Zona           NomeTipoSensore  Valore_interesse  \\\n",
       "0      1996-01-01    A         Biossido di Azoto         86.543750   \n",
       "1      1996-01-01    A         Biossido di Zolfo         22.341176   \n",
       "2      1996-01-01    A                     Ozono         13.075000   \n",
       "3      1996-01-01    A             PM10 (SM2005)         40.000000   \n",
       "4      1996-01-01    A  Particelle sospese PM2.5               NaN   \n",
       "...           ...  ...                       ...               ...   \n",
       "332285 2021-12-28  C D         Biossido di Azoto               NaN   \n",
       "332286 2021-12-28  C D         Biossido di Zolfo               NaN   \n",
       "332287 2021-12-28  C D                     Ozono               NaN   \n",
       "332288 2021-12-28  C D             PM10 (SM2005)               NaN   \n",
       "332289 2021-12-28  C D  Particelle sospese PM2.5               NaN   \n",
       "\n",
       "        Valore_interesse_std  Count_sensori  \n",
       "0                  35.848483           16.0  \n",
       "1                  12.630545           17.0  \n",
       "2                  12.369999            4.0  \n",
       "3                   0.000000            1.0  \n",
       "4                        NaN            NaN  \n",
       "...                      ...            ...  \n",
       "332285                   NaN            NaN  \n",
       "332286                   NaN            NaN  \n",
       "332287                   NaN            NaN  \n",
       "332288                   NaN            NaN  \n",
       "332289                   NaN            NaN  \n",
       "\n",
       "[332290 rows x 6 columns]"
      ]
     },
     "execution_count": 65,
     "metadata": {},
     "output_type": "execute_result"
    }
   ],
   "source": [
    "colonne = ['Data', 'Zona', 'NomeTipoSensore']\n",
    "idx = pd.MultiIndex.from_product([lista_date, lista_zone, lista_tipi], names=colonne)\n",
    "\n",
    "aria_sensori_zone__day_zona_tipo = aria_sensori_zone__day_zona_tipo.set_index(colonne).reindex(idx, fill_value=np.NaN).reset_index()\n",
    "aria_sensori_zone__day_zona_tipo"
   ]
  },
  {
   "cell_type": "markdown",
   "id": "3817c50f",
   "metadata": {
    "hidden": true
   },
   "source": [
    "Abbiamo ottenuto un numero di righe uguale a quelle teoriche con presenti dei NaN"
   ]
  },
  {
   "cell_type": "code",
   "execution_count": 66,
   "id": "88e26a3f",
   "metadata": {
    "ExecuteTime": {
     "end_time": "2022-01-18T15:34:05.053171Z",
     "start_time": "2022-01-18T15:34:05.019820Z"
    },
    "hidden": true
   },
   "outputs": [
    {
     "name": "stdout",
     "output_type": "stream",
     "text": [
      "40853 Numero totale di valori medi mancanti\n"
     ]
    }
   ],
   "source": [
    "print(sum(aria_sensori_zone__day_zona_tipo['Valore_interesse'].isna()), 'Numero totale di valori medi mancanti')"
   ]
  },
  {
   "cell_type": "markdown",
   "id": "dd347b52",
   "metadata": {
    "hidden": true
   },
   "source": [
    "#### Heatmap `Zona` - `NomeTipoSensore`"
   ]
  },
  {
   "cell_type": "markdown",
   "id": "cd0b322e",
   "metadata": {
    "hidden": true
   },
   "source": [
    "- Ora valuto il numero di osservazioni per ogni coppia `NomeTipoSensore` - `Zona`.\n",
    "- Con il dataset aggiornato dovrebbe risultare per tutte le coppie 365gg x numero anni + 1gg(bisestile il 2020)"
   ]
  },
  {
   "cell_type": "code",
   "execution_count": 67,
   "id": "d8c5f507",
   "metadata": {
    "ExecuteTime": {
     "end_time": "2022-01-18T12:15:47.868773Z",
     "start_time": "2022-01-18T12:15:47.868773Z"
    },
    "hidden": true
   },
   "outputs": [],
   "source": [
    "#controllo1 = aria_sensori_zone__day_zona_tipo.groupby(['Zona', 'NomeTipoSensore'], as_index = False)[['Valore_MEAN_day_zona_tipo']].count()\n",
    "#controllo1 = controllo1.pivot('NomeTipoSensore', 'Zona', 'Valore_MEAN_day_zona_tipo')\n",
    "\n",
    "#sns.set(rc={'figure.figsize':(6,5)})\n",
    "#sns.heatmap(controllo1, annot=True, fmt=\"d\", cmap=\"YlGnBu_r\")"
   ]
  },
  {
   "cell_type": "markdown",
   "id": "85d04f97",
   "metadata": {
    "hidden": true
   },
   "source": [
    "### Valori mancanti per ogni coppia `Data` - `NomeTipoSensore`"
   ]
  },
  {
   "cell_type": "code",
   "execution_count": 68,
   "id": "5fc8f10d",
   "metadata": {
    "ExecuteTime": {
     "end_time": "2022-01-18T15:34:23.977902Z",
     "start_time": "2022-01-18T15:34:19.809397Z"
    },
    "hidden": true
   },
   "outputs": [
    {
     "data": {
      "text/plain": [
       "<AxesSubplot:xlabel='Data', ylabel='NomeTipoSensore'>"
      ]
     },
     "execution_count": 68,
     "metadata": {},
     "output_type": "execute_result"
    },
    {
     "data": {
      "image/png": "[encoded data removed]",
      "text/plain": [
       "<Figure size 1224x360 with 2 Axes>"
      ]
     },
     "metadata": {},
     "output_type": "display_data"
    }
   ],
   "source": [
    "controllo2 = aria_sensori_zone__day_zona_tipo.groupby(['NomeTipoSensore', 'Data'], as_index = False)[['Valore_interesse']].count()\n",
    "controllo2 = controllo2.pivot('NomeTipoSensore', 'Data', 'Valore_interesse')\n",
    "\n",
    "sns.set(rc={'figure.figsize':(17,5)})\n",
    "sns.heatmap(controllo2, cmap=\"YlGnBu_r\")"
   ]
  },
  {
   "cell_type": "markdown",
   "id": "e3f86e88",
   "metadata": {
    "hidden": true
   },
   "source": [
    "### Numero medio sensori"
   ]
  },
  {
   "cell_type": "code",
   "execution_count": 69,
   "id": "215ef4e3",
   "metadata": {
    "ExecuteTime": {
     "end_time": "2022-01-18T12:15:47.871879Z",
     "start_time": "2022-01-18T12:15:47.871879Z"
    },
    "hidden": true
   },
   "outputs": [
    {
     "data": {
      "text/html": [
       "<div>\n",
       "<style scoped>\n",
       "    .dataframe tbody tr th:only-of-type {\n",
       "        vertical-align: middle;\n",
       "    }\n",
       "\n",
       "    .dataframe tbody tr th {\n",
       "        vertical-align: top;\n",
       "    }\n",
       "\n",
       "    .dataframe thead th {\n",
       "        text-align: right;\n",
       "    }\n",
       "</style>\n",
       "<table border=\"1\" class=\"dataframe\">\n",
       "  <thead>\n",
       "    <tr style=\"text-align: right;\">\n",
       "      <th></th>\n",
       "      <th>NomeTipoSensore</th>\n",
       "      <th>Count_sensori</th>\n",
       "    </tr>\n",
       "  </thead>\n",
       "  <tbody>\n",
       "    <tr>\n",
       "      <th>0</th>\n",
       "      <td>Biossido di Azoto</td>\n",
       "      <td>15.348733</td>\n",
       "    </tr>\n",
       "    <tr>\n",
       "      <th>1</th>\n",
       "      <td>Biossido di Zolfo</td>\n",
       "      <td>7.573804</td>\n",
       "    </tr>\n",
       "    <tr>\n",
       "      <th>2</th>\n",
       "      <td>Ozono</td>\n",
       "      <td>7.864996</td>\n",
       "    </tr>\n",
       "    <tr>\n",
       "      <th>3</th>\n",
       "      <td>PM10 (SM2005)</td>\n",
       "      <td>7.810196</td>\n",
       "    </tr>\n",
       "    <tr>\n",
       "      <th>4</th>\n",
       "      <td>Particelle sospese PM2.5</td>\n",
       "      <td>4.005745</td>\n",
       "    </tr>\n",
       "  </tbody>\n",
       "</table>\n",
       "</div>"
      ],
      "text/plain": [
       "            NomeTipoSensore  Count_sensori\n",
       "0         Biossido di Azoto      15.348733\n",
       "1         Biossido di Zolfo       7.573804\n",
       "2                     Ozono       7.864996\n",
       "3             PM10 (SM2005)       7.810196\n",
       "4  Particelle sospese PM2.5       4.005745"
      ]
     },
     "execution_count": 69,
     "metadata": {},
     "output_type": "execute_result"
    }
   ],
   "source": [
    "controllo = aria_sensori_zone__day_zona_tipo.groupby('NomeTipoSensore', as_index = False)[['Count_sensori']].mean()\n",
    "controllo"
   ]
  },
  {
   "cell_type": "markdown",
   "id": "dd94ada4",
   "metadata": {},
   "source": [
    "# Dataset per heatmap (*subset*)"
   ]
  },
  {
   "cell_type": "markdown",
   "id": "f61a306d",
   "metadata": {},
   "source": [
    "## Subsetting (solo zona di milano `AGG MI`)"
   ]
  },
  {
   "cell_type": "markdown",
   "id": "e32d6805",
   "metadata": {},
   "source": [
    "Tengo solo le righe di `aria_sensori_zone__day_zona_tipo` relative all'aggregato di Milano `AGG MI`"
   ]
  },
  {
   "cell_type": "code",
   "execution_count": 70,
   "id": "f688509a",
   "metadata": {
    "ExecuteTime": {
     "end_time": "2022-01-18T15:34:43.143404Z",
     "start_time": "2022-01-18T15:34:43.094530Z"
    }
   },
   "outputs": [],
   "source": [
    "aria_milano = aria_sensori_zone__day_zona_tipo[\n",
    "    aria_sensori_zone__day_zona_tipo['Zona'] == 'AGG MI'].drop(\n",
    "        columns=['Zona']).reset_index(drop=True)"
   ]
  },
  {
   "cell_type": "code",
   "execution_count": 71,
   "id": "eb7dc97b",
   "metadata": {
    "ExecuteTime": {
     "end_time": "2022-01-18T15:56:17.654103Z",
     "start_time": "2022-01-18T15:56:17.640079Z"
    }
   },
   "outputs": [
    {
     "data": {
      "text/html": [
       "<div>\n",
       "<style scoped>\n",
       "    .dataframe tbody tr th:only-of-type {\n",
       "        vertical-align: middle;\n",
       "    }\n",
       "\n",
       "    .dataframe tbody tr th {\n",
       "        vertical-align: top;\n",
       "    }\n",
       "\n",
       "    .dataframe thead th {\n",
       "        text-align: right;\n",
       "    }\n",
       "</style>\n",
       "<table border=\"1\" class=\"dataframe\">\n",
       "  <thead>\n",
       "    <tr style=\"text-align: right;\">\n",
       "      <th></th>\n",
       "      <th>Data</th>\n",
       "      <th>NomeTipoSensore</th>\n",
       "      <th>Valore_interesse</th>\n",
       "      <th>Valore_interesse_std</th>\n",
       "      <th>Count_sensori</th>\n",
       "    </tr>\n",
       "  </thead>\n",
       "  <tbody>\n",
       "    <tr>\n",
       "      <th>0</th>\n",
       "      <td>1996-01-01</td>\n",
       "      <td>Biossido di Azoto</td>\n",
       "      <td>107.41000</td>\n",
       "      <td>21.827664</td>\n",
       "      <td>30.0</td>\n",
       "    </tr>\n",
       "    <tr>\n",
       "      <th>1</th>\n",
       "      <td>1996-01-01</td>\n",
       "      <td>Biossido di Zolfo</td>\n",
       "      <td>35.47000</td>\n",
       "      <td>26.706231</td>\n",
       "      <td>30.0</td>\n",
       "    </tr>\n",
       "    <tr>\n",
       "      <th>2</th>\n",
       "      <td>1996-01-01</td>\n",
       "      <td>Ozono</td>\n",
       "      <td>18.36875</td>\n",
       "      <td>8.789676</td>\n",
       "      <td>16.0</td>\n",
       "    </tr>\n",
       "    <tr>\n",
       "      <th>3</th>\n",
       "      <td>1996-01-01</td>\n",
       "      <td>PM10 (SM2005)</td>\n",
       "      <td>NaN</td>\n",
       "      <td>NaN</td>\n",
       "      <td>NaN</td>\n",
       "    </tr>\n",
       "    <tr>\n",
       "      <th>4</th>\n",
       "      <td>1996-01-01</td>\n",
       "      <td>Particelle sospese PM2.5</td>\n",
       "      <td>NaN</td>\n",
       "      <td>NaN</td>\n",
       "      <td>NaN</td>\n",
       "    </tr>\n",
       "    <tr>\n",
       "      <th>...</th>\n",
       "      <td>...</td>\n",
       "      <td>...</td>\n",
       "      <td>...</td>\n",
       "      <td>...</td>\n",
       "      <td>...</td>\n",
       "    </tr>\n",
       "    <tr>\n",
       "      <th>47465</th>\n",
       "      <td>2021-12-28</td>\n",
       "      <td>Biossido di Azoto</td>\n",
       "      <td>NaN</td>\n",
       "      <td>NaN</td>\n",
       "      <td>NaN</td>\n",
       "    </tr>\n",
       "    <tr>\n",
       "      <th>47466</th>\n",
       "      <td>2021-12-28</td>\n",
       "      <td>Biossido di Zolfo</td>\n",
       "      <td>NaN</td>\n",
       "      <td>NaN</td>\n",
       "      <td>NaN</td>\n",
       "    </tr>\n",
       "    <tr>\n",
       "      <th>47467</th>\n",
       "      <td>2021-12-28</td>\n",
       "      <td>Ozono</td>\n",
       "      <td>NaN</td>\n",
       "      <td>NaN</td>\n",
       "      <td>NaN</td>\n",
       "    </tr>\n",
       "    <tr>\n",
       "      <th>47468</th>\n",
       "      <td>2021-12-28</td>\n",
       "      <td>PM10 (SM2005)</td>\n",
       "      <td>NaN</td>\n",
       "      <td>NaN</td>\n",
       "      <td>NaN</td>\n",
       "    </tr>\n",
       "    <tr>\n",
       "      <th>47469</th>\n",
       "      <td>2021-12-28</td>\n",
       "      <td>Particelle sospese PM2.5</td>\n",
       "      <td>NaN</td>\n",
       "      <td>NaN</td>\n",
       "      <td>NaN</td>\n",
       "    </tr>\n",
       "  </tbody>\n",
       "</table>\n",
       "<p>47470 rows × 5 columns</p>\n",
       "</div>"
      ],
      "text/plain": [
       "            Data           NomeTipoSensore  Valore_interesse  \\\n",
       "0     1996-01-01         Biossido di Azoto         107.41000   \n",
       "1     1996-01-01         Biossido di Zolfo          35.47000   \n",
       "2     1996-01-01                     Ozono          18.36875   \n",
       "3     1996-01-01             PM10 (SM2005)               NaN   \n",
       "4     1996-01-01  Particelle sospese PM2.5               NaN   \n",
       "...          ...                       ...               ...   \n",
       "47465 2021-12-28         Biossido di Azoto               NaN   \n",
       "47466 2021-12-28         Biossido di Zolfo               NaN   \n",
       "47467 2021-12-28                     Ozono               NaN   \n",
       "47468 2021-12-28             PM10 (SM2005)               NaN   \n",
       "47469 2021-12-28  Particelle sospese PM2.5               NaN   \n",
       "\n",
       "       Valore_interesse_std  Count_sensori  \n",
       "0                 21.827664           30.0  \n",
       "1                 26.706231           30.0  \n",
       "2                  8.789676           16.0  \n",
       "3                       NaN            NaN  \n",
       "4                       NaN            NaN  \n",
       "...                     ...            ...  \n",
       "47465                   NaN            NaN  \n",
       "47466                   NaN            NaN  \n",
       "47467                   NaN            NaN  \n",
       "47468                   NaN            NaN  \n",
       "47469                   NaN            NaN  \n",
       "\n",
       "[47470 rows x 5 columns]"
      ]
     },
     "execution_count": 71,
     "metadata": {},
     "output_type": "execute_result"
    }
   ],
   "source": [
    "aria_milano"
   ]
  },
  {
   "cell_type": "code",
   "execution_count": 72,
   "id": "ca88cf6f",
   "metadata": {
    "ExecuteTime": {
     "end_time": "2022-01-18T12:15:47.874912Z",
     "start_time": "2022-01-18T12:15:47.874912Z"
    }
   },
   "outputs": [
    {
     "data": {
      "text/plain": [
       "Data                    datetime64[ns]\n",
       "NomeTipoSensore                 object\n",
       "Valore_interesse               float64\n",
       "Valore_interesse_std           float64\n",
       "Count_sensori                  float64\n",
       "dtype: object"
      ]
     },
     "execution_count": 72,
     "metadata": {},
     "output_type": "execute_result"
    }
   ],
   "source": [
    "aria_milano.dtypes"
   ]
  },
  {
   "cell_type": "markdown",
   "id": "b0befb0e",
   "metadata": {
    "heading_collapsed": true
   },
   "source": [
    "## Missing Values"
   ]
  },
  {
   "cell_type": "markdown",
   "id": "07987ae9",
   "metadata": {
    "hidden": true
   },
   "source": [
    "### Valori mancanti per ogni coppia `Data` - `NomeTipoSensore`"
   ]
  },
  {
   "cell_type": "code",
   "execution_count": 73,
   "id": "2509fae2",
   "metadata": {
    "ExecuteTime": {
     "end_time": "2022-01-18T15:35:08.874205Z",
     "start_time": "2022-01-18T15:35:05.026689Z"
    },
    "hidden": true
   },
   "outputs": [
    {
     "data": {
      "text/plain": [
       "<AxesSubplot:xlabel='Data', ylabel='NomeTipoSensore'>"
      ]
     },
     "execution_count": 73,
     "metadata": {},
     "output_type": "execute_result"
    },
    {
     "data": {
      "image/png": "[encoded data removed]",
      "text/plain": [
       "<Figure size 1224x360 with 2 Axes>"
      ]
     },
     "metadata": {},
     "output_type": "display_data"
    }
   ],
   "source": [
    "controllo3 = aria_milano.groupby(['NomeTipoSensore', 'Data'], as_index = False)[['Valore_interesse']].count()\n",
    "controllo3 = controllo3.pivot('NomeTipoSensore', 'Data', 'Valore_interesse')\n",
    "\n",
    "sns.set(rc={'figure.figsize':(17,5)})\n",
    "sns.heatmap(controllo3, cmap=\"YlGnBu_r\", vmin=0, vmax=1)"
   ]
  },
  {
   "cell_type": "code",
   "execution_count": 74,
   "id": "d66f6984",
   "metadata": {
    "ExecuteTime": {
     "end_time": "2022-01-18T12:15:47.877911Z",
     "start_time": "2022-01-18T12:15:47.877911Z"
    },
    "hidden": true
   },
   "outputs": [
    {
     "data": {
      "text/plain": [
       "Data                       0\n",
       "NomeTipoSensore            0\n",
       "Valore_interesse        4405\n",
       "Valore_interesse_std    4405\n",
       "Count_sensori           4405\n",
       "dtype: int64"
      ]
     },
     "execution_count": 74,
     "metadata": {},
     "output_type": "execute_result"
    }
   ],
   "source": [
    "aria_milano.isna().sum()"
   ]
  },
  {
   "cell_type": "markdown",
   "id": "8ba2be5c",
   "metadata": {
    "hidden": true
   },
   "source": [
    "### Numero medio di sensori"
   ]
  },
  {
   "cell_type": "code",
   "execution_count": 75,
   "id": "9825a34a",
   "metadata": {
    "ExecuteTime": {
     "end_time": "2022-01-18T12:15:47.878902Z",
     "start_time": "2022-01-18T12:15:47.878902Z"
    },
    "hidden": true
   },
   "outputs": [
    {
     "name": "stdout",
     "output_type": "stream",
     "text": [
      "            NomeTipoSensore  Count_sensori\n",
      "0         Biossido di Azoto      30.380952\n",
      "1         Biossido di Zolfo      11.050258\n",
      "2                     Ozono      17.187210\n",
      "3             PM10 (SM2005)      11.123121\n",
      "4  Particelle sospese PM2.5       4.854468\n"
     ]
    }
   ],
   "source": [
    "controllo4 = aria_milano.groupby(['NomeTipoSensore'], as_index = False)[['Count_sensori']].mean()\n",
    "print(controllo4)"
   ]
  },
  {
   "cell_type": "markdown",
   "id": "331eac3b",
   "metadata": {},
   "source": [
    "## Calcolo indice"
   ]
  },
  {
   "cell_type": "code",
   "execution_count": 76,
   "id": "fc66a054",
   "metadata": {
    "ExecuteTime": {
     "end_time": "2022-01-18T15:35:16.056885Z",
     "start_time": "2022-01-18T15:35:16.047787Z"
    }
   },
   "outputs": [
    {
     "data": {
      "text/html": [
       "<div>\n",
       "<style scoped>\n",
       "    .dataframe tbody tr th:only-of-type {\n",
       "        vertical-align: middle;\n",
       "    }\n",
       "\n",
       "    .dataframe tbody tr th {\n",
       "        vertical-align: top;\n",
       "    }\n",
       "\n",
       "    .dataframe thead th {\n",
       "        text-align: right;\n",
       "    }\n",
       "</style>\n",
       "<table border=\"1\" class=\"dataframe\">\n",
       "  <thead>\n",
       "    <tr style=\"text-align: right;\">\n",
       "      <th></th>\n",
       "      <th>Data</th>\n",
       "      <th>NomeTipoSensore</th>\n",
       "      <th>Valore_interesse</th>\n",
       "      <th>Valore_interesse_std</th>\n",
       "      <th>Count_sensori</th>\n",
       "    </tr>\n",
       "  </thead>\n",
       "  <tbody>\n",
       "    <tr>\n",
       "      <th>0</th>\n",
       "      <td>1996-01-01</td>\n",
       "      <td>Biossido di Azoto</td>\n",
       "      <td>107.41000</td>\n",
       "      <td>21.827664</td>\n",
       "      <td>30.0</td>\n",
       "    </tr>\n",
       "    <tr>\n",
       "      <th>1</th>\n",
       "      <td>1996-01-01</td>\n",
       "      <td>Biossido di Zolfo</td>\n",
       "      <td>35.47000</td>\n",
       "      <td>26.706231</td>\n",
       "      <td>30.0</td>\n",
       "    </tr>\n",
       "    <tr>\n",
       "      <th>2</th>\n",
       "      <td>1996-01-01</td>\n",
       "      <td>Ozono</td>\n",
       "      <td>18.36875</td>\n",
       "      <td>8.789676</td>\n",
       "      <td>16.0</td>\n",
       "    </tr>\n",
       "    <tr>\n",
       "      <th>3</th>\n",
       "      <td>1996-01-01</td>\n",
       "      <td>PM10 (SM2005)</td>\n",
       "      <td>NaN</td>\n",
       "      <td>NaN</td>\n",
       "      <td>NaN</td>\n",
       "    </tr>\n",
       "    <tr>\n",
       "      <th>4</th>\n",
       "      <td>1996-01-01</td>\n",
       "      <td>Particelle sospese PM2.5</td>\n",
       "      <td>NaN</td>\n",
       "      <td>NaN</td>\n",
       "      <td>NaN</td>\n",
       "    </tr>\n",
       "  </tbody>\n",
       "</table>\n",
       "</div>"
      ],
      "text/plain": [
       "        Data           NomeTipoSensore  Valore_interesse  \\\n",
       "0 1996-01-01         Biossido di Azoto         107.41000   \n",
       "1 1996-01-01         Biossido di Zolfo          35.47000   \n",
       "2 1996-01-01                     Ozono          18.36875   \n",
       "3 1996-01-01             PM10 (SM2005)               NaN   \n",
       "4 1996-01-01  Particelle sospese PM2.5               NaN   \n",
       "\n",
       "   Valore_interesse_std  Count_sensori  \n",
       "0             21.827664           30.0  \n",
       "1             26.706231           30.0  \n",
       "2              8.789676           16.0  \n",
       "3                   NaN            NaN  \n",
       "4                   NaN            NaN  "
      ]
     },
     "execution_count": 76,
     "metadata": {},
     "output_type": "execute_result"
    }
   ],
   "source": [
    "aria_milano.head()"
   ]
  },
  {
   "cell_type": "code",
   "execution_count": 77,
   "id": "cca33367",
   "metadata": {
    "ExecuteTime": {
     "end_time": "2022-01-18T15:35:18.389901Z",
     "start_time": "2022-01-18T15:35:18.369720Z"
    }
   },
   "outputs": [
    {
     "data": {
      "text/html": [
       "<div>\n",
       "<style scoped>\n",
       "    .dataframe tbody tr th:only-of-type {\n",
       "        vertical-align: middle;\n",
       "    }\n",
       "\n",
       "    .dataframe tbody tr th {\n",
       "        vertical-align: top;\n",
       "    }\n",
       "\n",
       "    .dataframe thead th {\n",
       "        text-align: right;\n",
       "    }\n",
       "</style>\n",
       "<table border=\"1\" class=\"dataframe\">\n",
       "  <thead>\n",
       "    <tr style=\"text-align: right;\">\n",
       "      <th></th>\n",
       "      <th>Molto Buona</th>\n",
       "      <th>Buona</th>\n",
       "      <th>Accettabile</th>\n",
       "      <th>Scarsa</th>\n",
       "      <th>Molto Scarsa</th>\n",
       "      <th>Tipo</th>\n",
       "    </tr>\n",
       "  </thead>\n",
       "  <tbody>\n",
       "    <tr>\n",
       "      <th>Biossido di Azoto</th>\n",
       "      <td>40</td>\n",
       "      <td>100</td>\n",
       "      <td>200</td>\n",
       "      <td>400</td>\n",
       "      <td>1000</td>\n",
       "      <td>max 24h</td>\n",
       "    </tr>\n",
       "    <tr>\n",
       "      <th>Biossido di Zolfo</th>\n",
       "      <td>100</td>\n",
       "      <td>200</td>\n",
       "      <td>350</td>\n",
       "      <td>500</td>\n",
       "      <td>1250</td>\n",
       "      <td>max 24h</td>\n",
       "    </tr>\n",
       "    <tr>\n",
       "      <th>Ozono</th>\n",
       "      <td>80</td>\n",
       "      <td>120</td>\n",
       "      <td>180</td>\n",
       "      <td>240</td>\n",
       "      <td>600</td>\n",
       "      <td>max 24h</td>\n",
       "    </tr>\n",
       "    <tr>\n",
       "      <th>PM10 (SM2005)</th>\n",
       "      <td>20</td>\n",
       "      <td>35</td>\n",
       "      <td>50</td>\n",
       "      <td>100</td>\n",
       "      <td>1200</td>\n",
       "      <td>mean 24h</td>\n",
       "    </tr>\n",
       "    <tr>\n",
       "      <th>Particelle sospese PM2.5</th>\n",
       "      <td>10</td>\n",
       "      <td>20</td>\n",
       "      <td>25</td>\n",
       "      <td>50</td>\n",
       "      <td>800</td>\n",
       "      <td>mean 24h</td>\n",
       "    </tr>\n",
       "  </tbody>\n",
       "</table>\n",
       "</div>"
      ],
      "text/plain": [
       "                         Molto Buona Buona Accettabile Scarsa Molto Scarsa  \\\n",
       "Biossido di Azoto                 40   100         200    400         1000   \n",
       "Biossido di Zolfo                100   200         350    500         1250   \n",
       "Ozono                             80   120         180    240          600   \n",
       "PM10 (SM2005)                     20    35          50    100         1200   \n",
       "Particelle sospese PM2.5          10    20          25     50          800   \n",
       "\n",
       "                              Tipo  \n",
       "Biossido di Azoto          max 24h  \n",
       "Biossido di Zolfo          max 24h  \n",
       "Ozono                      max 24h  \n",
       "PM10 (SM2005)             mean 24h  \n",
       "Particelle sospese PM2.5  mean 24h  "
      ]
     },
     "execution_count": 77,
     "metadata": {},
     "output_type": "execute_result"
    }
   ],
   "source": [
    "iqa_arpa = pd.DataFrame({'Biossido di Azoto': [40, 100, 200, 400, 1000, 'max 24h'],\n",
    "                            'Biossido di Zolfo': [100, 200, 350, 500, 1250, 'max 24h'],\n",
    "                            'Ozono': [80, 120, 180, 240, 600, 'max 24h'],\n",
    "                            'PM10 (SM2005)': [20, 35, 50, 100, 1200, 'mean 24h'],\n",
    "                            'Particelle sospese PM2.5': [10, 20, 25, 50, 800, 'mean 24h']}, #mettere 50 o 30?\n",
    "                           index = ['Molto Buona', 'Buona', 'Accettabile', 'Scarsa', 'Molto Scarsa', 'Tipo']).transpose()\n",
    "iqa_arpa"
   ]
  },
  {
   "cell_type": "code",
   "execution_count": 78,
   "id": "0d61e2d6",
   "metadata": {
    "ExecuteTime": {
     "end_time": "2022-01-18T15:35:42.144029Z",
     "start_time": "2022-01-18T15:35:21.252066Z"
    }
   },
   "outputs": [],
   "source": [
    "def indici(valore, tipo, iqa_arpa):\n",
    "    if valore <= iqa_arpa.loc[tipo]['Molto Buona']: return('Molto Buona', 4)\n",
    "    if (valore > iqa_arpa.loc[tipo]['Molto Buona']) & (valore <= iqa_arpa.loc[tipo]['Buona']): return('Buona', 3)\n",
    "    if (valore > iqa_arpa.loc[tipo]['Buona']) & (valore <= iqa_arpa.loc[tipo]['Accettabile']): return('Accettabile', 2)\n",
    "    if (valore > iqa_arpa.loc[tipo]['Accettabile']) & (valore <= iqa_arpa.loc[tipo]['Scarsa']): return('Scarsa', 1)\n",
    "    if valore > iqa_arpa.loc[tipo]['Scarsa']: return('Molto Scarsa', 0)\n",
    "    else: return('ND', np.NaN)\n",
    "    \n",
    "aria_milano[['Indice testuale', 'Indice numerico']] = [indici(aria_milano.loc[i]['Valore_interesse'], aria_milano.loc[i]['NomeTipoSensore'], iqa_arpa) for i in range(len(aria_milano))]"
   ]
  },
  {
   "cell_type": "code",
   "execution_count": 79,
   "id": "91ec256a",
   "metadata": {
    "ExecuteTime": {
     "end_time": "2022-01-18T12:15:47.883905Z",
     "start_time": "2022-01-18T12:15:47.883905Z"
    },
    "scrolled": false
   },
   "outputs": [
    {
     "data": {
      "text/html": [
       "<div>\n",
       "<style scoped>\n",
       "    .dataframe tbody tr th:only-of-type {\n",
       "        vertical-align: middle;\n",
       "    }\n",
       "\n",
       "    .dataframe tbody tr th {\n",
       "        vertical-align: top;\n",
       "    }\n",
       "\n",
       "    .dataframe thead th {\n",
       "        text-align: right;\n",
       "    }\n",
       "</style>\n",
       "<table border=\"1\" class=\"dataframe\">\n",
       "  <thead>\n",
       "    <tr style=\"text-align: right;\">\n",
       "      <th></th>\n",
       "      <th>Data</th>\n",
       "      <th>NomeTipoSensore</th>\n",
       "      <th>Valore_interesse</th>\n",
       "      <th>Valore_interesse_std</th>\n",
       "      <th>Count_sensori</th>\n",
       "      <th>Indice testuale</th>\n",
       "      <th>Indice numerico</th>\n",
       "    </tr>\n",
       "  </thead>\n",
       "  <tbody>\n",
       "    <tr>\n",
       "      <th>0</th>\n",
       "      <td>1996-01-01</td>\n",
       "      <td>Biossido di Azoto</td>\n",
       "      <td>107.41000</td>\n",
       "      <td>21.827664</td>\n",
       "      <td>30.0</td>\n",
       "      <td>Accettabile</td>\n",
       "      <td>2.0</td>\n",
       "    </tr>\n",
       "    <tr>\n",
       "      <th>1</th>\n",
       "      <td>1996-01-01</td>\n",
       "      <td>Biossido di Zolfo</td>\n",
       "      <td>35.47000</td>\n",
       "      <td>26.706231</td>\n",
       "      <td>30.0</td>\n",
       "      <td>Molto Buona</td>\n",
       "      <td>4.0</td>\n",
       "    </tr>\n",
       "    <tr>\n",
       "      <th>2</th>\n",
       "      <td>1996-01-01</td>\n",
       "      <td>Ozono</td>\n",
       "      <td>18.36875</td>\n",
       "      <td>8.789676</td>\n",
       "      <td>16.0</td>\n",
       "      <td>Molto Buona</td>\n",
       "      <td>4.0</td>\n",
       "    </tr>\n",
       "    <tr>\n",
       "      <th>3</th>\n",
       "      <td>1996-01-01</td>\n",
       "      <td>PM10 (SM2005)</td>\n",
       "      <td>NaN</td>\n",
       "      <td>NaN</td>\n",
       "      <td>NaN</td>\n",
       "      <td>ND</td>\n",
       "      <td>NaN</td>\n",
       "    </tr>\n",
       "    <tr>\n",
       "      <th>4</th>\n",
       "      <td>1996-01-01</td>\n",
       "      <td>Particelle sospese PM2.5</td>\n",
       "      <td>NaN</td>\n",
       "      <td>NaN</td>\n",
       "      <td>NaN</td>\n",
       "      <td>ND</td>\n",
       "      <td>NaN</td>\n",
       "    </tr>\n",
       "    <tr>\n",
       "      <th>...</th>\n",
       "      <td>...</td>\n",
       "      <td>...</td>\n",
       "      <td>...</td>\n",
       "      <td>...</td>\n",
       "      <td>...</td>\n",
       "      <td>...</td>\n",
       "      <td>...</td>\n",
       "    </tr>\n",
       "    <tr>\n",
       "      <th>47465</th>\n",
       "      <td>2021-12-28</td>\n",
       "      <td>Biossido di Azoto</td>\n",
       "      <td>NaN</td>\n",
       "      <td>NaN</td>\n",
       "      <td>NaN</td>\n",
       "      <td>ND</td>\n",
       "      <td>NaN</td>\n",
       "    </tr>\n",
       "    <tr>\n",
       "      <th>47466</th>\n",
       "      <td>2021-12-28</td>\n",
       "      <td>Biossido di Zolfo</td>\n",
       "      <td>NaN</td>\n",
       "      <td>NaN</td>\n",
       "      <td>NaN</td>\n",
       "      <td>ND</td>\n",
       "      <td>NaN</td>\n",
       "    </tr>\n",
       "    <tr>\n",
       "      <th>47467</th>\n",
       "      <td>2021-12-28</td>\n",
       "      <td>Ozono</td>\n",
       "      <td>NaN</td>\n",
       "      <td>NaN</td>\n",
       "      <td>NaN</td>\n",
       "      <td>ND</td>\n",
       "      <td>NaN</td>\n",
       "    </tr>\n",
       "    <tr>\n",
       "      <th>47468</th>\n",
       "      <td>2021-12-28</td>\n",
       "      <td>PM10 (SM2005)</td>\n",
       "      <td>NaN</td>\n",
       "      <td>NaN</td>\n",
       "      <td>NaN</td>\n",
       "      <td>ND</td>\n",
       "      <td>NaN</td>\n",
       "    </tr>\n",
       "    <tr>\n",
       "      <th>47469</th>\n",
       "      <td>2021-12-28</td>\n",
       "      <td>Particelle sospese PM2.5</td>\n",
       "      <td>NaN</td>\n",
       "      <td>NaN</td>\n",
       "      <td>NaN</td>\n",
       "      <td>ND</td>\n",
       "      <td>NaN</td>\n",
       "    </tr>\n",
       "  </tbody>\n",
       "</table>\n",
       "<p>47470 rows × 7 columns</p>\n",
       "</div>"
      ],
      "text/plain": [
       "            Data           NomeTipoSensore  Valore_interesse  \\\n",
       "0     1996-01-01         Biossido di Azoto         107.41000   \n",
       "1     1996-01-01         Biossido di Zolfo          35.47000   \n",
       "2     1996-01-01                     Ozono          18.36875   \n",
       "3     1996-01-01             PM10 (SM2005)               NaN   \n",
       "4     1996-01-01  Particelle sospese PM2.5               NaN   \n",
       "...          ...                       ...               ...   \n",
       "47465 2021-12-28         Biossido di Azoto               NaN   \n",
       "47466 2021-12-28         Biossido di Zolfo               NaN   \n",
       "47467 2021-12-28                     Ozono               NaN   \n",
       "47468 2021-12-28             PM10 (SM2005)               NaN   \n",
       "47469 2021-12-28  Particelle sospese PM2.5               NaN   \n",
       "\n",
       "       Valore_interesse_std  Count_sensori Indice testuale Indice numerico  \n",
       "0                 21.827664           30.0     Accettabile             2.0  \n",
       "1                 26.706231           30.0     Molto Buona             4.0  \n",
       "2                  8.789676           16.0     Molto Buona             4.0  \n",
       "3                       NaN            NaN              ND             NaN  \n",
       "4                       NaN            NaN              ND             NaN  \n",
       "...                     ...            ...             ...             ...  \n",
       "47465                   NaN            NaN              ND             NaN  \n",
       "47466                   NaN            NaN              ND             NaN  \n",
       "47467                   NaN            NaN              ND             NaN  \n",
       "47468                   NaN            NaN              ND             NaN  \n",
       "47469                   NaN            NaN              ND             NaN  \n",
       "\n",
       "[47470 rows x 7 columns]"
      ]
     },
     "execution_count": 79,
     "metadata": {},
     "output_type": "execute_result"
    }
   ],
   "source": [
    "aria_milano"
   ]
  },
  {
   "cell_type": "markdown",
   "id": "5fbacc14",
   "metadata": {},
   "source": [
    "## Esportazione"
   ]
  },
  {
   "cell_type": "code",
   "execution_count": 80,
   "id": "28f814c7",
   "metadata": {
    "ExecuteTime": {
     "end_time": "2022-01-18T15:37:45.684196Z",
     "start_time": "2022-01-18T15:37:45.145815Z"
    }
   },
   "outputs": [],
   "source": [
    "aria_milano.to_csv(f'{path}data_viz/aria_milano_96_21.csv')"
   ]
  },
  {
   "cell_type": "markdown",
   "id": "ecce7f13",
   "metadata": {},
   "source": [
    "# Sezione confronto biossido di azoto Genn-Aprile"
   ]
  },
  {
   "cell_type": "code",
   "execution_count": 106,
   "id": "d0257589",
   "metadata": {},
   "outputs": [
    {
     "name": "stderr",
     "output_type": "stream",
     "text": [
      "C:\\Users\\gianl\\AppData\\Local\\Temp/ipykernel_17740/1564412972.py:2: SettingWithCopyWarning: \n",
      "A value is trying to be set on a copy of a slice from a DataFrame.\n",
      "Try using .loc[row_indexer,col_indexer] = value instead\n",
      "\n",
      "See the caveats in the documentation: https://pandas.pydata.org/pandas-docs/stable/user_guide/indexing.html#returning-a-view-versus-a-copy\n",
      "  NA2_15_21['anno'] = NA2_15_21['Data'].dt.year\n",
      "C:\\Users\\gianl\\AppData\\Local\\Temp/ipykernel_17740/1564412972.py:3: SettingWithCopyWarning: \n",
      "A value is trying to be set on a copy of a slice from a DataFrame.\n",
      "Try using .loc[row_indexer,col_indexer] = value instead\n",
      "\n",
      "See the caveats in the documentation: https://pandas.pydata.org/pandas-docs/stable/user_guide/indexing.html#returning-a-view-versus-a-copy\n",
      "  NA2_15_21['month'] = NA2_15_21['Data'].dt.month\n"
     ]
    },
    {
     "data": {
      "text/html": [
       "<div>\n",
       "<style scoped>\n",
       "    .dataframe tbody tr th:only-of-type {\n",
       "        vertical-align: middle;\n",
       "    }\n",
       "\n",
       "    .dataframe tbody tr th {\n",
       "        vertical-align: top;\n",
       "    }\n",
       "\n",
       "    .dataframe thead th {\n",
       "        text-align: right;\n",
       "    }\n",
       "</style>\n",
       "<table border=\"1\" class=\"dataframe\">\n",
       "  <thead>\n",
       "    <tr style=\"text-align: right;\">\n",
       "      <th></th>\n",
       "      <th>Data</th>\n",
       "      <th>NomeTipoSensore</th>\n",
       "      <th>Valore_interesse</th>\n",
       "      <th>Valore_interesse_std</th>\n",
       "      <th>Count_sensori</th>\n",
       "      <th>Indice testuale</th>\n",
       "      <th>Indice numerico</th>\n",
       "      <th>anno</th>\n",
       "      <th>month</th>\n",
       "    </tr>\n",
       "  </thead>\n",
       "  <tbody>\n",
       "    <tr>\n",
       "      <th>34700</th>\n",
       "      <td>2015-01-01</td>\n",
       "      <td>Biossido di Azoto</td>\n",
       "      <td>81.884375</td>\n",
       "      <td>19.926131</td>\n",
       "      <td>32.0</td>\n",
       "      <td>Buona</td>\n",
       "      <td>3.0</td>\n",
       "      <td>2015</td>\n",
       "      <td>1</td>\n",
       "    </tr>\n",
       "    <tr>\n",
       "      <th>34705</th>\n",
       "      <td>2015-01-02</td>\n",
       "      <td>Biossido di Azoto</td>\n",
       "      <td>90.421875</td>\n",
       "      <td>21.796670</td>\n",
       "      <td>32.0</td>\n",
       "      <td>Buona</td>\n",
       "      <td>3.0</td>\n",
       "      <td>2015</td>\n",
       "      <td>1</td>\n",
       "    </tr>\n",
       "    <tr>\n",
       "      <th>34710</th>\n",
       "      <td>2015-01-03</td>\n",
       "      <td>Biossido di Azoto</td>\n",
       "      <td>114.587500</td>\n",
       "      <td>26.337067</td>\n",
       "      <td>32.0</td>\n",
       "      <td>Accettabile</td>\n",
       "      <td>2.0</td>\n",
       "      <td>2015</td>\n",
       "      <td>1</td>\n",
       "    </tr>\n",
       "    <tr>\n",
       "      <th>34715</th>\n",
       "      <td>2015-01-04</td>\n",
       "      <td>Biossido di Azoto</td>\n",
       "      <td>80.543750</td>\n",
       "      <td>19.370386</td>\n",
       "      <td>32.0</td>\n",
       "      <td>Buona</td>\n",
       "      <td>3.0</td>\n",
       "      <td>2015</td>\n",
       "      <td>1</td>\n",
       "    </tr>\n",
       "    <tr>\n",
       "      <th>34720</th>\n",
       "      <td>2015-01-05</td>\n",
       "      <td>Biossido di Azoto</td>\n",
       "      <td>123.890625</td>\n",
       "      <td>28.984806</td>\n",
       "      <td>32.0</td>\n",
       "      <td>Accettabile</td>\n",
       "      <td>2.0</td>\n",
       "      <td>2015</td>\n",
       "      <td>1</td>\n",
       "    </tr>\n",
       "    <tr>\n",
       "      <th>...</th>\n",
       "      <td>...</td>\n",
       "      <td>...</td>\n",
       "      <td>...</td>\n",
       "      <td>...</td>\n",
       "      <td>...</td>\n",
       "      <td>...</td>\n",
       "      <td>...</td>\n",
       "      <td>...</td>\n",
       "      <td>...</td>\n",
       "    </tr>\n",
       "    <tr>\n",
       "      <th>47445</th>\n",
       "      <td>2021-12-24</td>\n",
       "      <td>Biossido di Azoto</td>\n",
       "      <td>54.507692</td>\n",
       "      <td>9.533944</td>\n",
       "      <td>13.0</td>\n",
       "      <td>Buona</td>\n",
       "      <td>3.0</td>\n",
       "      <td>2021</td>\n",
       "      <td>12</td>\n",
       "    </tr>\n",
       "    <tr>\n",
       "      <th>47450</th>\n",
       "      <td>2021-12-25</td>\n",
       "      <td>Biossido di Azoto</td>\n",
       "      <td>52.946154</td>\n",
       "      <td>7.160857</td>\n",
       "      <td>13.0</td>\n",
       "      <td>Buona</td>\n",
       "      <td>3.0</td>\n",
       "      <td>2021</td>\n",
       "      <td>12</td>\n",
       "    </tr>\n",
       "    <tr>\n",
       "      <th>47455</th>\n",
       "      <td>2021-12-26</td>\n",
       "      <td>Biossido di Azoto</td>\n",
       "      <td>60.583333</td>\n",
       "      <td>8.974424</td>\n",
       "      <td>18.0</td>\n",
       "      <td>Buona</td>\n",
       "      <td>3.0</td>\n",
       "      <td>2021</td>\n",
       "      <td>12</td>\n",
       "    </tr>\n",
       "    <tr>\n",
       "      <th>47460</th>\n",
       "      <td>2021-12-27</td>\n",
       "      <td>Biossido di Azoto</td>\n",
       "      <td>62.105556</td>\n",
       "      <td>13.710964</td>\n",
       "      <td>18.0</td>\n",
       "      <td>Buona</td>\n",
       "      <td>3.0</td>\n",
       "      <td>2021</td>\n",
       "      <td>12</td>\n",
       "    </tr>\n",
       "    <tr>\n",
       "      <th>47465</th>\n",
       "      <td>2021-12-28</td>\n",
       "      <td>Biossido di Azoto</td>\n",
       "      <td>NaN</td>\n",
       "      <td>NaN</td>\n",
       "      <td>NaN</td>\n",
       "      <td>ND</td>\n",
       "      <td>NaN</td>\n",
       "      <td>2021</td>\n",
       "      <td>12</td>\n",
       "    </tr>\n",
       "  </tbody>\n",
       "</table>\n",
       "<p>2554 rows × 9 columns</p>\n",
       "</div>"
      ],
      "text/plain": [
       "            Data    NomeTipoSensore  Valore_interesse  Valore_interesse_std  \\\n",
       "34700 2015-01-01  Biossido di Azoto         81.884375             19.926131   \n",
       "34705 2015-01-02  Biossido di Azoto         90.421875             21.796670   \n",
       "34710 2015-01-03  Biossido di Azoto        114.587500             26.337067   \n",
       "34715 2015-01-04  Biossido di Azoto         80.543750             19.370386   \n",
       "34720 2015-01-05  Biossido di Azoto        123.890625             28.984806   \n",
       "...          ...                ...               ...                   ...   \n",
       "47445 2021-12-24  Biossido di Azoto         54.507692              9.533944   \n",
       "47450 2021-12-25  Biossido di Azoto         52.946154              7.160857   \n",
       "47455 2021-12-26  Biossido di Azoto         60.583333              8.974424   \n",
       "47460 2021-12-27  Biossido di Azoto         62.105556             13.710964   \n",
       "47465 2021-12-28  Biossido di Azoto               NaN                   NaN   \n",
       "\n",
       "       Count_sensori Indice testuale Indice numerico  anno  month  \n",
       "34700           32.0           Buona             3.0  2015      1  \n",
       "34705           32.0           Buona             3.0  2015      1  \n",
       "34710           32.0     Accettabile             2.0  2015      1  \n",
       "34715           32.0           Buona             3.0  2015      1  \n",
       "34720           32.0     Accettabile             2.0  2015      1  \n",
       "...              ...             ...             ...   ...    ...  \n",
       "47445           13.0           Buona             3.0  2021     12  \n",
       "47450           13.0           Buona             3.0  2021     12  \n",
       "47455           18.0           Buona             3.0  2021     12  \n",
       "47460           18.0           Buona             3.0  2021     12  \n",
       "47465            NaN              ND             NaN  2021     12  \n",
       "\n",
       "[2554 rows x 9 columns]"
      ]
     },
     "execution_count": 106,
     "metadata": {},
     "output_type": "execute_result"
    }
   ],
   "source": [
    "NA2_15_21 = aria_milano[(aria_milano['NomeTipoSensore'] == 'Biossido di Azoto') & (aria_milano['Data'] >= '2015-01-01')]\n",
    "NA2_15_21['anno'] = NA2_15_21['Data'].dt.year\n",
    "NA2_15_21['month'] = NA2_15_21['Data'].dt.month\n",
    "\n",
    "NA2_15_21_month = NA2_15_21.groupby([NA2_15_21['anno'], NA2_15_21['month']]).agg({'Valore_interesse' : ['mean', 'std']}).reset_index()\n",
    "NA2_15_21"
   ]
  },
  {
   "cell_type": "code",
   "execution_count": 95,
   "id": "df9c1be1",
   "metadata": {
    "scrolled": false
   },
   "outputs": [],
   "source": [
    "NA2_15_21_gen_apr = NA2_15_21_month[NA2_15_21_month['month'].isin([1,4])]\n",
    "NA2_15_21_gen_apr.columns = ['Anno', 'Mese', 'Valore_mean', 'Valore_std']"
   ]
  },
  {
   "cell_type": "code",
   "execution_count": 104,
   "id": "860b08ca",
   "metadata": {},
   "outputs": [
    {
     "name": "stderr",
     "output_type": "stream",
     "text": [
      "C:\\Users\\gianl\\AppData\\Local\\Temp/ipykernel_17740/264545509.py:2: SettingWithCopyWarning: \n",
      "A value is trying to be set on a copy of a slice from a DataFrame.\n",
      "Try using .loc[row_indexer,col_indexer] = value instead\n",
      "\n",
      "See the caveats in the documentation: https://pandas.pydata.org/pandas-docs/stable/user_guide/indexing.html#returning-a-view-versus-a-copy\n",
      "  NA2_15_21_gen_apr_unito['Data'] = ['2020-01-01', '2020-04-01', '2020-01-01', '2020-04-01', '2020-01-01', '2020-04-01', '2020-01-01', '2020-04-01', '2020-01-01', '2020-04-01', '2020-01-01', '2020-04-01', '2020-01-01', '2020-04-01']\n"
     ]
    },
    {
     "data": {
      "text/html": [
       "<div>\n",
       "<style scoped>\n",
       "    .dataframe tbody tr th:only-of-type {\n",
       "        vertical-align: middle;\n",
       "    }\n",
       "\n",
       "    .dataframe tbody tr th {\n",
       "        vertical-align: top;\n",
       "    }\n",
       "\n",
       "    .dataframe thead th {\n",
       "        text-align: right;\n",
       "    }\n",
       "</style>\n",
       "<table border=\"1\" class=\"dataframe\">\n",
       "  <thead>\n",
       "    <tr style=\"text-align: right;\">\n",
       "      <th></th>\n",
       "      <th>Anno</th>\n",
       "      <th>Mese</th>\n",
       "      <th>Valore_mean</th>\n",
       "      <th>Valore_std</th>\n",
       "      <th>Data</th>\n",
       "    </tr>\n",
       "  </thead>\n",
       "  <tbody>\n",
       "    <tr>\n",
       "      <th>0</th>\n",
       "      <td>2015</td>\n",
       "      <td>1</td>\n",
       "      <td>102.497014</td>\n",
       "      <td>22.290326</td>\n",
       "      <td>2020-01-01</td>\n",
       "    </tr>\n",
       "    <tr>\n",
       "      <th>3</th>\n",
       "      <td>2015</td>\n",
       "      <td>4</td>\n",
       "      <td>79.902978</td>\n",
       "      <td>25.467549</td>\n",
       "      <td>2020-04-01</td>\n",
       "    </tr>\n",
       "    <tr>\n",
       "      <th>12</th>\n",
       "      <td>2016</td>\n",
       "      <td>1</td>\n",
       "      <td>98.499599</td>\n",
       "      <td>31.793736</td>\n",
       "      <td>2020-01-01</td>\n",
       "    </tr>\n",
       "    <tr>\n",
       "      <th>15</th>\n",
       "      <td>2016</td>\n",
       "      <td>4</td>\n",
       "      <td>67.802704</td>\n",
       "      <td>12.677398</td>\n",
       "      <td>2020-04-01</td>\n",
       "    </tr>\n",
       "    <tr>\n",
       "      <th>24</th>\n",
       "      <td>2017</td>\n",
       "      <td>1</td>\n",
       "      <td>106.767257</td>\n",
       "      <td>25.478398</td>\n",
       "      <td>2020-01-01</td>\n",
       "    </tr>\n",
       "    <tr>\n",
       "      <th>27</th>\n",
       "      <td>2017</td>\n",
       "      <td>4</td>\n",
       "      <td>72.524481</td>\n",
       "      <td>18.642573</td>\n",
       "      <td>2020-04-01</td>\n",
       "    </tr>\n",
       "    <tr>\n",
       "      <th>36</th>\n",
       "      <td>2018</td>\n",
       "      <td>1</td>\n",
       "      <td>81.951811</td>\n",
       "      <td>15.974132</td>\n",
       "      <td>2020-01-01</td>\n",
       "    </tr>\n",
       "    <tr>\n",
       "      <th>39</th>\n",
       "      <td>2018</td>\n",
       "      <td>4</td>\n",
       "      <td>71.708673</td>\n",
       "      <td>16.255815</td>\n",
       "      <td>2020-04-01</td>\n",
       "    </tr>\n",
       "    <tr>\n",
       "      <th>48</th>\n",
       "      <td>2019</td>\n",
       "      <td>1</td>\n",
       "      <td>89.595244</td>\n",
       "      <td>18.127665</td>\n",
       "      <td>2020-01-01</td>\n",
       "    </tr>\n",
       "    <tr>\n",
       "      <th>51</th>\n",
       "      <td>2019</td>\n",
       "      <td>4</td>\n",
       "      <td>64.437304</td>\n",
       "      <td>20.757663</td>\n",
       "      <td>2020-04-01</td>\n",
       "    </tr>\n",
       "    <tr>\n",
       "      <th>60</th>\n",
       "      <td>2020</td>\n",
       "      <td>1</td>\n",
       "      <td>96.244357</td>\n",
       "      <td>13.780657</td>\n",
       "      <td>2020-01-01</td>\n",
       "    </tr>\n",
       "    <tr>\n",
       "      <th>63</th>\n",
       "      <td>2020</td>\n",
       "      <td>4</td>\n",
       "      <td>43.877337</td>\n",
       "      <td>16.821264</td>\n",
       "      <td>2020-04-01</td>\n",
       "    </tr>\n",
       "    <tr>\n",
       "      <th>72</th>\n",
       "      <td>2021</td>\n",
       "      <td>1</td>\n",
       "      <td>73.777608</td>\n",
       "      <td>13.888062</td>\n",
       "      <td>2020-01-01</td>\n",
       "    </tr>\n",
       "    <tr>\n",
       "      <th>75</th>\n",
       "      <td>2021</td>\n",
       "      <td>4</td>\n",
       "      <td>57.135911</td>\n",
       "      <td>15.509004</td>\n",
       "      <td>2020-04-01</td>\n",
       "    </tr>\n",
       "  </tbody>\n",
       "</table>\n",
       "</div>"
      ],
      "text/plain": [
       "    Anno  Mese  Valore_mean  Valore_std        Data\n",
       "0   2015     1   102.497014   22.290326  2020-01-01\n",
       "3   2015     4    79.902978   25.467549  2020-04-01\n",
       "12  2016     1    98.499599   31.793736  2020-01-01\n",
       "15  2016     4    67.802704   12.677398  2020-04-01\n",
       "24  2017     1   106.767257   25.478398  2020-01-01\n",
       "27  2017     4    72.524481   18.642573  2020-04-01\n",
       "36  2018     1    81.951811   15.974132  2020-01-01\n",
       "39  2018     4    71.708673   16.255815  2020-04-01\n",
       "48  2019     1    89.595244   18.127665  2020-01-01\n",
       "51  2019     4    64.437304   20.757663  2020-04-01\n",
       "60  2020     1    96.244357   13.780657  2020-01-01\n",
       "63  2020     4    43.877337   16.821264  2020-04-01\n",
       "72  2021     1    73.777608   13.888062  2020-01-01\n",
       "75  2021     4    57.135911   15.509004  2020-04-01"
      ]
     },
     "execution_count": 104,
     "metadata": {},
     "output_type": "execute_result"
    }
   ],
   "source": [
    "NA2_15_21_gen_apr_unito = NA2_15_21_gen_apr\n",
    "NA2_15_21_gen_apr_unito['Data'] = ['2020-01-01', '2020-04-01', '2020-01-01', '2020-04-01', '2020-01-01', '2020-04-01', '2020-01-01', '2020-04-01', '2020-01-01', '2020-04-01', '2020-01-01', '2020-04-01', '2020-01-01', '2020-04-01']\n",
    "NA2_15_21_gen_apr_unito"
   ]
  },
  {
   "cell_type": "code",
   "execution_count": 105,
   "id": "ee16daaa",
   "metadata": {},
   "outputs": [],
   "source": [
    "NA2_15_21_gen_apr_unito.to_csv(f'{path}data_viz/NA2_gen_apr_unito.csv')"
   ]
  },
  {
   "cell_type": "code",
   "execution_count": 85,
   "id": "03273b86",
   "metadata": {},
   "outputs": [],
   "source": [
    "NA2_15_21_gen_apr['month'] = NA2_15_21_gen_apr['month'].replace(1, 'Gennaio')\n",
    "NA2_15_21_gen_apr['month'] = NA2_15_21_gen_apr['month'].replace(4, 'Aprile')\n",
    "\n",
    "NA2_15_21_gen = NA2_15_21_gen_apr[NA2_15_21_gen_apr['Mese'] == 'Gennaio']\n",
    "NA2_15_21_apr = NA2_15_21_gen_apr[NA2_15_21_gen_apr['Mese'] == 'Aprile']\n",
    "NA2_15_21_gen_apr = pd.merge(NA2_15_21_gen, NA2_15_21_apr, on='Anno')"
   ]
  },
  {
   "cell_type": "code",
   "execution_count": 86,
   "id": "3a9c6f65",
   "metadata": {},
   "outputs": [
    {
     "data": {
      "text/html": [
       "<div>\n",
       "<style scoped>\n",
       "    .dataframe tbody tr th:only-of-type {\n",
       "        vertical-align: middle;\n",
       "    }\n",
       "\n",
       "    .dataframe tbody tr th {\n",
       "        vertical-align: top;\n",
       "    }\n",
       "\n",
       "    .dataframe thead th {\n",
       "        text-align: right;\n",
       "    }\n",
       "</style>\n",
       "<table border=\"1\" class=\"dataframe\">\n",
       "  <thead>\n",
       "    <tr style=\"text-align: right;\">\n",
       "      <th></th>\n",
       "      <th>Anno</th>\n",
       "      <th>Gennaio_mean</th>\n",
       "      <th>Gennaio_std</th>\n",
       "      <th>Aprile_mean</th>\n",
       "      <th>Aprile_std</th>\n",
       "    </tr>\n",
       "  </thead>\n",
       "  <tbody>\n",
       "    <tr>\n",
       "      <th>0</th>\n",
       "      <td>2015</td>\n",
       "      <td>102.497014</td>\n",
       "      <td>22.290326</td>\n",
       "      <td>79.902978</td>\n",
       "      <td>25.467549</td>\n",
       "    </tr>\n",
       "    <tr>\n",
       "      <th>1</th>\n",
       "      <td>2016</td>\n",
       "      <td>98.499599</td>\n",
       "      <td>31.793736</td>\n",
       "      <td>67.802704</td>\n",
       "      <td>12.677398</td>\n",
       "    </tr>\n",
       "    <tr>\n",
       "      <th>2</th>\n",
       "      <td>2017</td>\n",
       "      <td>106.767257</td>\n",
       "      <td>25.478398</td>\n",
       "      <td>72.524481</td>\n",
       "      <td>18.642573</td>\n",
       "    </tr>\n",
       "    <tr>\n",
       "      <th>3</th>\n",
       "      <td>2018</td>\n",
       "      <td>81.951811</td>\n",
       "      <td>15.974132</td>\n",
       "      <td>71.708673</td>\n",
       "      <td>16.255815</td>\n",
       "    </tr>\n",
       "    <tr>\n",
       "      <th>4</th>\n",
       "      <td>2019</td>\n",
       "      <td>89.595244</td>\n",
       "      <td>18.127665</td>\n",
       "      <td>64.437304</td>\n",
       "      <td>20.757663</td>\n",
       "    </tr>\n",
       "    <tr>\n",
       "      <th>5</th>\n",
       "      <td>2020</td>\n",
       "      <td>96.244357</td>\n",
       "      <td>13.780657</td>\n",
       "      <td>43.877337</td>\n",
       "      <td>16.821264</td>\n",
       "    </tr>\n",
       "    <tr>\n",
       "      <th>6</th>\n",
       "      <td>2021</td>\n",
       "      <td>73.777608</td>\n",
       "      <td>13.888062</td>\n",
       "      <td>57.135911</td>\n",
       "      <td>15.509004</td>\n",
       "    </tr>\n",
       "  </tbody>\n",
       "</table>\n",
       "</div>"
      ],
      "text/plain": [
       "   Anno  Gennaio_mean  Gennaio_std  Aprile_mean  Aprile_std\n",
       "0  2015    102.497014    22.290326    79.902978   25.467549\n",
       "1  2016     98.499599    31.793736    67.802704   12.677398\n",
       "2  2017    106.767257    25.478398    72.524481   18.642573\n",
       "3  2018     81.951811    15.974132    71.708673   16.255815\n",
       "4  2019     89.595244    18.127665    64.437304   20.757663\n",
       "5  2020     96.244357    13.780657    43.877337   16.821264\n",
       "6  2021     73.777608    13.888062    57.135911   15.509004"
      ]
     },
     "execution_count": 86,
     "metadata": {},
     "output_type": "execute_result"
    }
   ],
   "source": [
    "NA2_15_21_gen_apr.drop(['Mese_x', 'Mese_y'], axis=1, inplace = True)\n",
    "NA2_15_21_gen_apr.columns = ['Anno', 'Gennaio_mean', 'Gennaio_std', 'Aprile_mean', 'Aprile_std']\n",
    "NA2_15_21_gen_apr"
   ]
  },
  {
   "cell_type": "code",
   "execution_count": 87,
   "id": "2c1fceb0",
   "metadata": {},
   "outputs": [],
   "source": [
    "NA2_15_21_gen_apr.to_csv(f'{path}data_viz/NA2_gen_apr.csv')"
   ]
  },
  {
   "cell_type": "markdown",
   "id": "660e5f1d",
   "metadata": {},
   "source": [
    "# Dataset normalizzato "
   ]
  },
  {
   "cell_type": "code",
   "execution_count": 84,
   "id": "d524379d",
   "metadata": {
    "ExecuteTime": {
     "end_time": "2022-01-24T16:07:40.145424Z",
     "start_time": "2022-01-24T16:07:40.099094Z"
    }
   },
   "outputs": [],
   "source": [
    "aria_milano = pd.read_csv(f'{path}data_viz/aria_milano_96_21.csv',\n",
    "                      parse_dates=['Data'],\\\n",
    "                      dayfirst=True,\\\n",
    "                     )"
   ]
  },
  {
   "cell_type": "code",
   "execution_count": 85,
   "id": "8dcd910a",
   "metadata": {
    "ExecuteTime": {
     "end_time": "2022-01-24T16:07:40.161004Z",
     "start_time": "2022-01-24T16:07:40.146935Z"
    }
   },
   "outputs": [
    {
     "data": {
      "text/html": [
       "<div>\n",
       "<style scoped>\n",
       "    .dataframe tbody tr th:only-of-type {\n",
       "        vertical-align: middle;\n",
       "    }\n",
       "\n",
       "    .dataframe tbody tr th {\n",
       "        vertical-align: top;\n",
       "    }\n",
       "\n",
       "    .dataframe thead th {\n",
       "        text-align: right;\n",
       "    }\n",
       "</style>\n",
       "<table border=\"1\" class=\"dataframe\">\n",
       "  <thead>\n",
       "    <tr style=\"text-align: right;\">\n",
       "      <th></th>\n",
       "      <th>Unnamed: 0</th>\n",
       "      <th>Data</th>\n",
       "      <th>NomeTipoSensore</th>\n",
       "      <th>Valore_interesse</th>\n",
       "      <th>Valore_interesse_std</th>\n",
       "      <th>Count_sensori</th>\n",
       "      <th>Indice testuale</th>\n",
       "      <th>Indice numerico</th>\n",
       "    </tr>\n",
       "  </thead>\n",
       "  <tbody>\n",
       "    <tr>\n",
       "      <th>0</th>\n",
       "      <td>0</td>\n",
       "      <td>1996-01-01</td>\n",
       "      <td>Biossido di Azoto</td>\n",
       "      <td>107.41000</td>\n",
       "      <td>21.827664</td>\n",
       "      <td>30.0</td>\n",
       "      <td>Accettabile</td>\n",
       "      <td>2.0</td>\n",
       "    </tr>\n",
       "    <tr>\n",
       "      <th>1</th>\n",
       "      <td>1</td>\n",
       "      <td>1996-01-01</td>\n",
       "      <td>Biossido di Zolfo</td>\n",
       "      <td>35.47000</td>\n",
       "      <td>26.706231</td>\n",
       "      <td>30.0</td>\n",
       "      <td>Molto Buona</td>\n",
       "      <td>4.0</td>\n",
       "    </tr>\n",
       "    <tr>\n",
       "      <th>2</th>\n",
       "      <td>2</td>\n",
       "      <td>1996-01-01</td>\n",
       "      <td>Ozono</td>\n",
       "      <td>18.36875</td>\n",
       "      <td>8.789676</td>\n",
       "      <td>16.0</td>\n",
       "      <td>Molto Buona</td>\n",
       "      <td>4.0</td>\n",
       "    </tr>\n",
       "    <tr>\n",
       "      <th>3</th>\n",
       "      <td>3</td>\n",
       "      <td>1996-01-01</td>\n",
       "      <td>PM10 (SM2005)</td>\n",
       "      <td>NaN</td>\n",
       "      <td>NaN</td>\n",
       "      <td>NaN</td>\n",
       "      <td>ND</td>\n",
       "      <td>NaN</td>\n",
       "    </tr>\n",
       "    <tr>\n",
       "      <th>4</th>\n",
       "      <td>4</td>\n",
       "      <td>1996-01-01</td>\n",
       "      <td>Particelle sospese PM2.5</td>\n",
       "      <td>NaN</td>\n",
       "      <td>NaN</td>\n",
       "      <td>NaN</td>\n",
       "      <td>ND</td>\n",
       "      <td>NaN</td>\n",
       "    </tr>\n",
       "    <tr>\n",
       "      <th>...</th>\n",
       "      <td>...</td>\n",
       "      <td>...</td>\n",
       "      <td>...</td>\n",
       "      <td>...</td>\n",
       "      <td>...</td>\n",
       "      <td>...</td>\n",
       "      <td>...</td>\n",
       "      <td>...</td>\n",
       "    </tr>\n",
       "    <tr>\n",
       "      <th>47465</th>\n",
       "      <td>47465</td>\n",
       "      <td>2021-12-28</td>\n",
       "      <td>Biossido di Azoto</td>\n",
       "      <td>NaN</td>\n",
       "      <td>NaN</td>\n",
       "      <td>NaN</td>\n",
       "      <td>ND</td>\n",
       "      <td>NaN</td>\n",
       "    </tr>\n",
       "    <tr>\n",
       "      <th>47466</th>\n",
       "      <td>47466</td>\n",
       "      <td>2021-12-28</td>\n",
       "      <td>Biossido di Zolfo</td>\n",
       "      <td>NaN</td>\n",
       "      <td>NaN</td>\n",
       "      <td>NaN</td>\n",
       "      <td>ND</td>\n",
       "      <td>NaN</td>\n",
       "    </tr>\n",
       "    <tr>\n",
       "      <th>47467</th>\n",
       "      <td>47467</td>\n",
       "      <td>2021-12-28</td>\n",
       "      <td>Ozono</td>\n",
       "      <td>NaN</td>\n",
       "      <td>NaN</td>\n",
       "      <td>NaN</td>\n",
       "      <td>ND</td>\n",
       "      <td>NaN</td>\n",
       "    </tr>\n",
       "    <tr>\n",
       "      <th>47468</th>\n",
       "      <td>47468</td>\n",
       "      <td>2021-12-28</td>\n",
       "      <td>PM10 (SM2005)</td>\n",
       "      <td>NaN</td>\n",
       "      <td>NaN</td>\n",
       "      <td>NaN</td>\n",
       "      <td>ND</td>\n",
       "      <td>NaN</td>\n",
       "    </tr>\n",
       "    <tr>\n",
       "      <th>47469</th>\n",
       "      <td>47469</td>\n",
       "      <td>2021-12-28</td>\n",
       "      <td>Particelle sospese PM2.5</td>\n",
       "      <td>NaN</td>\n",
       "      <td>NaN</td>\n",
       "      <td>NaN</td>\n",
       "      <td>ND</td>\n",
       "      <td>NaN</td>\n",
       "    </tr>\n",
       "  </tbody>\n",
       "</table>\n",
       "<p>47470 rows × 8 columns</p>\n",
       "</div>"
      ],
      "text/plain": [
       "       Unnamed: 0       Data           NomeTipoSensore  Valore_interesse  \\\n",
       "0               0 1996-01-01         Biossido di Azoto         107.41000   \n",
       "1               1 1996-01-01         Biossido di Zolfo          35.47000   \n",
       "2               2 1996-01-01                     Ozono          18.36875   \n",
       "3               3 1996-01-01             PM10 (SM2005)               NaN   \n",
       "4               4 1996-01-01  Particelle sospese PM2.5               NaN   \n",
       "...           ...        ...                       ...               ...   \n",
       "47465       47465 2021-12-28         Biossido di Azoto               NaN   \n",
       "47466       47466 2021-12-28         Biossido di Zolfo               NaN   \n",
       "47467       47467 2021-12-28                     Ozono               NaN   \n",
       "47468       47468 2021-12-28             PM10 (SM2005)               NaN   \n",
       "47469       47469 2021-12-28  Particelle sospese PM2.5               NaN   \n",
       "\n",
       "       Valore_interesse_std  Count_sensori Indice testuale  Indice numerico  \n",
       "0                 21.827664           30.0     Accettabile              2.0  \n",
       "1                 26.706231           30.0     Molto Buona              4.0  \n",
       "2                  8.789676           16.0     Molto Buona              4.0  \n",
       "3                       NaN            NaN              ND              NaN  \n",
       "4                       NaN            NaN              ND              NaN  \n",
       "...                     ...            ...             ...              ...  \n",
       "47465                   NaN            NaN              ND              NaN  \n",
       "47466                   NaN            NaN              ND              NaN  \n",
       "47467                   NaN            NaN              ND              NaN  \n",
       "47468                   NaN            NaN              ND              NaN  \n",
       "47469                   NaN            NaN              ND              NaN  \n",
       "\n",
       "[47470 rows x 8 columns]"
      ]
     },
     "execution_count": 85,
     "metadata": {},
     "output_type": "execute_result"
    }
   ],
   "source": [
    "aria_milano"
   ]
  },
  {
   "cell_type": "markdown",
   "id": "31a52f0a",
   "metadata": {},
   "source": [
    "## Aggiustamento *datatypes* e arrotondamenti"
   ]
  },
  {
   "cell_type": "markdown",
   "id": "2bfa6544",
   "metadata": {},
   "source": [
    "Arrotondamento a una cifra decimali"
   ]
  },
  {
   "cell_type": "code",
   "execution_count": 7,
   "id": "d04fbc1a",
   "metadata": {
    "ExecuteTime": {
     "end_time": "2022-01-24T16:07:40.176206Z",
     "start_time": "2022-01-24T16:07:40.162060Z"
    }
   },
   "outputs": [],
   "source": [
    "aria_milano = aria_milano.round({'Valore_interesse':1, 'Valore_interesse_std':1})"
   ]
  },
  {
   "cell_type": "markdown",
   "id": "385ecfde",
   "metadata": {},
   "source": [
    "Cambio dtypes"
   ]
  },
  {
   "cell_type": "code",
   "execution_count": 8,
   "id": "4a33c787",
   "metadata": {
    "ExecuteTime": {
     "end_time": "2022-01-24T16:07:40.191255Z",
     "start_time": "2022-01-24T16:07:40.177255Z"
    }
   },
   "outputs": [],
   "source": [
    "for col in ['Indice numerico', 'Count_sensori']:\n",
    "    aria_milano[col] = aria_milano[col].astype('Int64')"
   ]
  },
  {
   "cell_type": "markdown",
   "id": "cf8262b7",
   "metadata": {},
   "source": [
    "## Pivoting"
   ]
  },
  {
   "cell_type": "code",
   "execution_count": 9,
   "id": "f63d2990",
   "metadata": {
    "ExecuteTime": {
     "end_time": "2022-01-24T16:07:40.252277Z",
     "start_time": "2022-01-24T16:07:40.192255Z"
    }
   },
   "outputs": [
    {
     "data": {
      "text/html": [
       "<div>\n",
       "<style scoped>\n",
       "    .dataframe tbody tr th:only-of-type {\n",
       "        vertical-align: middle;\n",
       "    }\n",
       "\n",
       "    .dataframe tbody tr th {\n",
       "        vertical-align: top;\n",
       "    }\n",
       "\n",
       "    .dataframe thead th {\n",
       "        text-align: right;\n",
       "    }\n",
       "</style>\n",
       "<table border=\"1\" class=\"dataframe\">\n",
       "  <thead>\n",
       "    <tr style=\"text-align: right;\">\n",
       "      <th></th>\n",
       "      <th>Data</th>\n",
       "      <th>Biossido di Azoto_Count_sensori</th>\n",
       "      <th>Biossido di Azoto_Indice numerico</th>\n",
       "      <th>Biossido di Azoto_Indice testuale</th>\n",
       "      <th>Biossido di Azoto_Valore_interesse</th>\n",
       "      <th>Biossido di Azoto_Valore_interesse_std</th>\n",
       "      <th>Biossido di Zolfo_Count_sensori</th>\n",
       "      <th>Biossido di Zolfo_Indice numerico</th>\n",
       "      <th>Biossido di Zolfo_Indice testuale</th>\n",
       "      <th>Biossido di Zolfo_Valore_interesse</th>\n",
       "      <th>...</th>\n",
       "      <th>PM10 (SM2005)_Count_sensori</th>\n",
       "      <th>PM10 (SM2005)_Indice numerico</th>\n",
       "      <th>PM10 (SM2005)_Indice testuale</th>\n",
       "      <th>PM10 (SM2005)_Valore_interesse</th>\n",
       "      <th>PM10 (SM2005)_Valore_interesse_std</th>\n",
       "      <th>Particelle sospese PM2.5_Count_sensori</th>\n",
       "      <th>Particelle sospese PM2.5_Indice numerico</th>\n",
       "      <th>Particelle sospese PM2.5_Indice testuale</th>\n",
       "      <th>Particelle sospese PM2.5_Valore_interesse</th>\n",
       "      <th>Particelle sospese PM2.5_Valore_interesse_std</th>\n",
       "    </tr>\n",
       "  </thead>\n",
       "  <tbody>\n",
       "    <tr>\n",
       "      <th>0</th>\n",
       "      <td>1996-01-01</td>\n",
       "      <td>30</td>\n",
       "      <td>2</td>\n",
       "      <td>Accettabile</td>\n",
       "      <td>107.4</td>\n",
       "      <td>21.8</td>\n",
       "      <td>30</td>\n",
       "      <td>4</td>\n",
       "      <td>Molto Buona</td>\n",
       "      <td>35.5</td>\n",
       "      <td>...</td>\n",
       "      <td>&lt;NA&gt;</td>\n",
       "      <td>&lt;NA&gt;</td>\n",
       "      <td>ND</td>\n",
       "      <td>NaN</td>\n",
       "      <td>NaN</td>\n",
       "      <td>&lt;NA&gt;</td>\n",
       "      <td>&lt;NA&gt;</td>\n",
       "      <td>ND</td>\n",
       "      <td>NaN</td>\n",
       "      <td>NaN</td>\n",
       "    </tr>\n",
       "    <tr>\n",
       "      <th>1</th>\n",
       "      <td>1996-01-02</td>\n",
       "      <td>32</td>\n",
       "      <td>2</td>\n",
       "      <td>Accettabile</td>\n",
       "      <td>127.1</td>\n",
       "      <td>28.5</td>\n",
       "      <td>30</td>\n",
       "      <td>4</td>\n",
       "      <td>Molto Buona</td>\n",
       "      <td>43.2</td>\n",
       "      <td>...</td>\n",
       "      <td>&lt;NA&gt;</td>\n",
       "      <td>&lt;NA&gt;</td>\n",
       "      <td>ND</td>\n",
       "      <td>NaN</td>\n",
       "      <td>NaN</td>\n",
       "      <td>&lt;NA&gt;</td>\n",
       "      <td>&lt;NA&gt;</td>\n",
       "      <td>ND</td>\n",
       "      <td>NaN</td>\n",
       "      <td>NaN</td>\n",
       "    </tr>\n",
       "    <tr>\n",
       "      <th>2</th>\n",
       "      <td>1996-01-03</td>\n",
       "      <td>32</td>\n",
       "      <td>2</td>\n",
       "      <td>Accettabile</td>\n",
       "      <td>152.3</td>\n",
       "      <td>27.9</td>\n",
       "      <td>30</td>\n",
       "      <td>4</td>\n",
       "      <td>Molto Buona</td>\n",
       "      <td>51.1</td>\n",
       "      <td>...</td>\n",
       "      <td>&lt;NA&gt;</td>\n",
       "      <td>&lt;NA&gt;</td>\n",
       "      <td>ND</td>\n",
       "      <td>NaN</td>\n",
       "      <td>NaN</td>\n",
       "      <td>&lt;NA&gt;</td>\n",
       "      <td>&lt;NA&gt;</td>\n",
       "      <td>ND</td>\n",
       "      <td>NaN</td>\n",
       "      <td>NaN</td>\n",
       "    </tr>\n",
       "    <tr>\n",
       "      <th>3</th>\n",
       "      <td>1996-01-04</td>\n",
       "      <td>33</td>\n",
       "      <td>2</td>\n",
       "      <td>Accettabile</td>\n",
       "      <td>120.7</td>\n",
       "      <td>22.1</td>\n",
       "      <td>30</td>\n",
       "      <td>4</td>\n",
       "      <td>Molto Buona</td>\n",
       "      <td>41.5</td>\n",
       "      <td>...</td>\n",
       "      <td>&lt;NA&gt;</td>\n",
       "      <td>&lt;NA&gt;</td>\n",
       "      <td>ND</td>\n",
       "      <td>NaN</td>\n",
       "      <td>NaN</td>\n",
       "      <td>&lt;NA&gt;</td>\n",
       "      <td>&lt;NA&gt;</td>\n",
       "      <td>ND</td>\n",
       "      <td>NaN</td>\n",
       "      <td>NaN</td>\n",
       "    </tr>\n",
       "    <tr>\n",
       "      <th>4</th>\n",
       "      <td>1996-01-05</td>\n",
       "      <td>32</td>\n",
       "      <td>3</td>\n",
       "      <td>Buona</td>\n",
       "      <td>79.2</td>\n",
       "      <td>12.5</td>\n",
       "      <td>30</td>\n",
       "      <td>4</td>\n",
       "      <td>Molto Buona</td>\n",
       "      <td>39.2</td>\n",
       "      <td>...</td>\n",
       "      <td>&lt;NA&gt;</td>\n",
       "      <td>&lt;NA&gt;</td>\n",
       "      <td>ND</td>\n",
       "      <td>NaN</td>\n",
       "      <td>NaN</td>\n",
       "      <td>&lt;NA&gt;</td>\n",
       "      <td>&lt;NA&gt;</td>\n",
       "      <td>ND</td>\n",
       "      <td>NaN</td>\n",
       "      <td>NaN</td>\n",
       "    </tr>\n",
       "    <tr>\n",
       "      <th>...</th>\n",
       "      <td>...</td>\n",
       "      <td>...</td>\n",
       "      <td>...</td>\n",
       "      <td>...</td>\n",
       "      <td>...</td>\n",
       "      <td>...</td>\n",
       "      <td>...</td>\n",
       "      <td>...</td>\n",
       "      <td>...</td>\n",
       "      <td>...</td>\n",
       "      <td>...</td>\n",
       "      <td>...</td>\n",
       "      <td>...</td>\n",
       "      <td>...</td>\n",
       "      <td>...</td>\n",
       "      <td>...</td>\n",
       "      <td>...</td>\n",
       "      <td>...</td>\n",
       "      <td>...</td>\n",
       "      <td>...</td>\n",
       "      <td>...</td>\n",
       "    </tr>\n",
       "    <tr>\n",
       "      <th>9489</th>\n",
       "      <td>2021-12-24</td>\n",
       "      <td>13</td>\n",
       "      <td>3</td>\n",
       "      <td>Buona</td>\n",
       "      <td>54.5</td>\n",
       "      <td>9.5</td>\n",
       "      <td>5</td>\n",
       "      <td>4</td>\n",
       "      <td>Molto Buona</td>\n",
       "      <td>3.7</td>\n",
       "      <td>...</td>\n",
       "      <td>12</td>\n",
       "      <td>1</td>\n",
       "      <td>Scarsa</td>\n",
       "      <td>52.9</td>\n",
       "      <td>8.7</td>\n",
       "      <td>6</td>\n",
       "      <td>1</td>\n",
       "      <td>Scarsa</td>\n",
       "      <td>46.0</td>\n",
       "      <td>5.3</td>\n",
       "    </tr>\n",
       "    <tr>\n",
       "      <th>9490</th>\n",
       "      <td>2021-12-25</td>\n",
       "      <td>13</td>\n",
       "      <td>3</td>\n",
       "      <td>Buona</td>\n",
       "      <td>52.9</td>\n",
       "      <td>7.2</td>\n",
       "      <td>5</td>\n",
       "      <td>4</td>\n",
       "      <td>Molto Buona</td>\n",
       "      <td>3.8</td>\n",
       "      <td>...</td>\n",
       "      <td>12</td>\n",
       "      <td>1</td>\n",
       "      <td>Scarsa</td>\n",
       "      <td>63.4</td>\n",
       "      <td>9.5</td>\n",
       "      <td>6</td>\n",
       "      <td>0</td>\n",
       "      <td>Molto Scarsa</td>\n",
       "      <td>56.3</td>\n",
       "      <td>9.2</td>\n",
       "    </tr>\n",
       "    <tr>\n",
       "      <th>9491</th>\n",
       "      <td>2021-12-26</td>\n",
       "      <td>18</td>\n",
       "      <td>3</td>\n",
       "      <td>Buona</td>\n",
       "      <td>60.6</td>\n",
       "      <td>9.0</td>\n",
       "      <td>6</td>\n",
       "      <td>4</td>\n",
       "      <td>Molto Buona</td>\n",
       "      <td>3.9</td>\n",
       "      <td>...</td>\n",
       "      <td>12</td>\n",
       "      <td>1</td>\n",
       "      <td>Scarsa</td>\n",
       "      <td>60.6</td>\n",
       "      <td>11.4</td>\n",
       "      <td>6</td>\n",
       "      <td>0</td>\n",
       "      <td>Molto Scarsa</td>\n",
       "      <td>56.2</td>\n",
       "      <td>7.7</td>\n",
       "    </tr>\n",
       "    <tr>\n",
       "      <th>9492</th>\n",
       "      <td>2021-12-27</td>\n",
       "      <td>18</td>\n",
       "      <td>3</td>\n",
       "      <td>Buona</td>\n",
       "      <td>62.1</td>\n",
       "      <td>13.7</td>\n",
       "      <td>6</td>\n",
       "      <td>4</td>\n",
       "      <td>Molto Buona</td>\n",
       "      <td>4.3</td>\n",
       "      <td>...</td>\n",
       "      <td>12</td>\n",
       "      <td>1</td>\n",
       "      <td>Scarsa</td>\n",
       "      <td>55.8</td>\n",
       "      <td>7.5</td>\n",
       "      <td>6</td>\n",
       "      <td>1</td>\n",
       "      <td>Scarsa</td>\n",
       "      <td>48.3</td>\n",
       "      <td>7.5</td>\n",
       "    </tr>\n",
       "    <tr>\n",
       "      <th>9493</th>\n",
       "      <td>2021-12-28</td>\n",
       "      <td>&lt;NA&gt;</td>\n",
       "      <td>&lt;NA&gt;</td>\n",
       "      <td>ND</td>\n",
       "      <td>NaN</td>\n",
       "      <td>NaN</td>\n",
       "      <td>&lt;NA&gt;</td>\n",
       "      <td>&lt;NA&gt;</td>\n",
       "      <td>ND</td>\n",
       "      <td>NaN</td>\n",
       "      <td>...</td>\n",
       "      <td>&lt;NA&gt;</td>\n",
       "      <td>&lt;NA&gt;</td>\n",
       "      <td>ND</td>\n",
       "      <td>NaN</td>\n",
       "      <td>NaN</td>\n",
       "      <td>&lt;NA&gt;</td>\n",
       "      <td>&lt;NA&gt;</td>\n",
       "      <td>ND</td>\n",
       "      <td>NaN</td>\n",
       "      <td>NaN</td>\n",
       "    </tr>\n",
       "  </tbody>\n",
       "</table>\n",
       "<p>9494 rows × 26 columns</p>\n",
       "</div>"
      ],
      "text/plain": [
       "           Data Biossido di Azoto_Count_sensori  \\\n",
       "0    1996-01-01                              30   \n",
       "1    1996-01-02                              32   \n",
       "2    1996-01-03                              32   \n",
       "3    1996-01-04                              33   \n",
       "4    1996-01-05                              32   \n",
       "...         ...                             ...   \n",
       "9489 2021-12-24                              13   \n",
       "9490 2021-12-25                              13   \n",
       "9491 2021-12-26                              18   \n",
       "9492 2021-12-27                              18   \n",
       "9493 2021-12-28                            <NA>   \n",
       "\n",
       "     Biossido di Azoto_Indice numerico Biossido di Azoto_Indice testuale  \\\n",
       "0                                    2                       Accettabile   \n",
       "1                                    2                       Accettabile   \n",
       "2                                    2                       Accettabile   \n",
       "3                                    2                       Accettabile   \n",
       "4                                    3                             Buona   \n",
       "...                                ...                               ...   \n",
       "9489                                 3                             Buona   \n",
       "9490                                 3                             Buona   \n",
       "9491                                 3                             Buona   \n",
       "9492                                 3                             Buona   \n",
       "9493                              <NA>                                ND   \n",
       "\n",
       "     Biossido di Azoto_Valore_interesse  \\\n",
       "0                                 107.4   \n",
       "1                                 127.1   \n",
       "2                                 152.3   \n",
       "3                                 120.7   \n",
       "4                                  79.2   \n",
       "...                                 ...   \n",
       "9489                               54.5   \n",
       "9490                               52.9   \n",
       "9491                               60.6   \n",
       "9492                               62.1   \n",
       "9493                                NaN   \n",
       "\n",
       "     Biossido di Azoto_Valore_interesse_std Biossido di Zolfo_Count_sensori  \\\n",
       "0                                      21.8                              30   \n",
       "1                                      28.5                              30   \n",
       "2                                      27.9                              30   \n",
       "3                                      22.1                              30   \n",
       "4                                      12.5                              30   \n",
       "...                                     ...                             ...   \n",
       "9489                                    9.5                               5   \n",
       "9490                                    7.2                               5   \n",
       "9491                                    9.0                               6   \n",
       "9492                                   13.7                               6   \n",
       "9493                                    NaN                            <NA>   \n",
       "\n",
       "     Biossido di Zolfo_Indice numerico Biossido di Zolfo_Indice testuale  \\\n",
       "0                                    4                       Molto Buona   \n",
       "1                                    4                       Molto Buona   \n",
       "2                                    4                       Molto Buona   \n",
       "3                                    4                       Molto Buona   \n",
       "4                                    4                       Molto Buona   \n",
       "...                                ...                               ...   \n",
       "9489                                 4                       Molto Buona   \n",
       "9490                                 4                       Molto Buona   \n",
       "9491                                 4                       Molto Buona   \n",
       "9492                                 4                       Molto Buona   \n",
       "9493                              <NA>                                ND   \n",
       "\n",
       "     Biossido di Zolfo_Valore_interesse  ... PM10 (SM2005)_Count_sensori  \\\n",
       "0                                  35.5  ...                        <NA>   \n",
       "1                                  43.2  ...                        <NA>   \n",
       "2                                  51.1  ...                        <NA>   \n",
       "3                                  41.5  ...                        <NA>   \n",
       "4                                  39.2  ...                        <NA>   \n",
       "...                                 ...  ...                         ...   \n",
       "9489                                3.7  ...                          12   \n",
       "9490                                3.8  ...                          12   \n",
       "9491                                3.9  ...                          12   \n",
       "9492                                4.3  ...                          12   \n",
       "9493                                NaN  ...                        <NA>   \n",
       "\n",
       "     PM10 (SM2005)_Indice numerico PM10 (SM2005)_Indice testuale  \\\n",
       "0                             <NA>                            ND   \n",
       "1                             <NA>                            ND   \n",
       "2                             <NA>                            ND   \n",
       "3                             <NA>                            ND   \n",
       "4                             <NA>                            ND   \n",
       "...                            ...                           ...   \n",
       "9489                             1                        Scarsa   \n",
       "9490                             1                        Scarsa   \n",
       "9491                             1                        Scarsa   \n",
       "9492                             1                        Scarsa   \n",
       "9493                          <NA>                            ND   \n",
       "\n",
       "     PM10 (SM2005)_Valore_interesse PM10 (SM2005)_Valore_interesse_std  \\\n",
       "0                               NaN                                NaN   \n",
       "1                               NaN                                NaN   \n",
       "2                               NaN                                NaN   \n",
       "3                               NaN                                NaN   \n",
       "4                               NaN                                NaN   \n",
       "...                             ...                                ...   \n",
       "9489                           52.9                                8.7   \n",
       "9490                           63.4                                9.5   \n",
       "9491                           60.6                               11.4   \n",
       "9492                           55.8                                7.5   \n",
       "9493                            NaN                                NaN   \n",
       "\n",
       "     Particelle sospese PM2.5_Count_sensori  \\\n",
       "0                                      <NA>   \n",
       "1                                      <NA>   \n",
       "2                                      <NA>   \n",
       "3                                      <NA>   \n",
       "4                                      <NA>   \n",
       "...                                     ...   \n",
       "9489                                      6   \n",
       "9490                                      6   \n",
       "9491                                      6   \n",
       "9492                                      6   \n",
       "9493                                   <NA>   \n",
       "\n",
       "     Particelle sospese PM2.5_Indice numerico  \\\n",
       "0                                        <NA>   \n",
       "1                                        <NA>   \n",
       "2                                        <NA>   \n",
       "3                                        <NA>   \n",
       "4                                        <NA>   \n",
       "...                                       ...   \n",
       "9489                                        1   \n",
       "9490                                        0   \n",
       "9491                                        0   \n",
       "9492                                        1   \n",
       "9493                                     <NA>   \n",
       "\n",
       "     Particelle sospese PM2.5_Indice testuale  \\\n",
       "0                                          ND   \n",
       "1                                          ND   \n",
       "2                                          ND   \n",
       "3                                          ND   \n",
       "4                                          ND   \n",
       "...                                       ...   \n",
       "9489                                   Scarsa   \n",
       "9490                             Molto Scarsa   \n",
       "9491                             Molto Scarsa   \n",
       "9492                                   Scarsa   \n",
       "9493                                       ND   \n",
       "\n",
       "     Particelle sospese PM2.5_Valore_interesse  \\\n",
       "0                                          NaN   \n",
       "1                                          NaN   \n",
       "2                                          NaN   \n",
       "3                                          NaN   \n",
       "4                                          NaN   \n",
       "...                                        ...   \n",
       "9489                                      46.0   \n",
       "9490                                      56.3   \n",
       "9491                                      56.2   \n",
       "9492                                      48.3   \n",
       "9493                                       NaN   \n",
       "\n",
       "     Particelle sospese PM2.5_Valore_interesse_std  \n",
       "0                                              NaN  \n",
       "1                                              NaN  \n",
       "2                                              NaN  \n",
       "3                                              NaN  \n",
       "4                                              NaN  \n",
       "...                                            ...  \n",
       "9489                                           5.3  \n",
       "9490                                           9.2  \n",
       "9491                                           7.7  \n",
       "9492                                           7.5  \n",
       "9493                                           NaN  \n",
       "\n",
       "[9494 rows x 26 columns]"
      ]
     },
     "execution_count": 9,
     "metadata": {},
     "output_type": "execute_result"
    }
   ],
   "source": [
    "aria_milano_normalizzato = aria_milano.pivot(\n",
    "    index='Data',\n",
    "    columns='NomeTipoSensore',\n",
    "    values=[\n",
    "        'Valore_interesse', 'Valore_interesse_std', 'Count_sensori', 'Indice testuale',\n",
    "        'Indice numerico'\n",
    "    ]).swaplevel(axis=1).sort_index(level = 'NomeTipoSensore', axis=1)\n",
    "aria_milano_normalizzato.columns = aria_milano_normalizzato.columns.map('_'.join)\n",
    "aria_milano_normalizzato = aria_milano_normalizzato.reset_index()\n",
    "aria_milano_normalizzato"
   ]
  },
  {
   "cell_type": "markdown",
   "id": "b102d70f",
   "metadata": {},
   "source": [
    "## Aggiunta colonna IQA"
   ]
  },
  {
   "cell_type": "markdown",
   "id": "a4dfb65c",
   "metadata": {},
   "source": [
    "Aggiungo colonna con IQA numerico (uguale all'indice numerico minore)"
   ]
  },
  {
   "cell_type": "code",
   "execution_count": 10,
   "id": "891ed911",
   "metadata": {
    "ExecuteTime": {
     "end_time": "2022-01-24T16:07:40.266874Z",
     "start_time": "2022-01-24T16:07:40.252783Z"
    }
   },
   "outputs": [],
   "source": [
    "aria_milano_normalizzato['IQA_numerico'] = aria_milano_normalizzato[[\n",
    "    'Biossido di Azoto_Indice numerico', 'Biossido di Zolfo_Indice numerico',\n",
    "    'Ozono_Indice numerico', 'PM10 (SM2005)_Indice numerico',\n",
    "    'Particelle sospese PM2.5_Indice numerico'\n",
    "]].min(axis=1, skipna = True).astype('Int64')"
   ]
  },
  {
   "cell_type": "code",
   "execution_count": 11,
   "id": "82b8559c",
   "metadata": {
    "ExecuteTime": {
     "end_time": "2022-01-24T16:07:40.297429Z",
     "start_time": "2022-01-24T16:07:40.267906Z"
    }
   },
   "outputs": [
    {
     "data": {
      "text/html": [
       "<div>\n",
       "<style scoped>\n",
       "    .dataframe tbody tr th:only-of-type {\n",
       "        vertical-align: middle;\n",
       "    }\n",
       "\n",
       "    .dataframe tbody tr th {\n",
       "        vertical-align: top;\n",
       "    }\n",
       "\n",
       "    .dataframe thead th {\n",
       "        text-align: right;\n",
       "    }\n",
       "</style>\n",
       "<table border=\"1\" class=\"dataframe\">\n",
       "  <thead>\n",
       "    <tr style=\"text-align: right;\">\n",
       "      <th></th>\n",
       "      <th>Data</th>\n",
       "      <th>Biossido di Azoto_Count_sensori</th>\n",
       "      <th>Biossido di Azoto_Indice numerico</th>\n",
       "      <th>Biossido di Azoto_Indice testuale</th>\n",
       "      <th>Biossido di Azoto_Valore_interesse</th>\n",
       "      <th>Biossido di Azoto_Valore_interesse_std</th>\n",
       "      <th>Biossido di Zolfo_Count_sensori</th>\n",
       "      <th>Biossido di Zolfo_Indice numerico</th>\n",
       "      <th>Biossido di Zolfo_Indice testuale</th>\n",
       "      <th>Biossido di Zolfo_Valore_interesse</th>\n",
       "      <th>...</th>\n",
       "      <th>PM10 (SM2005)_Indice numerico</th>\n",
       "      <th>PM10 (SM2005)_Indice testuale</th>\n",
       "      <th>PM10 (SM2005)_Valore_interesse</th>\n",
       "      <th>PM10 (SM2005)_Valore_interesse_std</th>\n",
       "      <th>Particelle sospese PM2.5_Count_sensori</th>\n",
       "      <th>Particelle sospese PM2.5_Indice numerico</th>\n",
       "      <th>Particelle sospese PM2.5_Indice testuale</th>\n",
       "      <th>Particelle sospese PM2.5_Valore_interesse</th>\n",
       "      <th>Particelle sospese PM2.5_Valore_interesse_std</th>\n",
       "      <th>IQA_numerico</th>\n",
       "    </tr>\n",
       "  </thead>\n",
       "  <tbody>\n",
       "    <tr>\n",
       "      <th>0</th>\n",
       "      <td>1996-01-01</td>\n",
       "      <td>30</td>\n",
       "      <td>2</td>\n",
       "      <td>Accettabile</td>\n",
       "      <td>107.4</td>\n",
       "      <td>21.8</td>\n",
       "      <td>30</td>\n",
       "      <td>4</td>\n",
       "      <td>Molto Buona</td>\n",
       "      <td>35.5</td>\n",
       "      <td>...</td>\n",
       "      <td>&lt;NA&gt;</td>\n",
       "      <td>ND</td>\n",
       "      <td>NaN</td>\n",
       "      <td>NaN</td>\n",
       "      <td>&lt;NA&gt;</td>\n",
       "      <td>&lt;NA&gt;</td>\n",
       "      <td>ND</td>\n",
       "      <td>NaN</td>\n",
       "      <td>NaN</td>\n",
       "      <td>2</td>\n",
       "    </tr>\n",
       "    <tr>\n",
       "      <th>1</th>\n",
       "      <td>1996-01-02</td>\n",
       "      <td>32</td>\n",
       "      <td>2</td>\n",
       "      <td>Accettabile</td>\n",
       "      <td>127.1</td>\n",
       "      <td>28.5</td>\n",
       "      <td>30</td>\n",
       "      <td>4</td>\n",
       "      <td>Molto Buona</td>\n",
       "      <td>43.2</td>\n",
       "      <td>...</td>\n",
       "      <td>&lt;NA&gt;</td>\n",
       "      <td>ND</td>\n",
       "      <td>NaN</td>\n",
       "      <td>NaN</td>\n",
       "      <td>&lt;NA&gt;</td>\n",
       "      <td>&lt;NA&gt;</td>\n",
       "      <td>ND</td>\n",
       "      <td>NaN</td>\n",
       "      <td>NaN</td>\n",
       "      <td>2</td>\n",
       "    </tr>\n",
       "    <tr>\n",
       "      <th>2</th>\n",
       "      <td>1996-01-03</td>\n",
       "      <td>32</td>\n",
       "      <td>2</td>\n",
       "      <td>Accettabile</td>\n",
       "      <td>152.3</td>\n",
       "      <td>27.9</td>\n",
       "      <td>30</td>\n",
       "      <td>4</td>\n",
       "      <td>Molto Buona</td>\n",
       "      <td>51.1</td>\n",
       "      <td>...</td>\n",
       "      <td>&lt;NA&gt;</td>\n",
       "      <td>ND</td>\n",
       "      <td>NaN</td>\n",
       "      <td>NaN</td>\n",
       "      <td>&lt;NA&gt;</td>\n",
       "      <td>&lt;NA&gt;</td>\n",
       "      <td>ND</td>\n",
       "      <td>NaN</td>\n",
       "      <td>NaN</td>\n",
       "      <td>2</td>\n",
       "    </tr>\n",
       "    <tr>\n",
       "      <th>3</th>\n",
       "      <td>1996-01-04</td>\n",
       "      <td>33</td>\n",
       "      <td>2</td>\n",
       "      <td>Accettabile</td>\n",
       "      <td>120.7</td>\n",
       "      <td>22.1</td>\n",
       "      <td>30</td>\n",
       "      <td>4</td>\n",
       "      <td>Molto Buona</td>\n",
       "      <td>41.5</td>\n",
       "      <td>...</td>\n",
       "      <td>&lt;NA&gt;</td>\n",
       "      <td>ND</td>\n",
       "      <td>NaN</td>\n",
       "      <td>NaN</td>\n",
       "      <td>&lt;NA&gt;</td>\n",
       "      <td>&lt;NA&gt;</td>\n",
       "      <td>ND</td>\n",
       "      <td>NaN</td>\n",
       "      <td>NaN</td>\n",
       "      <td>2</td>\n",
       "    </tr>\n",
       "    <tr>\n",
       "      <th>4</th>\n",
       "      <td>1996-01-05</td>\n",
       "      <td>32</td>\n",
       "      <td>3</td>\n",
       "      <td>Buona</td>\n",
       "      <td>79.2</td>\n",
       "      <td>12.5</td>\n",
       "      <td>30</td>\n",
       "      <td>4</td>\n",
       "      <td>Molto Buona</td>\n",
       "      <td>39.2</td>\n",
       "      <td>...</td>\n",
       "      <td>&lt;NA&gt;</td>\n",
       "      <td>ND</td>\n",
       "      <td>NaN</td>\n",
       "      <td>NaN</td>\n",
       "      <td>&lt;NA&gt;</td>\n",
       "      <td>&lt;NA&gt;</td>\n",
       "      <td>ND</td>\n",
       "      <td>NaN</td>\n",
       "      <td>NaN</td>\n",
       "      <td>3</td>\n",
       "    </tr>\n",
       "    <tr>\n",
       "      <th>...</th>\n",
       "      <td>...</td>\n",
       "      <td>...</td>\n",
       "      <td>...</td>\n",
       "      <td>...</td>\n",
       "      <td>...</td>\n",
       "      <td>...</td>\n",
       "      <td>...</td>\n",
       "      <td>...</td>\n",
       "      <td>...</td>\n",
       "      <td>...</td>\n",
       "      <td>...</td>\n",
       "      <td>...</td>\n",
       "      <td>...</td>\n",
       "      <td>...</td>\n",
       "      <td>...</td>\n",
       "      <td>...</td>\n",
       "      <td>...</td>\n",
       "      <td>...</td>\n",
       "      <td>...</td>\n",
       "      <td>...</td>\n",
       "      <td>...</td>\n",
       "    </tr>\n",
       "    <tr>\n",
       "      <th>9489</th>\n",
       "      <td>2021-12-24</td>\n",
       "      <td>13</td>\n",
       "      <td>3</td>\n",
       "      <td>Buona</td>\n",
       "      <td>54.5</td>\n",
       "      <td>9.5</td>\n",
       "      <td>5</td>\n",
       "      <td>4</td>\n",
       "      <td>Molto Buona</td>\n",
       "      <td>3.7</td>\n",
       "      <td>...</td>\n",
       "      <td>1</td>\n",
       "      <td>Scarsa</td>\n",
       "      <td>52.9</td>\n",
       "      <td>8.7</td>\n",
       "      <td>6</td>\n",
       "      <td>1</td>\n",
       "      <td>Scarsa</td>\n",
       "      <td>46.0</td>\n",
       "      <td>5.3</td>\n",
       "      <td>1</td>\n",
       "    </tr>\n",
       "    <tr>\n",
       "      <th>9490</th>\n",
       "      <td>2021-12-25</td>\n",
       "      <td>13</td>\n",
       "      <td>3</td>\n",
       "      <td>Buona</td>\n",
       "      <td>52.9</td>\n",
       "      <td>7.2</td>\n",
       "      <td>5</td>\n",
       "      <td>4</td>\n",
       "      <td>Molto Buona</td>\n",
       "      <td>3.8</td>\n",
       "      <td>...</td>\n",
       "      <td>1</td>\n",
       "      <td>Scarsa</td>\n",
       "      <td>63.4</td>\n",
       "      <td>9.5</td>\n",
       "      <td>6</td>\n",
       "      <td>0</td>\n",
       "      <td>Molto Scarsa</td>\n",
       "      <td>56.3</td>\n",
       "      <td>9.2</td>\n",
       "      <td>0</td>\n",
       "    </tr>\n",
       "    <tr>\n",
       "      <th>9491</th>\n",
       "      <td>2021-12-26</td>\n",
       "      <td>18</td>\n",
       "      <td>3</td>\n",
       "      <td>Buona</td>\n",
       "      <td>60.6</td>\n",
       "      <td>9.0</td>\n",
       "      <td>6</td>\n",
       "      <td>4</td>\n",
       "      <td>Molto Buona</td>\n",
       "      <td>3.9</td>\n",
       "      <td>...</td>\n",
       "      <td>1</td>\n",
       "      <td>Scarsa</td>\n",
       "      <td>60.6</td>\n",
       "      <td>11.4</td>\n",
       "      <td>6</td>\n",
       "      <td>0</td>\n",
       "      <td>Molto Scarsa</td>\n",
       "      <td>56.2</td>\n",
       "      <td>7.7</td>\n",
       "      <td>0</td>\n",
       "    </tr>\n",
       "    <tr>\n",
       "      <th>9492</th>\n",
       "      <td>2021-12-27</td>\n",
       "      <td>18</td>\n",
       "      <td>3</td>\n",
       "      <td>Buona</td>\n",
       "      <td>62.1</td>\n",
       "      <td>13.7</td>\n",
       "      <td>6</td>\n",
       "      <td>4</td>\n",
       "      <td>Molto Buona</td>\n",
       "      <td>4.3</td>\n",
       "      <td>...</td>\n",
       "      <td>1</td>\n",
       "      <td>Scarsa</td>\n",
       "      <td>55.8</td>\n",
       "      <td>7.5</td>\n",
       "      <td>6</td>\n",
       "      <td>1</td>\n",
       "      <td>Scarsa</td>\n",
       "      <td>48.3</td>\n",
       "      <td>7.5</td>\n",
       "      <td>1</td>\n",
       "    </tr>\n",
       "    <tr>\n",
       "      <th>9493</th>\n",
       "      <td>2021-12-28</td>\n",
       "      <td>&lt;NA&gt;</td>\n",
       "      <td>&lt;NA&gt;</td>\n",
       "      <td>ND</td>\n",
       "      <td>NaN</td>\n",
       "      <td>NaN</td>\n",
       "      <td>&lt;NA&gt;</td>\n",
       "      <td>&lt;NA&gt;</td>\n",
       "      <td>ND</td>\n",
       "      <td>NaN</td>\n",
       "      <td>...</td>\n",
       "      <td>&lt;NA&gt;</td>\n",
       "      <td>ND</td>\n",
       "      <td>NaN</td>\n",
       "      <td>NaN</td>\n",
       "      <td>&lt;NA&gt;</td>\n",
       "      <td>&lt;NA&gt;</td>\n",
       "      <td>ND</td>\n",
       "      <td>NaN</td>\n",
       "      <td>NaN</td>\n",
       "      <td>&lt;NA&gt;</td>\n",
       "    </tr>\n",
       "  </tbody>\n",
       "</table>\n",
       "<p>9494 rows × 27 columns</p>\n",
       "</div>"
      ],
      "text/plain": [
       "           Data Biossido di Azoto_Count_sensori  \\\n",
       "0    1996-01-01                              30   \n",
       "1    1996-01-02                              32   \n",
       "2    1996-01-03                              32   \n",
       "3    1996-01-04                              33   \n",
       "4    1996-01-05                              32   \n",
       "...         ...                             ...   \n",
       "9489 2021-12-24                              13   \n",
       "9490 2021-12-25                              13   \n",
       "9491 2021-12-26                              18   \n",
       "9492 2021-12-27                              18   \n",
       "9493 2021-12-28                            <NA>   \n",
       "\n",
       "     Biossido di Azoto_Indice numerico Biossido di Azoto_Indice testuale  \\\n",
       "0                                    2                       Accettabile   \n",
       "1                                    2                       Accettabile   \n",
       "2                                    2                       Accettabile   \n",
       "3                                    2                       Accettabile   \n",
       "4                                    3                             Buona   \n",
       "...                                ...                               ...   \n",
       "9489                                 3                             Buona   \n",
       "9490                                 3                             Buona   \n",
       "9491                                 3                             Buona   \n",
       "9492                                 3                             Buona   \n",
       "9493                              <NA>                                ND   \n",
       "\n",
       "     Biossido di Azoto_Valore_interesse  \\\n",
       "0                                 107.4   \n",
       "1                                 127.1   \n",
       "2                                 152.3   \n",
       "3                                 120.7   \n",
       "4                                  79.2   \n",
       "...                                 ...   \n",
       "9489                               54.5   \n",
       "9490                               52.9   \n",
       "9491                               60.6   \n",
       "9492                               62.1   \n",
       "9493                                NaN   \n",
       "\n",
       "     Biossido di Azoto_Valore_interesse_std Biossido di Zolfo_Count_sensori  \\\n",
       "0                                      21.8                              30   \n",
       "1                                      28.5                              30   \n",
       "2                                      27.9                              30   \n",
       "3                                      22.1                              30   \n",
       "4                                      12.5                              30   \n",
       "...                                     ...                             ...   \n",
       "9489                                    9.5                               5   \n",
       "9490                                    7.2                               5   \n",
       "9491                                    9.0                               6   \n",
       "9492                                   13.7                               6   \n",
       "9493                                    NaN                            <NA>   \n",
       "\n",
       "     Biossido di Zolfo_Indice numerico Biossido di Zolfo_Indice testuale  \\\n",
       "0                                    4                       Molto Buona   \n",
       "1                                    4                       Molto Buona   \n",
       "2                                    4                       Molto Buona   \n",
       "3                                    4                       Molto Buona   \n",
       "4                                    4                       Molto Buona   \n",
       "...                                ...                               ...   \n",
       "9489                                 4                       Molto Buona   \n",
       "9490                                 4                       Molto Buona   \n",
       "9491                                 4                       Molto Buona   \n",
       "9492                                 4                       Molto Buona   \n",
       "9493                              <NA>                                ND   \n",
       "\n",
       "     Biossido di Zolfo_Valore_interesse  ... PM10 (SM2005)_Indice numerico  \\\n",
       "0                                  35.5  ...                          <NA>   \n",
       "1                                  43.2  ...                          <NA>   \n",
       "2                                  51.1  ...                          <NA>   \n",
       "3                                  41.5  ...                          <NA>   \n",
       "4                                  39.2  ...                          <NA>   \n",
       "...                                 ...  ...                           ...   \n",
       "9489                                3.7  ...                             1   \n",
       "9490                                3.8  ...                             1   \n",
       "9491                                3.9  ...                             1   \n",
       "9492                                4.3  ...                             1   \n",
       "9493                                NaN  ...                          <NA>   \n",
       "\n",
       "     PM10 (SM2005)_Indice testuale PM10 (SM2005)_Valore_interesse  \\\n",
       "0                               ND                            NaN   \n",
       "1                               ND                            NaN   \n",
       "2                               ND                            NaN   \n",
       "3                               ND                            NaN   \n",
       "4                               ND                            NaN   \n",
       "...                            ...                            ...   \n",
       "9489                        Scarsa                           52.9   \n",
       "9490                        Scarsa                           63.4   \n",
       "9491                        Scarsa                           60.6   \n",
       "9492                        Scarsa                           55.8   \n",
       "9493                            ND                            NaN   \n",
       "\n",
       "     PM10 (SM2005)_Valore_interesse_std  \\\n",
       "0                                   NaN   \n",
       "1                                   NaN   \n",
       "2                                   NaN   \n",
       "3                                   NaN   \n",
       "4                                   NaN   \n",
       "...                                 ...   \n",
       "9489                                8.7   \n",
       "9490                                9.5   \n",
       "9491                               11.4   \n",
       "9492                                7.5   \n",
       "9493                                NaN   \n",
       "\n",
       "     Particelle sospese PM2.5_Count_sensori  \\\n",
       "0                                      <NA>   \n",
       "1                                      <NA>   \n",
       "2                                      <NA>   \n",
       "3                                      <NA>   \n",
       "4                                      <NA>   \n",
       "...                                     ...   \n",
       "9489                                      6   \n",
       "9490                                      6   \n",
       "9491                                      6   \n",
       "9492                                      6   \n",
       "9493                                   <NA>   \n",
       "\n",
       "     Particelle sospese PM2.5_Indice numerico  \\\n",
       "0                                        <NA>   \n",
       "1                                        <NA>   \n",
       "2                                        <NA>   \n",
       "3                                        <NA>   \n",
       "4                                        <NA>   \n",
       "...                                       ...   \n",
       "9489                                        1   \n",
       "9490                                        0   \n",
       "9491                                        0   \n",
       "9492                                        1   \n",
       "9493                                     <NA>   \n",
       "\n",
       "     Particelle sospese PM2.5_Indice testuale  \\\n",
       "0                                          ND   \n",
       "1                                          ND   \n",
       "2                                          ND   \n",
       "3                                          ND   \n",
       "4                                          ND   \n",
       "...                                       ...   \n",
       "9489                                   Scarsa   \n",
       "9490                             Molto Scarsa   \n",
       "9491                             Molto Scarsa   \n",
       "9492                                   Scarsa   \n",
       "9493                                       ND   \n",
       "\n",
       "     Particelle sospese PM2.5_Valore_interesse  \\\n",
       "0                                          NaN   \n",
       "1                                          NaN   \n",
       "2                                          NaN   \n",
       "3                                          NaN   \n",
       "4                                          NaN   \n",
       "...                                        ...   \n",
       "9489                                      46.0   \n",
       "9490                                      56.3   \n",
       "9491                                      56.2   \n",
       "9492                                      48.3   \n",
       "9493                                       NaN   \n",
       "\n",
       "     Particelle sospese PM2.5_Valore_interesse_std IQA_numerico  \n",
       "0                                              NaN            2  \n",
       "1                                              NaN            2  \n",
       "2                                              NaN            2  \n",
       "3                                              NaN            2  \n",
       "4                                              NaN            3  \n",
       "...                                            ...          ...  \n",
       "9489                                           5.3            1  \n",
       "9490                                           9.2            0  \n",
       "9491                                           7.7            0  \n",
       "9492                                           7.5            1  \n",
       "9493                                           NaN         <NA>  \n",
       "\n",
       "[9494 rows x 27 columns]"
      ]
     },
     "execution_count": 11,
     "metadata": {},
     "output_type": "execute_result"
    }
   ],
   "source": [
    "aria_milano_normalizzato"
   ]
  },
  {
   "cell_type": "markdown",
   "id": "74655e24",
   "metadata": {},
   "source": [
    "Aggiungo colonna con IQA testuale"
   ]
  },
  {
   "cell_type": "code",
   "execution_count": 12,
   "id": "a26eedca",
   "metadata": {
    "ExecuteTime": {
     "end_time": "2022-01-24T16:07:40.312466Z",
     "start_time": "2022-01-24T16:07:40.298467Z"
    }
   },
   "outputs": [],
   "source": [
    "# Condizioni\n",
    "conditions = [\n",
    "    (aria_milano_normalizzato['IQA_numerico'].isnull()),\n",
    "    (aria_milano_normalizzato['IQA_numerico'].eq(0).fillna(False).astype('bool')),\n",
    "    (aria_milano_normalizzato['IQA_numerico'].eq(1).fillna(False).astype('bool')),\n",
    "    (aria_milano_normalizzato['IQA_numerico'].eq(2).fillna(False).astype('bool')),\n",
    "    (aria_milano_normalizzato['IQA_numerico'].eq(3).fillna(False).astype('bool')),\n",
    "    (aria_milano_normalizzato['IQA_numerico'].eq(4).fillna(False).astype('bool'))\n",
    "]\n",
    "# Lista sostituti\n",
    "values = ['Molto Buona', 'Buona', 'Accettabile', 'Scarsa', 'Molto Scarsa', 'ND']\n",
    "values = values[::-1]\n",
    "# Nuova colonna\n",
    "aria_milano_normalizzato['IQA'] = np.select(conditions, values)"
   ]
  },
  {
   "cell_type": "markdown",
   "id": "30563798",
   "metadata": {},
   "source": [
    "## Correzione dei *datatypes*"
   ]
  },
  {
   "cell_type": "code",
   "execution_count": 13,
   "id": "328d207a",
   "metadata": {
    "ExecuteTime": {
     "end_time": "2022-01-24T16:07:40.343902Z",
     "start_time": "2022-01-24T16:07:40.314465Z"
    }
   },
   "outputs": [
    {
     "data": {
      "text/html": [
       "<div>\n",
       "<style scoped>\n",
       "    .dataframe tbody tr th:only-of-type {\n",
       "        vertical-align: middle;\n",
       "    }\n",
       "\n",
       "    .dataframe tbody tr th {\n",
       "        vertical-align: top;\n",
       "    }\n",
       "\n",
       "    .dataframe thead th {\n",
       "        text-align: right;\n",
       "    }\n",
       "</style>\n",
       "<table border=\"1\" class=\"dataframe\">\n",
       "  <thead>\n",
       "    <tr style=\"text-align: right;\">\n",
       "      <th></th>\n",
       "      <th>Data</th>\n",
       "      <th>Biossido di Azoto_Count_sensori</th>\n",
       "      <th>Biossido di Azoto_Indice numerico</th>\n",
       "      <th>Biossido di Azoto_Indice testuale</th>\n",
       "      <th>Biossido di Azoto_Valore_interesse</th>\n",
       "      <th>Biossido di Azoto_Valore_interesse_std</th>\n",
       "      <th>Biossido di Zolfo_Count_sensori</th>\n",
       "      <th>Biossido di Zolfo_Indice numerico</th>\n",
       "      <th>Biossido di Zolfo_Indice testuale</th>\n",
       "      <th>Biossido di Zolfo_Valore_interesse</th>\n",
       "      <th>...</th>\n",
       "      <th>PM10 (SM2005)_Indice testuale</th>\n",
       "      <th>PM10 (SM2005)_Valore_interesse</th>\n",
       "      <th>PM10 (SM2005)_Valore_interesse_std</th>\n",
       "      <th>Particelle sospese PM2.5_Count_sensori</th>\n",
       "      <th>Particelle sospese PM2.5_Indice numerico</th>\n",
       "      <th>Particelle sospese PM2.5_Indice testuale</th>\n",
       "      <th>Particelle sospese PM2.5_Valore_interesse</th>\n",
       "      <th>Particelle sospese PM2.5_Valore_interesse_std</th>\n",
       "      <th>IQA_numerico</th>\n",
       "      <th>IQA</th>\n",
       "    </tr>\n",
       "  </thead>\n",
       "  <tbody>\n",
       "    <tr>\n",
       "      <th>0</th>\n",
       "      <td>1996-01-01</td>\n",
       "      <td>30</td>\n",
       "      <td>2</td>\n",
       "      <td>Accettabile</td>\n",
       "      <td>107.4</td>\n",
       "      <td>21.8</td>\n",
       "      <td>30</td>\n",
       "      <td>4</td>\n",
       "      <td>Molto Buona</td>\n",
       "      <td>35.5</td>\n",
       "      <td>...</td>\n",
       "      <td>ND</td>\n",
       "      <td>NaN</td>\n",
       "      <td>NaN</td>\n",
       "      <td>&lt;NA&gt;</td>\n",
       "      <td>&lt;NA&gt;</td>\n",
       "      <td>ND</td>\n",
       "      <td>NaN</td>\n",
       "      <td>NaN</td>\n",
       "      <td>2</td>\n",
       "      <td>Accettabile</td>\n",
       "    </tr>\n",
       "    <tr>\n",
       "      <th>1</th>\n",
       "      <td>1996-01-02</td>\n",
       "      <td>32</td>\n",
       "      <td>2</td>\n",
       "      <td>Accettabile</td>\n",
       "      <td>127.1</td>\n",
       "      <td>28.5</td>\n",
       "      <td>30</td>\n",
       "      <td>4</td>\n",
       "      <td>Molto Buona</td>\n",
       "      <td>43.2</td>\n",
       "      <td>...</td>\n",
       "      <td>ND</td>\n",
       "      <td>NaN</td>\n",
       "      <td>NaN</td>\n",
       "      <td>&lt;NA&gt;</td>\n",
       "      <td>&lt;NA&gt;</td>\n",
       "      <td>ND</td>\n",
       "      <td>NaN</td>\n",
       "      <td>NaN</td>\n",
       "      <td>2</td>\n",
       "      <td>Accettabile</td>\n",
       "    </tr>\n",
       "    <tr>\n",
       "      <th>2</th>\n",
       "      <td>1996-01-03</td>\n",
       "      <td>32</td>\n",
       "      <td>2</td>\n",
       "      <td>Accettabile</td>\n",
       "      <td>152.3</td>\n",
       "      <td>27.9</td>\n",
       "      <td>30</td>\n",
       "      <td>4</td>\n",
       "      <td>Molto Buona</td>\n",
       "      <td>51.1</td>\n",
       "      <td>...</td>\n",
       "      <td>ND</td>\n",
       "      <td>NaN</td>\n",
       "      <td>NaN</td>\n",
       "      <td>&lt;NA&gt;</td>\n",
       "      <td>&lt;NA&gt;</td>\n",
       "      <td>ND</td>\n",
       "      <td>NaN</td>\n",
       "      <td>NaN</td>\n",
       "      <td>2</td>\n",
       "      <td>Accettabile</td>\n",
       "    </tr>\n",
       "    <tr>\n",
       "      <th>3</th>\n",
       "      <td>1996-01-04</td>\n",
       "      <td>33</td>\n",
       "      <td>2</td>\n",
       "      <td>Accettabile</td>\n",
       "      <td>120.7</td>\n",
       "      <td>22.1</td>\n",
       "      <td>30</td>\n",
       "      <td>4</td>\n",
       "      <td>Molto Buona</td>\n",
       "      <td>41.5</td>\n",
       "      <td>...</td>\n",
       "      <td>ND</td>\n",
       "      <td>NaN</td>\n",
       "      <td>NaN</td>\n",
       "      <td>&lt;NA&gt;</td>\n",
       "      <td>&lt;NA&gt;</td>\n",
       "      <td>ND</td>\n",
       "      <td>NaN</td>\n",
       "      <td>NaN</td>\n",
       "      <td>2</td>\n",
       "      <td>Accettabile</td>\n",
       "    </tr>\n",
       "    <tr>\n",
       "      <th>4</th>\n",
       "      <td>1996-01-05</td>\n",
       "      <td>32</td>\n",
       "      <td>3</td>\n",
       "      <td>Buona</td>\n",
       "      <td>79.2</td>\n",
       "      <td>12.5</td>\n",
       "      <td>30</td>\n",
       "      <td>4</td>\n",
       "      <td>Molto Buona</td>\n",
       "      <td>39.2</td>\n",
       "      <td>...</td>\n",
       "      <td>ND</td>\n",
       "      <td>NaN</td>\n",
       "      <td>NaN</td>\n",
       "      <td>&lt;NA&gt;</td>\n",
       "      <td>&lt;NA&gt;</td>\n",
       "      <td>ND</td>\n",
       "      <td>NaN</td>\n",
       "      <td>NaN</td>\n",
       "      <td>3</td>\n",
       "      <td>Buona</td>\n",
       "    </tr>\n",
       "    <tr>\n",
       "      <th>...</th>\n",
       "      <td>...</td>\n",
       "      <td>...</td>\n",
       "      <td>...</td>\n",
       "      <td>...</td>\n",
       "      <td>...</td>\n",
       "      <td>...</td>\n",
       "      <td>...</td>\n",
       "      <td>...</td>\n",
       "      <td>...</td>\n",
       "      <td>...</td>\n",
       "      <td>...</td>\n",
       "      <td>...</td>\n",
       "      <td>...</td>\n",
       "      <td>...</td>\n",
       "      <td>...</td>\n",
       "      <td>...</td>\n",
       "      <td>...</td>\n",
       "      <td>...</td>\n",
       "      <td>...</td>\n",
       "      <td>...</td>\n",
       "      <td>...</td>\n",
       "    </tr>\n",
       "    <tr>\n",
       "      <th>9489</th>\n",
       "      <td>2021-12-24</td>\n",
       "      <td>13</td>\n",
       "      <td>3</td>\n",
       "      <td>Buona</td>\n",
       "      <td>54.5</td>\n",
       "      <td>9.5</td>\n",
       "      <td>5</td>\n",
       "      <td>4</td>\n",
       "      <td>Molto Buona</td>\n",
       "      <td>3.7</td>\n",
       "      <td>...</td>\n",
       "      <td>Scarsa</td>\n",
       "      <td>52.9</td>\n",
       "      <td>8.7</td>\n",
       "      <td>6</td>\n",
       "      <td>1</td>\n",
       "      <td>Scarsa</td>\n",
       "      <td>46.0</td>\n",
       "      <td>5.3</td>\n",
       "      <td>1</td>\n",
       "      <td>Scarsa</td>\n",
       "    </tr>\n",
       "    <tr>\n",
       "      <th>9490</th>\n",
       "      <td>2021-12-25</td>\n",
       "      <td>13</td>\n",
       "      <td>3</td>\n",
       "      <td>Buona</td>\n",
       "      <td>52.9</td>\n",
       "      <td>7.2</td>\n",
       "      <td>5</td>\n",
       "      <td>4</td>\n",
       "      <td>Molto Buona</td>\n",
       "      <td>3.8</td>\n",
       "      <td>...</td>\n",
       "      <td>Scarsa</td>\n",
       "      <td>63.4</td>\n",
       "      <td>9.5</td>\n",
       "      <td>6</td>\n",
       "      <td>0</td>\n",
       "      <td>Molto Scarsa</td>\n",
       "      <td>56.3</td>\n",
       "      <td>9.2</td>\n",
       "      <td>0</td>\n",
       "      <td>Molto Scarsa</td>\n",
       "    </tr>\n",
       "    <tr>\n",
       "      <th>9491</th>\n",
       "      <td>2021-12-26</td>\n",
       "      <td>18</td>\n",
       "      <td>3</td>\n",
       "      <td>Buona</td>\n",
       "      <td>60.6</td>\n",
       "      <td>9.0</td>\n",
       "      <td>6</td>\n",
       "      <td>4</td>\n",
       "      <td>Molto Buona</td>\n",
       "      <td>3.9</td>\n",
       "      <td>...</td>\n",
       "      <td>Scarsa</td>\n",
       "      <td>60.6</td>\n",
       "      <td>11.4</td>\n",
       "      <td>6</td>\n",
       "      <td>0</td>\n",
       "      <td>Molto Scarsa</td>\n",
       "      <td>56.2</td>\n",
       "      <td>7.7</td>\n",
       "      <td>0</td>\n",
       "      <td>Molto Scarsa</td>\n",
       "    </tr>\n",
       "    <tr>\n",
       "      <th>9492</th>\n",
       "      <td>2021-12-27</td>\n",
       "      <td>18</td>\n",
       "      <td>3</td>\n",
       "      <td>Buona</td>\n",
       "      <td>62.1</td>\n",
       "      <td>13.7</td>\n",
       "      <td>6</td>\n",
       "      <td>4</td>\n",
       "      <td>Molto Buona</td>\n",
       "      <td>4.3</td>\n",
       "      <td>...</td>\n",
       "      <td>Scarsa</td>\n",
       "      <td>55.8</td>\n",
       "      <td>7.5</td>\n",
       "      <td>6</td>\n",
       "      <td>1</td>\n",
       "      <td>Scarsa</td>\n",
       "      <td>48.3</td>\n",
       "      <td>7.5</td>\n",
       "      <td>1</td>\n",
       "      <td>Scarsa</td>\n",
       "    </tr>\n",
       "    <tr>\n",
       "      <th>9493</th>\n",
       "      <td>2021-12-28</td>\n",
       "      <td>&lt;NA&gt;</td>\n",
       "      <td>&lt;NA&gt;</td>\n",
       "      <td>ND</td>\n",
       "      <td>NaN</td>\n",
       "      <td>NaN</td>\n",
       "      <td>&lt;NA&gt;</td>\n",
       "      <td>&lt;NA&gt;</td>\n",
       "      <td>ND</td>\n",
       "      <td>NaN</td>\n",
       "      <td>...</td>\n",
       "      <td>ND</td>\n",
       "      <td>NaN</td>\n",
       "      <td>NaN</td>\n",
       "      <td>&lt;NA&gt;</td>\n",
       "      <td>&lt;NA&gt;</td>\n",
       "      <td>ND</td>\n",
       "      <td>NaN</td>\n",
       "      <td>NaN</td>\n",
       "      <td>&lt;NA&gt;</td>\n",
       "      <td>ND</td>\n",
       "    </tr>\n",
       "  </tbody>\n",
       "</table>\n",
       "<p>9494 rows × 28 columns</p>\n",
       "</div>"
      ],
      "text/plain": [
       "           Data Biossido di Azoto_Count_sensori  \\\n",
       "0    1996-01-01                              30   \n",
       "1    1996-01-02                              32   \n",
       "2    1996-01-03                              32   \n",
       "3    1996-01-04                              33   \n",
       "4    1996-01-05                              32   \n",
       "...         ...                             ...   \n",
       "9489 2021-12-24                              13   \n",
       "9490 2021-12-25                              13   \n",
       "9491 2021-12-26                              18   \n",
       "9492 2021-12-27                              18   \n",
       "9493 2021-12-28                            <NA>   \n",
       "\n",
       "     Biossido di Azoto_Indice numerico Biossido di Azoto_Indice testuale  \\\n",
       "0                                    2                       Accettabile   \n",
       "1                                    2                       Accettabile   \n",
       "2                                    2                       Accettabile   \n",
       "3                                    2                       Accettabile   \n",
       "4                                    3                             Buona   \n",
       "...                                ...                               ...   \n",
       "9489                                 3                             Buona   \n",
       "9490                                 3                             Buona   \n",
       "9491                                 3                             Buona   \n",
       "9492                                 3                             Buona   \n",
       "9493                              <NA>                                ND   \n",
       "\n",
       "     Biossido di Azoto_Valore_interesse  \\\n",
       "0                                 107.4   \n",
       "1                                 127.1   \n",
       "2                                 152.3   \n",
       "3                                 120.7   \n",
       "4                                  79.2   \n",
       "...                                 ...   \n",
       "9489                               54.5   \n",
       "9490                               52.9   \n",
       "9491                               60.6   \n",
       "9492                               62.1   \n",
       "9493                                NaN   \n",
       "\n",
       "     Biossido di Azoto_Valore_interesse_std Biossido di Zolfo_Count_sensori  \\\n",
       "0                                      21.8                              30   \n",
       "1                                      28.5                              30   \n",
       "2                                      27.9                              30   \n",
       "3                                      22.1                              30   \n",
       "4                                      12.5                              30   \n",
       "...                                     ...                             ...   \n",
       "9489                                    9.5                               5   \n",
       "9490                                    7.2                               5   \n",
       "9491                                    9.0                               6   \n",
       "9492                                   13.7                               6   \n",
       "9493                                    NaN                            <NA>   \n",
       "\n",
       "     Biossido di Zolfo_Indice numerico Biossido di Zolfo_Indice testuale  \\\n",
       "0                                    4                       Molto Buona   \n",
       "1                                    4                       Molto Buona   \n",
       "2                                    4                       Molto Buona   \n",
       "3                                    4                       Molto Buona   \n",
       "4                                    4                       Molto Buona   \n",
       "...                                ...                               ...   \n",
       "9489                                 4                       Molto Buona   \n",
       "9490                                 4                       Molto Buona   \n",
       "9491                                 4                       Molto Buona   \n",
       "9492                                 4                       Molto Buona   \n",
       "9493                              <NA>                                ND   \n",
       "\n",
       "     Biossido di Zolfo_Valore_interesse  ... PM10 (SM2005)_Indice testuale  \\\n",
       "0                                  35.5  ...                            ND   \n",
       "1                                  43.2  ...                            ND   \n",
       "2                                  51.1  ...                            ND   \n",
       "3                                  41.5  ...                            ND   \n",
       "4                                  39.2  ...                            ND   \n",
       "...                                 ...  ...                           ...   \n",
       "9489                                3.7  ...                        Scarsa   \n",
       "9490                                3.8  ...                        Scarsa   \n",
       "9491                                3.9  ...                        Scarsa   \n",
       "9492                                4.3  ...                        Scarsa   \n",
       "9493                                NaN  ...                            ND   \n",
       "\n",
       "     PM10 (SM2005)_Valore_interesse PM10 (SM2005)_Valore_interesse_std  \\\n",
       "0                               NaN                                NaN   \n",
       "1                               NaN                                NaN   \n",
       "2                               NaN                                NaN   \n",
       "3                               NaN                                NaN   \n",
       "4                               NaN                                NaN   \n",
       "...                             ...                                ...   \n",
       "9489                           52.9                                8.7   \n",
       "9490                           63.4                                9.5   \n",
       "9491                           60.6                               11.4   \n",
       "9492                           55.8                                7.5   \n",
       "9493                            NaN                                NaN   \n",
       "\n",
       "     Particelle sospese PM2.5_Count_sensori  \\\n",
       "0                                      <NA>   \n",
       "1                                      <NA>   \n",
       "2                                      <NA>   \n",
       "3                                      <NA>   \n",
       "4                                      <NA>   \n",
       "...                                     ...   \n",
       "9489                                      6   \n",
       "9490                                      6   \n",
       "9491                                      6   \n",
       "9492                                      6   \n",
       "9493                                   <NA>   \n",
       "\n",
       "     Particelle sospese PM2.5_Indice numerico  \\\n",
       "0                                        <NA>   \n",
       "1                                        <NA>   \n",
       "2                                        <NA>   \n",
       "3                                        <NA>   \n",
       "4                                        <NA>   \n",
       "...                                       ...   \n",
       "9489                                        1   \n",
       "9490                                        0   \n",
       "9491                                        0   \n",
       "9492                                        1   \n",
       "9493                                     <NA>   \n",
       "\n",
       "     Particelle sospese PM2.5_Indice testuale  \\\n",
       "0                                          ND   \n",
       "1                                          ND   \n",
       "2                                          ND   \n",
       "3                                          ND   \n",
       "4                                          ND   \n",
       "...                                       ...   \n",
       "9489                                   Scarsa   \n",
       "9490                             Molto Scarsa   \n",
       "9491                             Molto Scarsa   \n",
       "9492                                   Scarsa   \n",
       "9493                                       ND   \n",
       "\n",
       "     Particelle sospese PM2.5_Valore_interesse  \\\n",
       "0                                          NaN   \n",
       "1                                          NaN   \n",
       "2                                          NaN   \n",
       "3                                          NaN   \n",
       "4                                          NaN   \n",
       "...                                        ...   \n",
       "9489                                      46.0   \n",
       "9490                                      56.3   \n",
       "9491                                      56.2   \n",
       "9492                                      48.3   \n",
       "9493                                       NaN   \n",
       "\n",
       "     Particelle sospese PM2.5_Valore_interesse_std IQA_numerico           IQA  \n",
       "0                                              NaN            2   Accettabile  \n",
       "1                                              NaN            2   Accettabile  \n",
       "2                                              NaN            2   Accettabile  \n",
       "3                                              NaN            2   Accettabile  \n",
       "4                                              NaN            3         Buona  \n",
       "...                                            ...          ...           ...  \n",
       "9489                                           5.3            1        Scarsa  \n",
       "9490                                           9.2            0  Molto Scarsa  \n",
       "9491                                           7.7            0  Molto Scarsa  \n",
       "9492                                           7.5            1        Scarsa  \n",
       "9493                                           NaN         <NA>            ND  \n",
       "\n",
       "[9494 rows x 28 columns]"
      ]
     },
     "execution_count": 13,
     "metadata": {},
     "output_type": "execute_result"
    }
   ],
   "source": [
    "aria_milano_normalizzato"
   ]
  },
  {
   "cell_type": "code",
   "execution_count": 14,
   "id": "2ee9c8ac",
   "metadata": {
    "ExecuteTime": {
     "end_time": "2022-01-24T16:07:40.359630Z",
     "start_time": "2022-01-24T16:07:40.345534Z"
    }
   },
   "outputs": [
    {
     "data": {
      "text/plain": [
       "Data                                             datetime64[ns]\n",
       "Biossido di Azoto_Count_sensori                          object\n",
       "Biossido di Azoto_Indice numerico                        object\n",
       "Biossido di Azoto_Indice testuale                        object\n",
       "Biossido di Azoto_Valore_interesse                       object\n",
       "Biossido di Azoto_Valore_interesse_std                   object\n",
       "Biossido di Zolfo_Count_sensori                          object\n",
       "Biossido di Zolfo_Indice numerico                        object\n",
       "Biossido di Zolfo_Indice testuale                        object\n",
       "Biossido di Zolfo_Valore_interesse                       object\n",
       "Biossido di Zolfo_Valore_interesse_std                   object\n",
       "Ozono_Count_sensori                                      object\n",
       "Ozono_Indice numerico                                    object\n",
       "Ozono_Indice testuale                                    object\n",
       "Ozono_Valore_interesse                                   object\n",
       "Ozono_Valore_interesse_std                               object\n",
       "PM10 (SM2005)_Count_sensori                              object\n",
       "PM10 (SM2005)_Indice numerico                            object\n",
       "PM10 (SM2005)_Indice testuale                            object\n",
       "PM10 (SM2005)_Valore_interesse                           object\n",
       "PM10 (SM2005)_Valore_interesse_std                       object\n",
       "Particelle sospese PM2.5_Count_sensori                   object\n",
       "Particelle sospese PM2.5_Indice numerico                 object\n",
       "Particelle sospese PM2.5_Indice testuale                 object\n",
       "Particelle sospese PM2.5_Valore_interesse                object\n",
       "Particelle sospese PM2.5_Valore_interesse_std            object\n",
       "IQA_numerico                                              Int64\n",
       "IQA                                                      object\n",
       "dtype: object"
      ]
     },
     "execution_count": 14,
     "metadata": {},
     "output_type": "execute_result"
    }
   ],
   "source": [
    "aria_milano_normalizzato.dtypes"
   ]
  },
  {
   "cell_type": "code",
   "execution_count": 15,
   "id": "39eadb06",
   "metadata": {
    "ExecuteTime": {
     "end_time": "2022-01-24T16:07:40.405438Z",
     "start_time": "2022-01-24T16:07:40.360662Z"
    }
   },
   "outputs": [],
   "source": [
    "# Interi\n",
    "for col in [\n",
    "        'Biossido di Azoto_Count_sensori', 'Biossido di Azoto_Indice numerico',\n",
    "        'Biossido di Zolfo_Count_sensori', 'Biossido di Zolfo_Indice numerico',\n",
    "        'Ozono_Count_sensori', 'Ozono_Indice numerico',\n",
    "        'PM10 (SM2005)_Count_sensori', 'PM10 (SM2005)_Indice numerico',\n",
    "        'Particelle sospese PM2.5_Count_sensori',\n",
    "        'Particelle sospese PM2.5_Indice numerico'\n",
    "]:\n",
    "    aria_milano_normalizzato[col] = aria_milano_normalizzato[col].astype('Int64')\n",
    "\n",
    "# Float\n",
    "for col in [\n",
    "        'Biossido di Azoto_Valore_interesse',\n",
    "        'Biossido di Azoto_Valore_interesse_std',\n",
    "        'Biossido di Zolfo_Valore_interesse',\n",
    "        'Biossido di Zolfo_Valore_interesse_std', 'Ozono_Valore_interesse',\n",
    "        'Ozono_Valore_interesse_std', 'PM10 (SM2005)_Valore_interesse',\n",
    "        'PM10 (SM2005)_Valore_interesse_std',\n",
    "        'Particelle sospese PM2.5_Valore_interesse',\n",
    "        'Particelle sospese PM2.5_Valore_interesse_std'\n",
    "]:\n",
    "    aria_milano_normalizzato[col] = aria_milano_normalizzato[col].astype('float64')\n",
    "\n",
    "# Categoriche ordinali\n",
    "# Definisco le categorie e le ordino\n",
    "IQA_type = CategoricalDtype(categories=[\n",
    "    'Molto Buona', 'Buona', 'Accettabile', 'Scarsa', 'Molto Scarsa', 'ND'\n",
    "],\n",
    "                            ordered=True)\n",
    "# Assegno\n",
    "for col in [\n",
    "        'Biossido di Azoto_Indice testuale',\n",
    "        'Biossido di Zolfo_Indice testuale', 'Ozono_Indice testuale',\n",
    "        'PM10 (SM2005)_Indice testuale',\n",
    "        'Particelle sospese PM2.5_Indice testuale', 'IQA'\n",
    "]:\n",
    "    aria_milano_normalizzato[col] = aria_milano_normalizzato[col].astype(IQA_type)"
   ]
  },
  {
   "cell_type": "code",
   "execution_count": 16,
   "id": "2419c0ed",
   "metadata": {
    "ExecuteTime": {
     "end_time": "2022-01-24T16:07:40.420531Z",
     "start_time": "2022-01-24T16:07:40.406444Z"
    },
    "scrolled": false
   },
   "outputs": [
    {
     "data": {
      "text/plain": [
       "Data                                             datetime64[ns]\n",
       "Biossido di Azoto_Count_sensori                           Int64\n",
       "Biossido di Azoto_Indice numerico                         Int64\n",
       "Biossido di Azoto_Indice testuale                      category\n",
       "Biossido di Azoto_Valore_interesse                      float64\n",
       "Biossido di Azoto_Valore_interesse_std                  float64\n",
       "Biossido di Zolfo_Count_sensori                           Int64\n",
       "Biossido di Zolfo_Indice numerico                         Int64\n",
       "Biossido di Zolfo_Indice testuale                      category\n",
       "Biossido di Zolfo_Valore_interesse                      float64\n",
       "Biossido di Zolfo_Valore_interesse_std                  float64\n",
       "Ozono_Count_sensori                                       Int64\n",
       "Ozono_Indice numerico                                     Int64\n",
       "Ozono_Indice testuale                                  category\n",
       "Ozono_Valore_interesse                                  float64\n",
       "Ozono_Valore_interesse_std                              float64\n",
       "PM10 (SM2005)_Count_sensori                               Int64\n",
       "PM10 (SM2005)_Indice numerico                             Int64\n",
       "PM10 (SM2005)_Indice testuale                          category\n",
       "PM10 (SM2005)_Valore_interesse                          float64\n",
       "PM10 (SM2005)_Valore_interesse_std                      float64\n",
       "Particelle sospese PM2.5_Count_sensori                    Int64\n",
       "Particelle sospese PM2.5_Indice numerico                  Int64\n",
       "Particelle sospese PM2.5_Indice testuale               category\n",
       "Particelle sospese PM2.5_Valore_interesse               float64\n",
       "Particelle sospese PM2.5_Valore_interesse_std           float64\n",
       "IQA_numerico                                              Int64\n",
       "IQA                                                    category\n",
       "dtype: object"
      ]
     },
     "execution_count": 16,
     "metadata": {},
     "output_type": "execute_result"
    }
   ],
   "source": [
    "aria_milano_normalizzato.dtypes"
   ]
  },
  {
   "cell_type": "markdown",
   "id": "dec3d317",
   "metadata": {},
   "source": [
    "## Esportazione"
   ]
  },
  {
   "cell_type": "code",
   "execution_count": 17,
   "id": "8490a583",
   "metadata": {
    "ExecuteTime": {
     "end_time": "2022-01-24T16:07:40.545383Z",
     "start_time": "2022-01-24T16:07:40.421727Z"
    }
   },
   "outputs": [],
   "source": [
    "aria_milano_normalizzato.to_csv(f'{path}data_viz/aria_milano_96_21_normalizzato.csv')"
   ]
  }
 ],
 "metadata": {
  "kernelspec": {
   "display_name": "Python 3 (ipykernel)",
   "language": "python",
   "name": "python3"
  },
  "language_info": {
   "codemirror_mode": {
    "name": "ipython",
    "version": 3
   },
   "file_extension": ".py",
   "mimetype": "text/x-python",
   "name": "python",
   "nbconvert_exporter": "python",
   "pygments_lexer": "ipython3",
   "version": "3.9.7"
  },
  "toc": {
   "base_numbering": 1,
   "nav_menu": {},
   "number_sections": true,
   "sideBar": true,
   "skip_h1_title": false,
   "title_cell": "Table of Contents",
   "title_sidebar": "Contents",
   "toc_cell": false,
   "toc_position": {
    "height": "calc(100% - 180px)",
    "left": "10px",
    "top": "150px",
    "width": "174.825px"
   },
   "toc_section_display": true,
   "toc_window_display": false
  },
  "varInspector": {
   "cols": {
    "lenName": 16,
    "lenType": 16,
    "lenVar": 40
   },
   "kernels_config": {
    "python": {
     "delete_cmd_postfix": "",
     "delete_cmd_prefix": "del ",
     "library": "var_list.py",
     "varRefreshCmd": "print(var_dic_list())"
    },
    "r": {
     "delete_cmd_postfix": ") ",
     "delete_cmd_prefix": "rm(",
     "library": "var_list.r",
     "varRefreshCmd": "cat(var_dic_list()) "
    }
   },
   "position": {
    "height": "695.85px",
    "left": "1184.2px",
    "right": "20px",
    "top": "87px",
    "width": "313px"
   },
   "types_to_exclude": [
    "module",
    "function",
    "builtin_function_or_method",
    "instance",
    "_Feature"
   ],
   "window_display": false
  }
 },
 "nbformat": 4,
 "nbformat_minor": 5
}
